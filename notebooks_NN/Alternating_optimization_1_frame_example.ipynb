{
 "cells": [
  {
   "cell_type": "code",
   "execution_count": 1,
   "id": "6963bf93-a774-4b7f-b0b4-1ee1ca85e16b",
   "metadata": {},
   "outputs": [],
   "source": [
    "import torch\n",
    "import torch.nn as nn\n",
    "import torch.nn.functional as F\n",
    "import torch.optim as optim\n",
    "from torch.autograd import gradcheck\n",
    "import numpy as np\n",
    "import matplotlib.pyplot as plt\n",
    "import sys\n",
    "sys.path.append('../lib/')\n",
    "\n",
    "from sPOD_tools import sPOD_Param, shifted_POD_BFB\n",
    "from transforms import transforms\n",
    "from scipy.ndimage import shift\n",
    "from math import sqrt\n",
    "from scipy.sparse import diags\n",
    "from scipy.linalg import cholesky"
   ]
  },
  {
   "cell_type": "markdown",
   "id": "ad91d999-b9a0-4eb1-87a5-f83d4a535ff3",
   "metadata": {},
   "source": [
    "## Create MATRIX data"
   ]
  },
  {
   "cell_type": "code",
   "execution_count": 2,
   "id": "9784ddd8-ffc5-40a7-9129-6489bebf2b26",
   "metadata": {},
   "outputs": [],
   "source": [
    "rows, cols, sigma = 400, 200, 5.0\n",
    "coefficients1 = [-3,5]\n",
    "coefficients2 = [0.15,0,0.8,-1.5]\n",
    "center_of_matrix = rows//2"
   ]
  },
  {
   "cell_type": "code",
   "execution_count": 3,
   "id": "591f5510-7a71-4d05-8891-0dc20ac11930",
   "metadata": {},
   "outputs": [],
   "source": [
    "# define shift by passing coefficients in polynom\n",
    "t_values = np.linspace(-10, 10, cols)\n",
    "shifted_t_values = np.polyval(coefficients2,t_values)"
   ]
  },
  {
   "cell_type": "code",
   "execution_count": 4,
   "id": "c1a73b5f-aef7-46e2-84b0-580987b2caa4",
   "metadata": {},
   "outputs": [],
   "source": [
    "# Gaussian function\n",
    "def gaussian(x, mu, sigma=1.0):\n",
    "    return np.exp(-np.power(x - mu, 2.0) / (2 * np.power(sigma, 2.0)))\n",
    "\n",
    "def create_gaussian_time_matrix(rows=500, cols=50, sigma=1.0, center_of_matrix=20):\n",
    "    matrix = np.zeros((rows, cols))\n",
    "    for col in range(cols):\n",
    "        for row in range(rows):\n",
    "            matrix[row, col] = gaussian(row, center_of_matrix, sigma)\n",
    "    matrix /= np.max(matrix)\n",
    "    \n",
    "    return matrix\n"
   ]
  },
  {
   "cell_type": "code",
   "execution_count": 5,
   "id": "d97099bc-9e3e-4705-b76a-83fa0a616335",
   "metadata": {},
   "outputs": [],
   "source": [
    "Q_orig = create_gaussian_time_matrix(rows, cols, sigma, center_of_matrix)\n",
    "qs = torch.tensor(Q_orig, requires_grad=False)"
   ]
  },
  {
   "cell_type": "markdown",
   "id": "93562770-b1f8-40d0-b521-4d17418e821b",
   "metadata": {},
   "source": [
    "# Cubic spline interpolation class"
   ]
  },
  {
   "cell_type": "code",
   "execution_count": 6,
   "id": "e03f1b87-a1c8-476c-8d81-2994da1daccd",
   "metadata": {},
   "outputs": [],
   "source": [
    "class SplineInterpolation:\n",
    "    def __init__(self, params):\n",
    "        self.params = params\n",
    "        self.A1, self.D1, self.D2, self.R = self.give_spline_coefficient_matrices()\n",
    "\n",
    "    def give_spline_coefficient_matrices(self):\n",
    "        Nxi = params['geometry']['Nxi']\n",
    "        # Initialize matrices\n",
    "        # Create the A1 matrix\n",
    "        diagonals = np.ones((Nxi, 1)) * np.array([1, 2, 1])\n",
    "        offsets = [-1, 0, Nxi-1]\n",
    "        A1_np = diags(diagonals.T, offsets, shape=(Nxi, Nxi)).toarray()\n",
    "        A1 = torch.tensor(A1_np, dtype=torch.float64)\n",
    "\n",
    "        # Create the D1 matrix\n",
    "        diagonals = np.ones((Nxi, 1)) * np.array([-1, 1, -1])\n",
    "        D1_np = diags(diagonals.T, offsets, shape=(Nxi, Nxi)).toarray()\n",
    "        D1 = torch.tensor(D1_np, dtype=torch.float64)\n",
    "\n",
    "        # Create the D2 matrix\n",
    "        diagonals = np.ones((Nxi, 1)) * np.array([1, 1, -2, 1, 1])\n",
    "        offsets = [-(Nxi-1), -1, 0, 1, Nxi-1]\n",
    "        D2_np = diags(diagonals.T, offsets, shape=(Nxi, Nxi)).toarray()\n",
    "        D2 = torch.tensor(D2_np, dtype=torch.float64)\n",
    "\n",
    "        # Create the M matrix and compute its Cholesky decomposition\n",
    "        diagonals = np.ones((Nxi, 1)) * np.array([1, 1, 4, 1, 1])\n",
    "        M_np = diags(diagonals.T, offsets, shape=(Nxi, Nxi)).toarray()\n",
    "        R_np = cholesky(M_np)\n",
    "        R = torch.tensor(R_np, dtype=torch.float64)\n",
    "        \n",
    "        return A1, D1, D2, R\n",
    "\n",
    "    def construct_spline_coeffs_periodic(self, qs):\n",
    "        n = qs.shape[1]\n",
    "        #import pdb; pdb.set_trace()\n",
    "        # grid size:\n",
    "        dxi = params['geometry']['dxi']\n",
    "\n",
    "        # compute the spline coefficients:\n",
    "        if qs.ndim == 1:  # case of just one data set\n",
    "            spline_coeffs = {\n",
    "                'a': qs,\n",
    "                'c': (3 / dxi ** 2) * torch.solve(D2 @ qs, R)[0],\n",
    "                'b': None,\n",
    "                'd': None\n",
    "            }\n",
    "            spline_coeffs['b'] = (1 / dxi) * (self.D1 @ qs) + (dxi / 3) * (self.A1 @ spline_coeffs['c'])\n",
    "            spline_coeffs['d'] = (1 / (3 * dxi)) * (self.D1 @ spline_coeffs['c'])\n",
    "        else:  # case of multiple data sets\n",
    "            spline_coeffs = {'a': qs, 'b': qs.clone(), 'c': qs.clone(), 'd': qs.clone()}\n",
    "            #import pdb; pdb.set_trace()\n",
    "            for i in range(n):\n",
    "                # Assign the solved result to spline_coeffs\n",
    "                spline_coeffs['c'][:, i] = (3 / dxi**2) * torch.linalg.solve(self.R, torch.linalg.solve(self.R.T, self.D2 @ qs[:, i]))\n",
    "                spline_coeffs['b'][:, i] = (1 / dxi) * (self.D1 @ qs[:, i]) + (dxi / 3) * (self.A1 @ spline_coeffs['c'][:, i])\n",
    "                spline_coeffs['d'][:, i] = (1 / (3 * dxi)) * (self.D1 @ spline_coeffs['c'][:, i])\n",
    "\n",
    "        return spline_coeffs\n",
    "\n",
    "    def forward(self, qs, cs):\n",
    "        self.A1, self.D1, self.D2, self.R = self.give_spline_coefficient_matrices()\n",
    "        # Compute spline coefficients\n",
    "        spline_coeffs = self.construct_spline_coeffs_periodic(qs)\n",
    "\n",
    "        # Shift the data set\n",
    "        qs_shifted = self.shift_matrix_periodic_precomputed_coeffs(cs, spline_coeffs)\n",
    "        return qs_shifted\n",
    "\n",
    "    def backward(self, qs, cs):\n",
    "        # Compute spline coefficients\n",
    "        spline_coeffs = self.construct_spline_coeffs_periodic(qs)\n",
    "\n",
    "        # Compute the derivative of the shifted data set\n",
    "        qs_derivative_shifted = self.shiftMatrix_derivative_periodic_precomputedCoeffs(cs, spline_coeffs)\n",
    "        return qs_derivative_shifted\n",
    "\n",
    "    def shift_matrix_periodic_precomputed_coeffs(self, cs, spline_coeffs):\n",
    "        # Extract spline coefficients\n",
    "        a = spline_coeffs['a']\n",
    "        b = spline_coeffs['b']\n",
    "        c = spline_coeffs['c']\n",
    "        d = spline_coeffs['d']\n",
    "\n",
    "        # Number of grid points\n",
    "        m = params['geometry']['Nxi']\n",
    "\n",
    "        # Number of data sets\n",
    "        n = a.shape[1]\n",
    "\n",
    "        # Grid size\n",
    "        dxi = params['geometry']['dxi']\n",
    "\n",
    "        # Length of computational domain\n",
    "        L = m * dxi\n",
    "\n",
    "        # Compute csTilde = cs modulo L\n",
    "        q1 = torch.floor(cs / L)\n",
    "        csTilde = cs - q1 * L\n",
    "        # Compute zeta = csTilde modulo dxi\n",
    "        q2 = torch.floor(csTilde / dxi)\n",
    "        zeta = csTilde - q2 * dxi\n",
    "\n",
    "        # Compute shifted version of the data set(s)\n",
    "        if a.ndim == 1:  # Case of only one data set\n",
    "            if cs.ndim == 1:  # If cs is a vector, then the data set is shifted by multiple shift amounts\n",
    "                zeta = zeta.reshape(1, -1)  # Ensure zeta is a row vector\n",
    "                # Compute interpolated data set\n",
    "                qsInterpolated = a - torch.matmul(b.unsqueeze(1), zeta) + torch.matmul(c.unsqueeze(1), zeta ** 2) - torch.matmul(d.unsqueeze(1), zeta ** 3)\n",
    "                # Compute shifted data set\n",
    "                qsShifted[:, i] = torch.cat((qsInterpolated[m - int(q2[i].item()):], qsInterpolated[:m - int(q2[i].item())]), dim=0)\n",
    "\n",
    "            else:\n",
    "                qsInterpolated = a - zeta * b + zeta ** 2 * c - zeta ** 3 * d\n",
    "                qsShifted = torch.cat((qsInterpolated[m - int(q2[i].item()):], qsInterpolated[:m - int(q2[i].item())]))\n",
    "        else:  # Case of multiple data sets\n",
    "            if torch.is_tensor(q2) and q2.numel() == 1:\n",
    "                q2 = q2.repeat(n)\n",
    "                zeta = zeta.repeat(n)\n",
    "            qsShifted = torch.zeros((m, n))\n",
    "            for i in range(n):\n",
    "                # Compute interpolated data set\n",
    "                qsInterpolated = a[:, i] - zeta[i] * b[:, i] + zeta[i] ** 2 * c[:, i] - zeta[i] ** 3 * d[:, i]\n",
    "                # Compute shifted data set\n",
    "                qsShifted[:, i] = torch.cat((qsInterpolated[m - int(q2[i].item()):], qsInterpolated[:m - int(q2[i].item())]), dim=0)\n",
    "\n",
    "\n",
    "        return qsShifted\n",
    "\n",
    "    def shiftMatrix_derivative_periodic_precomputedCoeffs(self, cs, splineCoeffs):\n",
    "        # Extracting spline coefficients\n",
    "        b = splineCoeffs['b']\n",
    "        c = splineCoeffs['c']\n",
    "        d = splineCoeffs['d']\n",
    "        \n",
    "        # Number of grid points\n",
    "        m = params['geometry']['Nxi']\n",
    "\n",
    "        # Number of data sets\n",
    "        n = b.shape[1]\n",
    "\n",
    "        # Grid size\n",
    "        dxi = params['geometry']['dxi']\n",
    "\n",
    "        # Length of computational domain\n",
    "        L = m * dxi\n",
    "\n",
    "        # Compute csTilde = cs modulo L\n",
    "        q1 = torch.floor(cs / L)\n",
    "        csTilde = cs - q1 * L\n",
    "\n",
    "        # Compute zeta = csTilde modulo dxi\n",
    "        q2 = torch.floor(csTilde / dxi)\n",
    "        zeta = csTilde - q2 * dxi\n",
    "        #import pdb; pdb.set_trace()\n",
    "\n",
    "        # Compute derivative of shifted data set(s)\n",
    "        if b.dim() == 1:  # Case of only one data set\n",
    "            if cs.dim() == 1:  # if cs is a vector\n",
    "                if zeta.dim() == 1:\n",
    "                    zeta = zeta.unsqueeze(0)\n",
    "                qsInterpolated = -b + 2 * c * zeta - 3 * d * zeta.pow(2)\n",
    "                qsShifted[:, i] = torch.cat((qsInterpolated[m - int(q2[i].item()):], qsInterpolated[:m - int(q2[i].item())]), dim=0)\n",
    "            else:\n",
    "                qsInterpolated = -b + 2 * zeta * c - 3 * zeta.pow(2) * d\n",
    "                qsShifted = torch.cat((qsInterpolated[m - int(q2[i].item()):], qsInterpolated[:m - int(q2[i].item())]))\n",
    "        else:  # Case of multiple data sets\n",
    "            if torch.is_tensor(q2) and torch.numel(q2) == 1:\n",
    "                q2 = q2.repeat(n)\n",
    "                zeta = zeta.repeat(n)\n",
    "            qsShifted = torch.zeros((m, n), dtype=b.dtype, device=b.device)\n",
    "            for i in range(n):\n",
    "                qsInterpolated = -b[:, i] + 2 * zeta[i] * c[:, i] - 3 * zeta[i].pow(2) * d[:, i]\n",
    "                qsShifted[:, i] = torch.cat((qsInterpolated[m - int(q2[i].item()):], qsInterpolated[:m - int(q2[i].item())]), dim=0)\n",
    "\n",
    "        return qsShifted"
   ]
  },
  {
   "cell_type": "markdown",
   "id": "a50d74f6-f86b-4950-94ea-74e9a633f613",
   "metadata": {},
   "source": [
    "## Define parameters for spline interpolation"
   ]
  },
  {
   "cell_type": "code",
   "execution_count": 7,
   "id": "5003a890-a2b2-414d-9be0-0ca78113d0ad",
   "metadata": {},
   "outputs": [],
   "source": [
    "x = np.arange(0,rows)\n",
    "cs = torch.tensor(shifted_t_values, requires_grad=True)\n",
    "dx = x[1] - x[0]\n",
    "params = {'geometry': {'Nxi': rows, 'dxi': dx}, 'interpolation': {}}"
   ]
  },
  {
   "cell_type": "code",
   "execution_count": 8,
   "id": "c3616fdb-15e8-4ec0-99da-eb34a7d23854",
   "metadata": {},
   "outputs": [],
   "source": [
    "spline_interpolator = SplineInterpolation(params)\n",
    "qs_shifted = spline_interpolator.forward(qs.double(), cs.double()) # shifted snapshot matrix\n",
    "q_reverse_shifted = spline_interpolator.forward(qs_shifted.double(), -cs.double()) # shift shifted snapshot matrix back\n",
    "q_reverse_shifted_reverse = spline_interpolator.forward(q_reverse_shifted.double(), cs.double()) # shift shifted snapshot matrix back\n",
    "qs_derivative_shifted = spline_interpolator.backward(qs.double(), cs.double()) # derivative of shifted snaphot matrix"
   ]
  },
  {
   "cell_type": "code",
   "execution_count": 9,
   "id": "b7e40bad-245c-4c39-baa2-a41134b9d115",
   "metadata": {},
   "outputs": [
    {
     "name": "stdout",
     "output_type": "stream",
     "text": [
      "1.5513685278477378e-05\n"
     ]
    }
   ],
   "source": [
    "# Relative error\n",
    "print(np.linalg.norm(qs.detach().numpy() - q_reverse_shifted.detach().numpy())/np.linalg.norm(qs.detach().numpy()))"
   ]
  },
  {
   "cell_type": "code",
   "execution_count": 10,
   "id": "63195002-a623-4495-9b5f-d3aaccc08f42",
   "metadata": {
    "tags": []
   },
   "outputs": [
    {
     "data": {
      "text/plain": [
       "Text(0.5, 1.0, 'Snapshot Matrix with Polynomial Shift')"
      ]
     },
     "execution_count": 10,
     "metadata": {},
     "output_type": "execute_result"
    },
    {
     "data": {
      "image/png": "[encoded data removed]",
      "text/plain": [
       "<Figure size 1440x432 with 3 Axes>"
      ]
     },
     "metadata": {
      "needs_background": "light"
     },
     "output_type": "display_data"
    }
   ],
   "source": [
    "# Plotting\n",
    "fig, ax = plt.subplots(1, 3, figsize=(20, 6))\n",
    "\n",
    "# Without shift\n",
    "ax[0].imshow(qs.detach().numpy(), cmap='hot', interpolation='nearest', aspect='auto')\n",
    "ax[0].set_title('Snapshot Matrix without shift')\n",
    "\n",
    "# With inverse shift\n",
    "ax[1].imshow(q_reverse_shifted.detach().numpy(), cmap='hot', interpolation='nearest', aspect='auto')\n",
    "ax[1].set_title('Snapshot Matrix with inverse Polynomial Shift')\n",
    "\n",
    "# With shift\n",
    "ax[2].imshow(qs_shifted.detach().numpy(), cmap='hot', interpolation='nearest', aspect='auto')\n",
    "ax[2].set_title('Snapshot Matrix with Polynomial Shift')"
   ]
  },
  {
   "cell_type": "markdown",
   "id": "43a245f1-e752-4c4f-833d-360d6ebc8989",
   "metadata": {},
   "source": [
    "## Check if gradients for spline interpolation are calculated correctly"
   ]
  },
  {
   "cell_type": "code",
   "execution_count": 11,
   "id": "727ae527-efeb-4617-b0e2-ea91a0612a15",
   "metadata": {
    "tags": []
   },
   "outputs": [],
   "source": [
    "#from torch.autograd import gradcheck\n",
    "\n",
    "#spline_interpolator = SplineInterpolation(params)\n",
    "\n",
    "#test = gradcheck(spline_interpolator.backward, (qs.double(), cs.double()), eps=1e-5)\n",
    "#print(\"Gradient check passed:\", test)\n"
   ]
  },
  {
   "cell_type": "markdown",
   "id": "fa9deb0f-c6ed-4cfc-a618-34dcd83258d6",
   "metadata": {},
   "source": [
    "## Define a shift model"
   ]
  },
  {
   "cell_type": "code",
   "execution_count": 12,
   "id": "a010ee80-d476-4394-9683-da9154e262d3",
   "metadata": {},
   "outputs": [],
   "source": [
    "class ShiftPredictionModel(nn.Module):\n",
    "    def __init__(self, p_init_coeffs):\n",
    "        super(ShiftPredictionModel, self).__init__()\n",
    "        self.p_coefficients = nn.ParameterList(\n",
    "            [nn.Parameter(torch.tensor([coeff], dtype=torch.float64), requires_grad=True) for coeff in p_init_coeffs[::-1]]\n",
    "        )\n",
    "    def forward(self,t):\n",
    "        return sum([coeff * t**i for i, coeff in enumerate(self.p_coefficients)])\n"
   ]
  },
  {
   "cell_type": "markdown",
   "id": "81f48c40-3a6d-47e2-8bc4-3a3fcdabf1ae",
   "metadata": {},
   "source": [
    "## Define Nuclear Norm class"
   ]
  },
  {
   "cell_type": "code",
   "execution_count": 13,
   "id": "1494f051-44c7-4e5d-a8ab-3ce664d73321",
   "metadata": {},
   "outputs": [],
   "source": [
    "class NuclearNormAutograd(torch.autograd.Function):\n",
    "    @staticmethod\n",
    "    def forward(ctx, input_matrix):\n",
    "        ctx.save_for_backward(input_matrix)\n",
    "        return torch.linalg.matrix_norm(input_matrix, ord=\"nuc\")\n",
    "\n",
    "    @staticmethod\n",
    "    def backward(ctx, grad_output):\n",
    "        input_matrix, = ctx.saved_tensors\n",
    "        u, s, v = torch.svd(input_matrix, some=True)\n",
    "        rank = torch.sum(s > 0).item()\n",
    "        dtype = input_matrix.dtype\n",
    "        eye_approx = torch.diag_embed((s > 0).to(dtype))[:s.size(0), :s.size(0)]\n",
    "        grad_input = torch.matmul(torch.matmul(u[:, :rank], eye_approx), v[:, :rank].t())\n",
    "        return grad_input * grad_output"
   ]
  },
  {
   "cell_type": "markdown",
   "id": "0b568603-e7e7-44b1-80db-433f2ad95b0d",
   "metadata": {},
   "source": [
    "## Check if gradients for nuclear norm are calculated correctly"
   ]
  },
  {
   "cell_type": "code",
   "execution_count": 14,
   "id": "ab1c412a-2e9a-43c3-8212-1b465225cd6c",
   "metadata": {},
   "outputs": [],
   "source": [
    "#input_matrix = torch.randn(5, 5, dtype=torch.double, requires_grad=True) #torch.tensor(qs, dtype=torch.double, requires_grad=True)\n",
    "\n",
    "#gradcheck_success = gradcheck(NuclearNormAutograd.apply, input_matrix, eps=1e-05, atol=1e-4)\n",
    "#print(\"Gradient check passed:\", gradcheck_success)"
   ]
  },
  {
   "cell_type": "markdown",
   "id": "439ee6db-de26-4d05-aa3c-5ec1d90b0b0d",
   "metadata": {
    "tags": []
   },
   "source": [
    "## Combine with ADM Algorithm"
   ]
  },
  {
   "cell_type": "code",
   "execution_count": 15,
   "id": "93d560e8-f7a7-4a41-9398-30fba74568a2",
   "metadata": {},
   "outputs": [],
   "source": [
    "def generate_data(Nx, Nt, center_of_matrix, coefficients):\n",
    "    L = Nx  # total domain size\n",
    "    sigma = 5.0\n",
    "    x = np.arange(0, Nx)\n",
    "    t = np.linspace(-10, 10, cols)\n",
    "    dx = x[1] - x[0]\n",
    "    dt = t[1] - t[0]\n",
    "    [X, T] = np.meshgrid(x, t)\n",
    "    X = X.T\n",
    "    T = T.T    \n",
    "\n",
    "    def gaussian(x, mu, sigma=1.0):\n",
    "        return np.exp(-np.power(x - mu, 2.0) / (2 * np.power(sigma, 2.0)))\n",
    "\n",
    "    Q = np.zeros_like(X, dtype=np.float64)\n",
    "    t_values = np.linspace(-10, 10, Nt)\n",
    "    shift1 = np.polyval(coefficients, t_values)\n",
    "    shift_list = [-shift1]\n",
    "    nmodes = [5]\n",
    "    for col in range(Nt):\n",
    "        for row in range(Nx):\n",
    "            Q[row, col] = gaussian(row, center_of_matrix + shift1[col], sigma)\n",
    "    Q /= np.max(Q)\n",
    "    \n",
    "    return Q, shift_list, nmodes, L, dx"
   ]
  },
  {
   "cell_type": "code",
   "execution_count": 16,
   "id": "42bc2c6b-8870-4331-8a6c-a38fff8a4ec4",
   "metadata": {},
   "outputs": [],
   "source": [
    "p_coefficients_init = [0,0,3,1]\n",
    "t_values_tensor = torch.linspace(-10, 10, cols,dtype=torch.float64)\n",
    "true_loss = (NuclearNormAutograd.apply(qs) + torch.norm(qs_shifted - q_reverse_shifted_reverse, 'fro')**2)# - loss"
   ]
  },
  {
   "cell_type": "code",
   "execution_count": 17,
   "id": "d53147b8-cc2f-4bda-946b-21a83dc022e1",
   "metadata": {},
   "outputs": [],
   "source": [
    "init_cs = np.polyval(p_coefficients_init,t_values)\n",
    "x_values = np.arange(cols)\n",
    "shift_vector_init = center_of_matrix + init_cs"
   ]
  },
  {
   "cell_type": "code",
   "execution_count": 18,
   "id": "51449b9f-210b-4050-be01-b7ae431b6efd",
   "metadata": {},
   "outputs": [
    {
     "name": "stdout",
     "output_type": "stream",
     "text": [
      "Setting up the shift matrices, with interpolation order:\n",
      "Forward T^k:     O(h^5)\n",
      "Backward T^(-k): O(h^5)\n"
     ]
    }
   ],
   "source": [
    "data_shape = [rows,1,1,cols]\n",
    "fields, _, nmodes, L, dx = generate_data(rows, cols, center_of_matrix, coefficients2)\n",
    "qmat = np.reshape(fields, [rows, cols])\n",
    "trafos = [\n",
    "    transforms(data_shape, [L], shifts=-init_cs, dx=[dx], interp_order=5),\n",
    "]"
   ]
  },
  {
   "cell_type": "code",
   "execution_count": 19,
   "id": "b074147f-1e25-41a6-9661-9924c365c8fe",
   "metadata": {},
   "outputs": [
    {
     "name": "stdout",
     "output_type": "stream",
     "text": [
      "rel-error using svd with 5 modes:6.7392e-01\n",
      "34\n",
      "Iter    1 / Rel_error= 1.0000e+00 | t_cpu = 0.08s\n",
      "34\n",
      "Iter    2 / Rel_error= 1.4714e-01 | t_cpu = 0.04s\n",
      "34\n",
      "Iter    3 / Rel_error= 1.4714e-01 | t_cpu = 0.03s\n",
      "34\n",
      "Iter    4 / Rel_error= 1.4714e-01 | t_cpu = 0.04s\n",
      "CPU time in total:  0.1912534319999395\n"
     ]
    }
   ],
   "source": [
    "myparams = sPOD_Param(maxit=100, lambda_s=1)\n",
    "ret = shifted_POD_BFB(qmat, trafos, nmodes, myparams) # Use BFB algorithm, but we can also use JFB or ALM\n",
    "sPOD_frames, qtilde, rel_err = ret.frames, ret.data_approx, ret.rel_err_hist\n",
    "qf = [\n",
    "    np.squeeze(np.reshape(frame.build_field(),data_shape))\n",
    "    for trafo, frame in zip(trafos, ret.frames)\n",
    "]"
   ]
  },
  {
   "cell_type": "markdown",
   "id": "562b7f63-2f9d-43fa-9263-35f423745f0d",
   "metadata": {},
   "source": [
    "## Train model"
   ]
  },
  {
   "cell_type": "code",
   "execution_count": 20,
   "id": "27ac647c-c861-4201-8090-da0b12092207",
   "metadata": {},
   "outputs": [],
   "source": [
    "model = ShiftPredictionModel(p_init_coeffs=p_coefficients_init)\n",
    "model.to(torch.float64)\n",
    "\n",
    "optimizer = optim.Adam(model.parameters(), lr=0.01)\n",
    "epochs = 1000"
   ]
  },
  {
   "cell_type": "code",
   "execution_count": 21,
   "id": "20ac6ba0-44ce-4c19-9e4c-48ffaddf1c11",
   "metadata": {},
   "outputs": [],
   "source": [
    "Q_tensor = torch.tensor(qmat)"
   ]
  },
  {
   "cell_type": "code",
   "execution_count": 22,
   "id": "feedac3b-4ab2-4555-8fc2-245c70704c22",
   "metadata": {
    "scrolled": true,
    "tags": []
   },
   "outputs": [
    {
     "name": "stdout",
     "output_type": "stream",
     "text": [
      "Start of Iteration number 0.\n",
      "Setting up the shift matrices, with interpolation order:\n",
      "Forward T^k:     O(h^5)\n",
      "Backward T^(-k): O(h^5)\n",
      "rel-error using svd with 5 modes:6.7392e-01\n",
      "34\n",
      "Iter    1 / Rel_error= 1.0000e+00 | t_cpu = 0.15s\n",
      "34\n",
      "Iter    2 / Rel_error= 1.4714e-01 | t_cpu = 0.08s\n",
      "CPU time in total:  0.22921879600016837\n"
     ]
    },
    {
     "name": "stderr",
     "output_type": "stream",
     "text": [
      "\n",
      "KeyboardInterrupt\n",
      "\n"
     ]
    }
   ],
   "source": [
    "it = 0\n",
    "shift_ = init_cs\n",
    "threshold = 1e-4\n",
    "previous_loss = float('inf') \n",
    "while it < 300:\n",
    "    print(f\"Start of Iteration number {it}.\")\n",
    "    trafos = [\n",
    "        transforms(data_shape, [L], shifts=-shift_, dx=[dx], interp_order=5),\n",
    "    ]\n",
    "    \n",
    "    myparams = sPOD_Param(maxit=2, lambda_s=1)\n",
    "    ret = shifted_POD_BFB(Q_tensor, trafos, nmodes, myparams)\n",
    "    \n",
    "    sPOD_frames, qtilde, rel_err = ret.frames, ret.data_approx, ret.rel_err_hist\n",
    "\n",
    "    Qk = [\n",
    "        np.squeeze(np.reshape(frame.build_field(), data_shape))\n",
    "        for trafo, frame in zip(trafos, ret.frames)\n",
    "    ]\n",
    "    Q1_tensor = torch.tensor(Qk[0])\n",
    "    Q1 = Qk[0]\n",
    "    for epoch in range(epochs):\n",
    "        model.train()\n",
    "        optimizer.zero_grad()\n",
    "        y_pred_pol = model(t_values_tensor) # model give a shift vector (for degree 2: (y=a1*t+a0))\n",
    "        T1Q = spline_interpolator.forward(Q1_tensor.double(), y_pred_pol.double()) # calculate T(Q^1)\n",
    "        loss = torch.norm(Q_tensor - T1Q.double(), 'fro')**2 + NuclearNormAutograd.apply(Q1_tensor) # calculate ||Q - T^1(Q^1) - T^2(Q^2)||\n",
    "\n",
    "        loss.backward(retain_graph=True)\n",
    "\n",
    "        optimizer.step()\n",
    "\n",
    "        if epoch % 100 == 0:\n",
    "            print(f'Epoch [{epoch}/{epochs}], Loss: {loss.item():.4f}') #,Coefficients_1:{[coefficients1[::-1][i] for i in range(len(coefficients1))]}{p_coefficients}')\n",
    "        \n",
    "        diff = true_loss - loss\n",
    "        if torch.abs(diff) <= 0.2:\n",
    "            print(f\"Stopping training at epoch {epoch} due to minimal loss.\")\n",
    "            break\n",
    "            \n",
    "        if abs(loss - previous_loss) < threshold:\n",
    "            print(f\"Stopping training at epoch {epoch} due to minimal loss change.\")\n",
    "            break\n",
    "        previous_loss = loss\n",
    "        \n",
    "    print(f\"Model training complete.\")\n",
    "    if torch.abs(diff) <= 0.2:\n",
    "        print(f\"DONE. LOSS is {loss}\")\n",
    "        break\n",
    "    \n",
    "    shift_ = y_pred_pol.detach().numpy()\n",
    "    it += 1\n"
   ]
  },
  {
   "cell_type": "code",
   "execution_count": 23,
   "id": "50989e83-af86-4a6c-a92b-6a17dd5ca603",
   "metadata": {},
   "outputs": [
    {
     "data": {
      "text/plain": [
       "<matplotlib.colorbar.Colorbar at 0x7f6d93746110>"
      ]
     },
     "execution_count": 23,
     "metadata": {},
     "output_type": "execute_result"
    },
    {
     "data": {
      "image/png": "[encoded data removed]",
      "text/plain": [
       "<Figure size 1296x432 with 4 Axes>"
      ]
     },
     "metadata": {
      "needs_background": "light"
     },
     "output_type": "display_data"
    }
   ],
   "source": [
    "# Plotting\n",
    "\n",
    "shift_vector_after_training = center_of_matrix + shifted_t_values\n",
    "\n",
    "fig, axs = plt.subplots(1, 3, figsize=(18, 6))\n",
    "vmin = np.min(qmat)\n",
    "vmax = np.max(qmat)\n",
    "\n",
    "#Qtilde\n",
    "axs[0].pcolor(qmat, vmin=vmin, vmax=vmax, cmap=\"viridis\")\n",
    "axs[0].set_title(r\"$\\mathbf{Q}$\")\n",
    "axs[0].plot(x_values, shift_vector_init, 'w-', linewidth=2)\n",
    "axs[0].plot(x_values, shift_vector_after_training, 'r--', linewidth=2)\n",
    "axs[0].set_xlabel(\"t\")\n",
    "axs[0].set_ylabel(\"x\")\n",
    "axs[0].set_xticks([])\n",
    "axs[0].set_yticks([])\n",
    "\n",
    "#Qtilde\n",
    "axs[1].pcolor(qtilde, vmin=vmin, vmax=vmax, cmap=\"viridis\")\n",
    "axs[1].set_title(r\"$\\tilde{\\mathbf{Q}}$\")\n",
    "axs[1].set_xlabel(\"t\")\n",
    "axs[1].set_ylabel(\"x\")\n",
    "axs[1].set_xticks([])\n",
    "axs[1].set_yticks([])\n",
    "\n",
    "cax3 = axs[2].pcolor(Qk[0], vmin=vmin, vmax=vmax, cmap=\"viridis\")\n",
    "axs[2].set_title(r\"$\\mathbf{\\hat{Q}}$\")\n",
    "axs[2].set_xlabel(\"t\")\n",
    "axs[2].set_ylabel(\"x\")\n",
    "axs[2].set_xticks([])\n",
    "axs[2].set_yticks([])\n",
    "\n",
    "plt.colorbar(cax3, ax=axs.ravel().tolist(), orientation='vertical')\n",
    "\n"
   ]
  },
  {
   "cell_type": "code",
   "execution_count": null,
   "id": "6c32390b-f95f-401e-b922-3fdbd042691a",
   "metadata": {},
   "outputs": [],
   "source": []
  }
 ],
 "metadata": {
  "kernelspec": {
   "display_name": "Python 3 (ipykernel)",
   "language": "python",
   "name": "python3"
  },
  "language_info": {
   "codemirror_mode": {
    "name": "ipython",
    "version": 3
   },
   "file_extension": ".py",
   "mimetype": "text/x-python",
   "name": "python",
   "nbconvert_exporter": "python",
   "pygments_lexer": "ipython3",
   "version": "3.11.2"
  }
 },
 "nbformat": 4,
 "nbformat_minor": 5
}
