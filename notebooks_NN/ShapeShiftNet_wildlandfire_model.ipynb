{
 "cells": [
  {
   "cell_type": "code",
   "execution_count": 1,
   "id": "6963bf93-a774-4b7f-b0b4-1ee1ca85e16b",
   "metadata": {},
   "outputs": [],
   "source": [
    "import torch\n",
    "import torch.nn as nn\n",
    "import torch.nn.functional as F\n",
    "from numpy import meshgrid\n",
    "import torch.optim as optim\n",
    "from torch.utils.data import TensorDataset, DataLoader, Dataset\n",
    "from torch.autograd import gradcheck\n",
    "import numpy as np\n",
    "import matplotlib.pyplot as plt\n",
    "from scipy.ndimage import shift\n",
    "from math import sqrt\n",
    "from scipy.sparse import diags\n",
    "from scipy.linalg import cholesky"
   ]
  },
  {
   "cell_type": "markdown",
   "id": "ad91d999-b9a0-4eb1-87a5-f83d4a535ff3",
   "metadata": {},
   "source": [
    "## Load WILDFIRE 1D data"
   ]
  },
  {
   "cell_type": "code",
   "execution_count": 2,
   "id": "9784ddd8-ffc5-40a7-9129-6489bebf2b26",
   "metadata": {},
   "outputs": [
    {
     "data": {
      "text/plain": [
       "<torch._C.Generator at 0x7f18b82a1ad0>"
      ]
     },
     "execution_count": 2,
     "metadata": {},
     "output_type": "execute_result"
    }
   ],
   "source": [
    "Q_wf = np.load('Wildlandfire_1d/SnapShotMatrix558.49.npy', allow_pickle=True)\n",
    "t = np.load('Wildlandfire_1d/Time.npy', allow_pickle=True)\n",
    "x_grid = np.load('Wildlandfire_1d/1D_Grid.npy', allow_pickle=True)\n",
    "x = x_grid[0]\n",
    "T = Q_wf[:len(x), :]\n",
    "seed = 420\n",
    "torch.manual_seed(seed)"
   ]
  },
  {
   "cell_type": "code",
   "execution_count": 3,
   "id": "b58f074b",
   "metadata": {},
   "outputs": [],
   "source": [
    "Q = torch.tensor(T/T.max())\n",
    " \n",
    "X = x\n",
    "T = t\n",
    "\n",
    "Nx = len(X)\n",
    "Nt = len(T)"
   ]
  },
  {
   "cell_type": "code",
   "execution_count": 4,
   "id": "7181dd9d",
   "metadata": {},
   "outputs": [
    {
     "data": {
      "image/png": "[encoded data removed]",
      "text/plain": [
       "<Figure size 432x288 with 2 Axes>"
      ]
     },
     "metadata": {
      "needs_background": "light"
     },
     "output_type": "display_data"
    }
   ],
   "source": [
    "plt.imshow(Q, cmap='hot', aspect='auto')\n",
    "plt.colorbar()\n",
    "plt.xlabel('Time ($t_j$)')\n",
    "plt.ylabel('Position ($x_i$)')\n",
    "plt.title('Snapshot Matrix Q')\n",
    "plt.show()"
   ]
  },
  {
   "cell_type": "markdown",
   "id": "fa9deb0f-c6ed-4cfc-a618-34dcd83258d6",
   "metadata": {},
   "source": [
    "## Define inputs"
   ]
  },
  {
   "cell_type": "code",
   "execution_count": 5,
   "id": "f5a7ffe7-d523-4462-aa17-128d9c6d5181",
   "metadata": {
    "tags": []
   },
   "outputs": [
    {
     "name": "stderr",
     "output_type": "stream",
     "text": [
      "/tmp/ipykernel_13264/3066838592.py:5: UserWarning: To copy construct from a tensor, it is recommended to use sourceTensor.clone().detach() or sourceTensor.clone().detach().requires_grad_(True), rather than torch.tensor(sourceTensor).\n",
      "  targets_tensor = torch.tensor(targets, dtype=torch.float32)\n"
     ]
    }
   ],
   "source": [
    "inputs = np.stack([x.repeat(Nt), np.tile(t, Nx)], axis=1)\n",
    "targets = Q.flatten()\n",
    "\n",
    "inputs_tensor = torch.tensor(inputs, dtype=torch.float32)\n",
    "targets_tensor = torch.tensor(targets, dtype=torch.float32)\n",
    "\n",
    "dataset = TensorDataset(inputs_tensor, targets_tensor)\n",
    "data_loader = DataLoader(dataset, batch_size=50, shuffle=True)\n"
   ]
  },
  {
   "cell_type": "markdown",
   "id": "fc760045-a001-4f52-aa11-9ba6604714c6",
   "metadata": {},
   "source": [
    "# Define a model"
   ]
  },
  {
   "cell_type": "code",
   "execution_count": 6,
   "id": "bf5b954e-d310-4638-a310-0013326f60d2",
   "metadata": {},
   "outputs": [],
   "source": [
    "class NuclearNormAutograd(torch.autograd.Function):\n",
    "    @staticmethod\n",
    "    def forward(ctx, input_matrix):\n",
    "        ctx.save_for_backward(input_matrix)\n",
    "        return torch.linalg.matrix_norm(input_matrix, ord=\"nuc\")\n",
    "\n",
    "    @staticmethod\n",
    "    def backward(ctx, grad_output):\n",
    "        input_matrix, = ctx.saved_tensors\n",
    "        u, s, v = torch.svd(input_matrix, some=False)\n",
    "        rank = torch.sum(s > 0).item()\n",
    "        dtype = input_matrix.dtype\n",
    "        eye_approx = torch.diag((s > 0).to(dtype)[:rank])\n",
    "        grad_input = torch.matmul(torch.matmul(u[:, :rank], eye_approx), v[:, :rank].t())\n",
    "        return grad_input * grad_output.unsqueeze(-1).unsqueeze(-1)"
   ]
  },
  {
   "cell_type": "code",
   "execution_count": 7,
   "id": "856059e1-3e8c-418d-b124-d0f5df55b7d2",
   "metadata": {
    "tags": []
   },
   "outputs": [],
   "source": [
    "class ShapeShiftNet(nn.Module):\n",
    "    def __init__(self, p_init_coeffs1, p_init_coeffs2, p_init_coeffs3):\n",
    "        super(ShapeShiftNet, self).__init__()\n",
    "        \n",
    "        self.alphas1 = nn.ParameterList(\n",
    "            [nn.Parameter(torch.tensor([coeff], dtype=torch.float32), requires_grad=True) for coeff in p_init_coeffs1[::-1]]\n",
    "        )\n",
    "        self.alphas2 = nn.ParameterList(\n",
    "            [nn.Parameter(torch.tensor([coeff], dtype=torch.float32), requires_grad=True) for coeff in p_init_coeffs2[::-1]]\n",
    "        )\n",
    "        self.alphas3 = nn.ParameterList(\n",
    "            [nn.Parameter(torch.tensor([coeff], dtype=torch.float32), requires_grad=True) for coeff in p_init_coeffs3[::-1]]\n",
    "        )    \n",
    "        \n",
    "        self.elu = nn.ELU()\n",
    "        \n",
    "        # Subnetwork for f^1 and shift^1\n",
    "        self.f1_fc1 = nn.Linear(2, 5)\n",
    "        self.f1_fc2 = nn.Linear(5, 10)\n",
    "        self.f1_fc3 = nn.Linear(10, 5)\n",
    "        self.f1_fc4 = nn.Linear(5, 1)\n",
    "        \n",
    "        self.shift1_fc1 = nn.Linear(1, 5)\n",
    "        self.shift1_fc2 = nn.Linear(5, 5)\n",
    "        self.shift1_fc3 = nn.Linear(5, 1)\n",
    "\n",
    "        \n",
    "        # Subnetwork for f^2 and shift^2\n",
    "        self.f2_fc1 = nn.Linear(2, 5)\n",
    "        self.f2_fc2 = nn.Linear(5, 10)\n",
    "        self.f2_fc3 = nn.Linear(10, 5)\n",
    "        self.f2_fc4 = nn.Linear(5, 1)\n",
    "        \n",
    "        self.shift2_fc1 = nn.Linear(1, 5)\n",
    "        self.shift2_fc2 = nn.Linear(5, 5)\n",
    "        self.shift2_fc3 = nn.Linear(5, 1)\n",
    "        \n",
    "        \n",
    "        # Subnetwork for f^3 and shift^3\n",
    "        self.f3_fc1 = nn.Linear(2, 5)\n",
    "        self.f3_fc2 = nn.Linear(5, 10)\n",
    "        self.f3_fc3 = nn.Linear(10, 5)\n",
    "        self.f3_fc4 = nn.Linear(5, 1)\n",
    "        \n",
    "        self.shift3_fc1 = nn.Linear(1, 5)\n",
    "        self.shift3_fc2 = nn.Linear(5, 5)\n",
    "        self.shift3_fc3 = nn.Linear(5, 1)\n",
    "        \n",
    "        \n",
    "    def forward(self, x, t):\n",
    "        # Pathway for f^1 and shift^1\n",
    "        shift1 = self.elu(self.shift1_fc1(t))\n",
    "        shift1 = self.elu(self.shift1_fc2(shift1))\n",
    "        shift1 = self.shift1_fc3(shift1)\n",
    "        \n",
    "        x_shifted1 = x + shift1\n",
    "        f1 = self.elu(self.f1_fc1(torch.cat((x_shifted1, t), dim=1)))\n",
    "        f1 = self.elu(self.f1_fc2(f1))\n",
    "        f1 = self.elu(self.f1_fc3(f1))\n",
    "        f1 = self.f1_fc4(f1)\n",
    "        \n",
    "        f1_without_shift = self.elu(self.f1_fc1(torch.cat((x, t), dim=1)))\n",
    "        f1_without_shift = self.elu(self.f1_fc2(f1_without_shift))\n",
    "        f1_without_shift = self.elu(self.f1_fc3(f1_without_shift))\n",
    "        f1_without_shift = self.f1_fc4(f1_without_shift)\n",
    "        \n",
    "        \n",
    "        # Pathway for f^2 and shift^2\n",
    "        shift2 = self.elu(self.shift2_fc1(t))\n",
    "        shift2 = self.elu(self.shift2_fc2(shift2))\n",
    "        shift2 = self.shift2_fc3(shift2)\n",
    "        \n",
    "        x_shifted2 = x + shift2\n",
    "        f2 = self.elu(self.f2_fc1(torch.cat((x_shifted2, t), dim=1)))\n",
    "        f2 = self.elu(self.f2_fc2(f2))\n",
    "        f2 = self.elu(self.f2_fc3(f2))\n",
    "        f2 = self.f2_fc4(f2)\n",
    "        \n",
    "        f2_without_shift = self.elu(self.f2_fc1(torch.cat((x, t), dim=1)))\n",
    "        f2_without_shift = self.elu(self.f2_fc2(f2_without_shift))\n",
    "        f2_without_shift = self.elu(self.f2_fc3(f2_without_shift))\n",
    "        f2_without_shift = self.f2_fc4(f2_without_shift)\n",
    "        \n",
    "        \n",
    "        # Pathway for f^3 and shift^3      \n",
    "        shift3 = self.elu(self.shift3_fc1(t))\n",
    "        shift3 = self.elu(self.shift3_fc2(shift3))\n",
    "        shift3 = self.shift3_fc3(shift3)\n",
    "        \n",
    "        x_shifted3 = x + shift3\n",
    "        f3 = self.elu(self.f3_fc1(torch.cat((x_shifted3, t), dim=1)))\n",
    "        f3 = self.elu(self.f3_fc2(f3))\n",
    "        f3 = self.elu(self.f3_fc3(f3))\n",
    "        f3 = self.f3_fc4(f3)\n",
    "        \n",
    "        \n",
    "        f3_without_shift = self.elu(self.f3_fc1(torch.cat((x, t), dim=1)))\n",
    "        f3_without_shift = self.elu(self.f3_fc2(f3_without_shift))\n",
    "        f3_without_shift = self.elu(self.f3_fc3(f3_without_shift))\n",
    "        f3_without_shift = self.f3_fc4(f3_without_shift)\n",
    "        \n",
    "        return f1, f2, f3, f1_without_shift, f2_without_shift, f3_without_shift\n"
   ]
  },
  {
   "cell_type": "code",
   "execution_count": 8,
   "id": "1b672a24-30ea-4ca2-b7d3-10abdd1561fa",
   "metadata": {},
   "outputs": [],
   "source": [
    "init_coefficients1 = [-1,1]\n",
    "init_coefficients2 = [1,1]\n",
    "init_coefficients3 = [0,0]"
   ]
  },
  {
   "cell_type": "code",
   "execution_count": 11,
   "id": "efb55892-854b-44de-b6fa-0160443e759c",
   "metadata": {},
   "outputs": [],
   "source": [
    "model = ShapeShiftNet(init_coefficients1, init_coefficients2, init_coefficients3)\n",
    "model.load_state_dict(torch.load('model_wildlandfire_small.pth')) # comment if you want to train and set pretrained_load to True\n",
    "\n",
    "# use pretrained weights from crossing lines example\n",
    "pretrained_load = False\n",
    "if pretrained_load:\n",
    "    state_dict_original = torch.load('model_weights_for_wildlandfire_model.pth')\n",
    "    state_dict_new = model.state_dict()\n",
    "    \n",
    "    for name, param in state_dict_original.items():\n",
    "        if name in state_dict_new:\n",
    "            state_dict_new[name].copy_(param)\n",
    "            \n",
    "    model.load_state_dict(state_dict_new, strict=False)\n",
    "    \n",
    "    \n",
    "optimizer = optim.Adam(model.parameters(), lr=0.001)"
   ]
  },
  {
   "cell_type": "code",
   "execution_count": 12,
   "id": "bb2b8e63-ade1-4af0-be9d-e81742faf497",
   "metadata": {
    "tags": []
   },
   "outputs": [
    {
     "name": "stdout",
     "output_type": "stream",
     "text": [
      "Epoch 0/0, Frob Loss: 0.663687587901839, Nuclear Loss: 5.744839191436768, Total loss: 6.408526779338606\n"
     ]
    }
   ],
   "source": [
    "#num_epochs = 100_000 # if you want to train\n",
    "num_epochs = 0 # if you use pretrained weights\n",
    "adjust_epoch = 20_000\n",
    "new_lr = 0.0001\n",
    "lambda_k = 0.1\n",
    "\n",
    "for epoch in range(num_epochs + 1):\n",
    "    x, t = inputs_tensor[:, 0:1], inputs_tensor[:, 1:2]\n",
    "    \n",
    "    optimizer.zero_grad()\n",
    "    f1_full, f2_full, f3_full, f1_full_nos, f2_full_nos, f3_full_nos = model(x,t)\n",
    "    \n",
    "    frobenius_loss = torch.norm(Q- f1_full.view(Nx, Nt) - f2_full.view(Nx, Nt) - f3_full.view(Nx, Nt),  'fro') ** 2\n",
    "    \n",
    "    nuclear_loss_q1 = NuclearNormAutograd.apply(f1_full_nos.view(Nx, Nt)) \n",
    "    nuclear_loss_q2 = NuclearNormAutograd.apply(f2_full_nos.view(Nx, Nt))\n",
    "    nuclear_loss_q3 = NuclearNormAutograd.apply(f3_full_nos.view(Nx, Nt))\n",
    "    nuclear_loss = lambda_k*(nuclear_loss_q1 + nuclear_loss_q2+ nuclear_loss_q3)\n",
    "    \n",
    "    total_loss = nuclear_loss + frobenius_loss\n",
    "    \n",
    "    total_loss.backward(retain_graph=True)\n",
    "    optimizer.step()\n",
    "    \n",
    "    if epoch == adjust_epoch:\n",
    "        for param_group in optimizer.param_groups:\n",
    "            param_group['lr'] = new_lr\n",
    "        print(f\"Adjusted learning rate to {new_lr} at epoch {epoch+1}\")\n",
    "    \n",
    "    if epoch % 100 == 0:\n",
    "        print(\n",
    "            f'Epoch {epoch}/{num_epochs}, Frob Loss: {frobenius_loss.item()}, Nuclear Loss: {nuclear_loss.item()}, Total loss: {total_loss.item()}')"
   ]
  },
  {
   "cell_type": "code",
   "execution_count": 13,
   "id": "4f62484c-890c-4ca4-9b1b-d99a33eedc44",
   "metadata": {},
   "outputs": [],
   "source": [
    "combined = f1_full + f2_full + f3_full\n",
    "Q_tilde = combined.view(Nx, Nt).detach().numpy()"
   ]
  },
  {
   "cell_type": "code",
   "execution_count": 14,
   "id": "c81056b0-f351-422d-bf19-64934731a933",
   "metadata": {},
   "outputs": [
    {
     "data": {
      "text/plain": [
       "<matplotlib.colorbar.Colorbar at 0x7f186b789750>"
      ]
     },
     "execution_count": 14,
     "metadata": {},
     "output_type": "execute_result"
    },
    {
     "data": {
      "image/png": "[encoded data removed]",
      "text/plain": [
       "<Figure size 1152x288 with 8 Axes>"
      ]
     },
     "metadata": {
      "needs_background": "light"
     },
     "output_type": "display_data"
    }
   ],
   "source": [
    "fig, axs = plt.subplots(1, 7, figsize=(16, 4))\n",
    "vmin = np.min(Q_tilde)\n",
    "vmax = np.max(Q_tilde)\n",
    "\n",
    "#Qtilde\n",
    "axs[0].pcolor(Q_tilde, vmin=vmin, vmax=vmax)\n",
    "axs[0].set_title(r\"$\\mathbf{Q}$\")\n",
    "axs[0].set_xlabel(\"t\")\n",
    "axs[0].set_ylabel(\"x\")\n",
    "axs[0].set_xticks([])\n",
    "axs[0].set_yticks([])\n",
    "\n",
    "# f^1\n",
    "axs[1].pcolor(f1_full.view(Nx, Nt).detach().numpy(), vmin=vmin, vmax=vmax)\n",
    "axs[1].set_title(r\"$\\mathcal{T}^1\\mathbf{Q}^1$\")\n",
    "axs[1].set_title(r\"$\\tilde{\\mathbf{Q}}$\")\n",
    "axs[1].set_xlabel(\"t\")\n",
    "axs[1].set_ylabel(\"x\")\n",
    "axs[1].set_xticks([])\n",
    "axs[1].set_yticks([])\n",
    "\n",
    "# f^2\n",
    "axs[2].pcolor(f3_full.view(Nx,Nt).detach().numpy(), vmin=vmin, vmax=vmax)\n",
    "axs[2].set_title(r\"$\\mathcal{T}^2\\mathbf{Q}^2$\")\n",
    "axs[2].set_xlabel(\"t\")\n",
    "axs[2].set_ylabel(\"x\")\n",
    "axs[2].set_xticks([])\n",
    "axs[2].set_yticks([])\n",
    "\n",
    "axs[3].pcolor(f2_full.view(Nx,Nt).detach().numpy(), vmin=vmin, vmax=vmax)\n",
    "axs[3].set_title(r\"$\\mathcal{T}^3\\mathbf{Q}^3$\")\n",
    "axs[3].set_xlabel(\"t\")\n",
    "axs[3].set_ylabel(\"x\")\n",
    "axs[3].set_xticks([])\n",
    "axs[3].set_yticks([])\n",
    "\n",
    "# f^1\n",
    "axs[4].pcolor(f1_full_nos.view(Nx,Nt).detach().numpy(), vmin=vmin, vmax=vmax)\n",
    "axs[4].set_title(r\"$\\mathbf{Q}^1$\")\n",
    "axs[4].set_xlabel(\"t\")\n",
    "axs[4].set_ylabel(\"x\")\n",
    "axs[4].set_xticks([])\n",
    "axs[4].set_yticks([])\n",
    "\n",
    "# f^2\n",
    "axs[5].pcolor(f3_full_nos.view(Nx,Nt).detach().numpy(), vmin=vmin, vmax=vmax)\n",
    "axs[5].set_title(r\"$\\mathbf{Q}^2$\")\n",
    "axs[5].set_xlabel(\"t\")\n",
    "axs[5].set_ylabel(\"x\")\n",
    "axs[5].set_xticks([])\n",
    "axs[5].set_yticks([])\n",
    "\n",
    "cax4 = axs[6].pcolor(f2_full_nos.view(Nx,Nt).detach().numpy(), vmin=vmin, vmax=vmax)\n",
    "axs[6].set_title(r\"$\\mathbf{Q}^3$\")\n",
    "axs[6].set_xlabel(\"t\")\n",
    "axs[6].set_ylabel(\"x\")\n",
    "axs[6].set_xticks([])\n",
    "axs[6].set_yticks([])\n",
    "\n",
    "plt.colorbar(cax4, ax=axs.ravel().tolist(), orientation='vertical')\n"
   ]
  },
  {
   "cell_type": "code",
   "execution_count": null,
   "id": "df7388d2-3d5c-4089-99b2-832e1cd96c3d",
   "metadata": {},
   "outputs": [],
   "source": []
  }
 ],
 "metadata": {
  "kernelspec": {
   "display_name": "Python 3 (ipykernel)",
   "language": "python",
   "name": "python3"
  },
  "language_info": {
   "codemirror_mode": {
    "name": "ipython",
    "version": 3
   },
   "file_extension": ".py",
   "mimetype": "text/x-python",
   "name": "python",
   "nbconvert_exporter": "python",
   "pygments_lexer": "ipython3",
   "version": "3.11.2"
  }
 },
 "nbformat": 4,
 "nbformat_minor": 5
}
