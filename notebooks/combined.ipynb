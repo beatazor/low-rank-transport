{
 "cells": [
  {
   "cell_type": "code",
   "execution_count": 1,
   "id": "6963bf93-a774-4b7f-b0b4-1ee1ca85e16b",
   "metadata": {},
   "outputs": [],
   "source": [
    "import torch\n",
    "import torch.nn as nn\n",
    "import torch.nn.functional as F\n",
    "import torch.optim as optim\n",
    "from torch.autograd import gradcheck\n",
    "import numpy as np\n",
    "import matplotlib.pyplot as plt\n",
    "from scipy.ndimage import shift\n",
    "from math import sqrt\n",
    "from scipy.sparse import diags\n",
    "from scipy.linalg import cholesky"
   ]
  },
  {
   "cell_type": "markdown",
   "id": "ad91d999-b9a0-4eb1-87a5-f83d4a535ff3",
   "metadata": {},
   "source": [
    "## Create MATRIX data"
   ]
  },
  {
   "cell_type": "code",
   "execution_count": 2,
   "id": "9784ddd8-ffc5-40a7-9129-6489bebf2b26",
   "metadata": {},
   "outputs": [],
   "source": [
    "rows, cols, sigma = 250, 100, 5.0\n",
    "coefficients1 = [-5,1]\n",
    "coefficients2 = [3,-6] # of the shift polynomial\n",
    "coefficients3 = [0.03,0.06,-2,-1,1]\n",
    "center_of_matrix1 = 20\n",
    "center_of_matrix2 = rows//2\n",
    "center_of_matrix3 = 50"
   ]
  },
  {
   "cell_type": "code",
   "execution_count": 3,
   "id": "591f5510-7a71-4d05-8891-0dc20ac11930",
   "metadata": {},
   "outputs": [],
   "source": [
    "# define shift by passing coefficients in polynom\n",
    "t_values = np.linspace(-10, 10, cols)\n",
    "shifted_t_values1 = np.polyval(coefficients1,t_values)\n",
    "shifted_t_values2 = np.polyval(coefficients2,t_values)"
   ]
  },
  {
   "cell_type": "code",
   "execution_count": 4,
   "id": "c1a73b5f-aef7-46e2-84b0-580987b2caa4",
   "metadata": {},
   "outputs": [],
   "source": [
    "# Gaussian function\n",
    "def gaussian(x, mu, sigma=1.0):\n",
    "    return np.exp(-np.power(x - mu, 2.0) / (2 * np.power(sigma, 2.0)))\n",
    "\n",
    "def create_gaussian_time_matrix(rows=500, cols=50, sigma=1.0,center_of_matrix=20):\n",
    "    matrix = np.zeros((rows, cols))\n",
    "    for col in range(cols):\n",
    "        for row in range(rows):\n",
    "            matrix[row, col] = gaussian(row, center_of_matrix, sigma)\n",
    "    matrix /= np.max(matrix)\n",
    "    \n",
    "    return matrix\n"
   ]
  },
  {
   "cell_type": "code",
   "execution_count": 5,
   "id": "c6305e8a-607c-457b-8a78-b8dda470c64f",
   "metadata": {},
   "outputs": [],
   "source": [
    "Q_orig1 = create_gaussian_time_matrix(rows, cols, sigma, center_of_matrix2)\n",
    "Q_orig2 = create_gaussian_time_matrix(rows, cols, sigma, center_of_matrix2)\n",
    "qs1 = torch.tensor(Q_orig1, requires_grad=False)\n",
    "qs2 = torch.tensor(Q_orig2, requires_grad=False)"
   ]
  },
  {
   "cell_type": "markdown",
   "id": "93562770-b1f8-40d0-b521-4d17418e821b",
   "metadata": {},
   "source": [
    "# Cubic spline interpolation class"
   ]
  },
  {
   "cell_type": "code",
   "execution_count": 6,
   "id": "e03f1b87-a1c8-476c-8d81-2994da1daccd",
   "metadata": {},
   "outputs": [],
   "source": [
    "class SplineInterpolation:\n",
    "    def __init__(self, params):\n",
    "        self.params = params\n",
    "        self.A1, self.D1, self.D2, self.R = self.give_spline_coefficient_matrices()\n",
    "\n",
    "    def give_spline_coefficient_matrices(self):\n",
    "        Nxi = params['geometry']['Nxi']\n",
    "        # Initialize matrices\n",
    "        # Create the A1 matrix\n",
    "        diagonals = np.ones((Nxi, 1)) * np.array([1, 2, 1])\n",
    "        offsets = [-1, 0, Nxi-1]\n",
    "        A1_np = diags(diagonals.T, offsets, shape=(Nxi, Nxi)).toarray()\n",
    "        A1 = torch.tensor(A1_np, dtype=torch.float64)\n",
    "\n",
    "        # Create the D1 matrix\n",
    "        diagonals = np.ones((Nxi, 1)) * np.array([-1, 1, -1])\n",
    "        D1_np = diags(diagonals.T, offsets, shape=(Nxi, Nxi)).toarray()\n",
    "        D1 = torch.tensor(D1_np, dtype=torch.float64)\n",
    "\n",
    "        # Create the D2 matrix\n",
    "        diagonals = np.ones((Nxi, 1)) * np.array([1, 1, -2, 1, 1])\n",
    "        offsets = [-(Nxi-1), -1, 0, 1, Nxi-1]\n",
    "        D2_np = diags(diagonals.T, offsets, shape=(Nxi, Nxi)).toarray()\n",
    "        D2 = torch.tensor(D2_np, dtype=torch.float64)\n",
    "\n",
    "        # Create the M matrix and compute its Cholesky decomposition\n",
    "        diagonals = np.ones((Nxi, 1)) * np.array([1, 1, 4, 1, 1])\n",
    "        M_np = diags(diagonals.T, offsets, shape=(Nxi, Nxi)).toarray()\n",
    "        R_np = cholesky(M_np)\n",
    "        R = torch.tensor(R_np, dtype=torch.float64)\n",
    "        \n",
    "        return A1, D1, D2, R\n",
    "\n",
    "    def construct_spline_coeffs_periodic(self, qs):\n",
    "        n = qs.shape[1]\n",
    "        #import pdb; pdb.set_trace()\n",
    "        # grid size:\n",
    "        dxi = params['geometry']['dxi']\n",
    "\n",
    "        # compute the spline coefficients:\n",
    "        if qs.ndim == 1:  # case of just one data set\n",
    "            spline_coeffs = {\n",
    "                'a': qs,\n",
    "                'c': (3 / dxi ** 2) * torch.solve(D2 @ qs, R)[0],\n",
    "                'b': None,\n",
    "                'd': None\n",
    "            }\n",
    "            spline_coeffs['b'] = (1 / dxi) * (self.D1 @ qs) + (dxi / 3) * (self.A1 @ spline_coeffs['c'])\n",
    "            spline_coeffs['d'] = (1 / (3 * dxi)) * (self.D1 @ spline_coeffs['c'])\n",
    "        else:  # case of multiple data sets\n",
    "            spline_coeffs = {'a': qs, 'b': qs.clone(), 'c': qs.clone(), 'd': qs.clone()}\n",
    "            #import pdb; pdb.set_trace()\n",
    "            for i in range(n):\n",
    "                # Assign the solved result to spline_coeffs\n",
    "                spline_coeffs['c'][:, i] = (3 / dxi**2) * torch.linalg.solve(self.R, torch.linalg.solve(self.R.T, self.D2 @ qs[:, i]))\n",
    "                spline_coeffs['b'][:, i] = (1 / dxi) * (self.D1 @ qs[:, i]) + (dxi / 3) * (self.A1 @ spline_coeffs['c'][:, i])\n",
    "                spline_coeffs['d'][:, i] = (1 / (3 * dxi)) * (self.D1 @ spline_coeffs['c'][:, i])\n",
    "\n",
    "        return spline_coeffs\n",
    "\n",
    "    def forward(self, qs, cs):\n",
    "        self.A1, self.D1, self.D2, self.R = self.give_spline_coefficient_matrices()\n",
    "        # Compute spline coefficients\n",
    "        spline_coeffs = self.construct_spline_coeffs_periodic(qs)\n",
    "\n",
    "        # Shift the data set\n",
    "        qs_shifted = self.shift_matrix_periodic_precomputed_coeffs(cs, spline_coeffs)\n",
    "        return qs_shifted\n",
    "\n",
    "    def backward(self, qs, cs):\n",
    "        # Compute spline coefficients\n",
    "        spline_coeffs = self.construct_spline_coeffs_periodic(qs)\n",
    "\n",
    "        # Compute the derivative of the shifted data set\n",
    "        qs_derivative_shifted = self.shiftMatrix_derivative_periodic_precomputedCoeffs(cs, spline_coeffs)\n",
    "        return qs_derivative_shifted\n",
    "\n",
    "    def shift_matrix_periodic_precomputed_coeffs(self, cs, spline_coeffs):\n",
    "        # Extract spline coefficients\n",
    "        a = spline_coeffs['a']\n",
    "        b = spline_coeffs['b']\n",
    "        c = spline_coeffs['c']\n",
    "        d = spline_coeffs['d']\n",
    "\n",
    "        # Number of grid points\n",
    "        m = params['geometry']['Nxi']\n",
    "\n",
    "        # Number of data sets\n",
    "        n = a.shape[1]\n",
    "\n",
    "        # Grid size\n",
    "        dxi = params['geometry']['dxi']\n",
    "\n",
    "        # Length of computational domain\n",
    "        L = m * dxi\n",
    "\n",
    "        # Compute csTilde = cs modulo L\n",
    "        q1 = torch.floor(cs / L)\n",
    "        csTilde = cs - q1 * L\n",
    "        # Compute zeta = csTilde modulo dxi\n",
    "        q2 = torch.floor(csTilde / dxi)\n",
    "        zeta = csTilde - q2 * dxi\n",
    "\n",
    "        # Compute shifted version of the data set(s)\n",
    "        if a.ndim == 1:  # Case of only one data set\n",
    "            if cs.ndim == 1:  # If cs is a vector, then the data set is shifted by multiple shift amounts\n",
    "                zeta = zeta.reshape(1, -1)  # Ensure zeta is a row vector\n",
    "                # Compute interpolated data set\n",
    "                qsInterpolated = a - torch.matmul(b.unsqueeze(1), zeta) + torch.matmul(c.unsqueeze(1), zeta ** 2) - torch.matmul(d.unsqueeze(1), zeta ** 3)\n",
    "                # Compute shifted data set\n",
    "                qsShifted[:, i] = torch.cat((qsInterpolated[m - int(q2[i].item()):], qsInterpolated[:m - int(q2[i].item())]), dim=0)\n",
    "\n",
    "            else:\n",
    "                qsInterpolated = a - zeta * b + zeta ** 2 * c - zeta ** 3 * d\n",
    "                qsShifted = torch.cat((qsInterpolated[m - int(q2[i].item()):], qsInterpolated[:m - int(q2[i].item())]))\n",
    "        else:  # Case of multiple data sets\n",
    "            if torch.is_tensor(q2) and q2.numel() == 1:\n",
    "                q2 = q2.repeat(n)\n",
    "                zeta = zeta.repeat(n)\n",
    "            qsShifted = torch.zeros((m, n))\n",
    "            for i in range(n):\n",
    "                # Compute interpolated data set\n",
    "                qsInterpolated = a[:, i] - zeta[i] * b[:, i] + zeta[i] ** 2 * c[:, i] - zeta[i] ** 3 * d[:, i]\n",
    "                # Compute shifted data set\n",
    "                qsShifted[:, i] = torch.cat((qsInterpolated[m - int(q2[i].item()):], qsInterpolated[:m - int(q2[i].item())]), dim=0)\n",
    "\n",
    "\n",
    "        return qsShifted\n",
    "\n",
    "    def shiftMatrix_derivative_periodic_precomputedCoeffs(self, cs, splineCoeffs):\n",
    "        # Extracting spline coefficients\n",
    "        b = splineCoeffs['b']\n",
    "        c = splineCoeffs['c']\n",
    "        d = splineCoeffs['d']\n",
    "        \n",
    "        # Number of grid points\n",
    "        m = params['geometry']['Nxi']\n",
    "\n",
    "        # Number of data sets\n",
    "        n = b.shape[1]\n",
    "\n",
    "        # Grid size\n",
    "        dxi = params['geometry']['dxi']\n",
    "\n",
    "        # Length of computational domain\n",
    "        L = m * dxi\n",
    "\n",
    "        # Compute csTilde = cs modulo L\n",
    "        q1 = torch.floor(cs / L)\n",
    "        csTilde = cs - q1 * L\n",
    "\n",
    "        # Compute zeta = csTilde modulo dxi\n",
    "        q2 = torch.floor(csTilde / dxi)\n",
    "        zeta = csTilde - q2 * dxi\n",
    "        #import pdb; pdb.set_trace()\n",
    "\n",
    "        # Compute derivative of shifted data set(s)\n",
    "        if b.dim() == 1:  # Case of only one data set\n",
    "            if cs.dim() == 1:  # if cs is a vector\n",
    "                if zeta.dim() == 1:\n",
    "                    zeta = zeta.unsqueeze(0)\n",
    "                qsInterpolated = -b + 2 * c * zeta - 3 * d * zeta.pow(2)\n",
    "                qsShifted[:, i] = torch.cat((qsInterpolated[m - int(q2[i].item()):], qsInterpolated[:m - int(q2[i].item())]), dim=0)\n",
    "            else:\n",
    "                qsInterpolated = -b + 2 * zeta * c - 3 * zeta.pow(2) * d\n",
    "                qsShifted = torch.cat((qsInterpolated[m - int(q2[i].item()):], qsInterpolated[:m - int(q2[i].item())]))\n",
    "        else:  # Case of multiple data sets\n",
    "            if torch.is_tensor(q2) and torch.numel(q2) == 1:\n",
    "                q2 = q2.repeat(n)\n",
    "                zeta = zeta.repeat(n)\n",
    "            qsShifted = torch.zeros((m, n), dtype=b.dtype, device=b.device)\n",
    "            for i in range(n):\n",
    "                qsInterpolated = -b[:, i] + 2 * zeta[i] * c[:, i] - 3 * zeta[i].pow(2) * d[:, i]\n",
    "                qsShifted[:, i] = torch.cat((qsInterpolated[m - int(q2[i].item()):], qsInterpolated[:m - int(q2[i].item())]), dim=0)\n",
    "\n",
    "        return qsShifted"
   ]
  },
  {
   "cell_type": "markdown",
   "id": "a50d74f6-f86b-4950-94ea-74e9a633f613",
   "metadata": {},
   "source": [
    "## Define parameters for spline interpolation"
   ]
  },
  {
   "cell_type": "code",
   "execution_count": 7,
   "id": "5003a890-a2b2-414d-9be0-0ca78113d0ad",
   "metadata": {},
   "outputs": [],
   "source": [
    "x = np.arange(0,rows)\n",
    "cs1 = torch.tensor(shifted_t_values1, requires_grad=True)\n",
    "#coefficients2 = [0,2,5]\n",
    "#shifted_t_values2 = np.polyval(coefficients2,t_values)\n",
    "cs2 = torch.tensor(shifted_t_values2, requires_grad=True)\n",
    "dx = x[1] - x[0]\n",
    "params = {'geometry': {'Nxi': rows, 'dxi': dx}, 'interpolation': {}}"
   ]
  },
  {
   "cell_type": "code",
   "execution_count": 8,
   "id": "c3616fdb-15e8-4ec0-99da-eb34a7d23854",
   "metadata": {},
   "outputs": [],
   "source": [
    "spline_interpolator = SplineInterpolation(params)\n",
    "qs_shifted1 = spline_interpolator.forward(qs1.double(), cs1.double()) # shifted snapshot matrix\n",
    "q_reverse_shifted1 = spline_interpolator.forward(qs_shifted1.double(), -cs1.double()) # shift shifted snapshot matrix back"
   ]
  },
  {
   "cell_type": "code",
   "execution_count": 9,
   "id": "1ca30cfb-b321-4145-ba39-639ce670761d",
   "metadata": {},
   "outputs": [],
   "source": [
    "qs_shifted2 = spline_interpolator.forward(qs2.double(), cs2.double()) # shifted snapshot matrix\n",
    "q_reverse_shifted2 = spline_interpolator.forward(qs_shifted2.double(), -cs2.double()) # shift shifted snapshot matrix back"
   ]
  },
  {
   "cell_type": "code",
   "execution_count": 10,
   "id": "b7e40bad-245c-4c39-baa2-a41134b9d115",
   "metadata": {},
   "outputs": [
    {
     "name": "stdout",
     "output_type": "stream",
     "text": [
      "1.4143935066914814e-05\n"
     ]
    }
   ],
   "source": [
    "# Relative error\n",
    "print(np.linalg.norm(qs1.detach().numpy() - q_reverse_shifted1.detach().numpy())/np.linalg.norm(qs1.detach().numpy()))"
   ]
  },
  {
   "cell_type": "code",
   "execution_count": 11,
   "id": "0e71279b-e254-4342-8526-cc2a840a2a6e",
   "metadata": {},
   "outputs": [
    {
     "name": "stdout",
     "output_type": "stream",
     "text": [
      "1.4143942975106916e-05\n"
     ]
    }
   ],
   "source": [
    "# Relative error\n",
    "print(np.linalg.norm(qs2.detach().numpy() - q_reverse_shifted2.detach().numpy())/np.linalg.norm(qs2.detach().numpy()))"
   ]
  },
  {
   "cell_type": "code",
   "execution_count": 12,
   "id": "8c9f1119-f954-48e5-a284-2148d38087c1",
   "metadata": {},
   "outputs": [],
   "source": [
    "Qs_shifted_comb = torch.maximum(qs_shifted1,qs_shifted2)\n",
    "Qs_shifted = Qs_shifted_comb/Qs_shifted_comb.max()"
   ]
  },
  {
   "cell_type": "code",
   "execution_count": 13,
   "id": "63195002-a623-4495-9b5f-d3aaccc08f42",
   "metadata": {
    "tags": []
   },
   "outputs": [
    {
     "data": {
      "text/plain": [
       "Text(0.5, 1.0, 'Snapshot Matrix with Polynomial Shift')"
      ]
     },
     "execution_count": 13,
     "metadata": {},
     "output_type": "execute_result"
    },
    {
     "data": {
      "image/png": "[encoded data removed]",
      "text/plain": [
       "<Figure size 1440x432 with 3 Axes>"
      ]
     },
     "metadata": {
      "needs_background": "light"
     },
     "output_type": "display_data"
    }
   ],
   "source": [
    "# Plotting\n",
    "fig, ax = plt.subplots(1, 3, figsize=(20, 6))\n",
    "\n",
    "# Without shift\n",
    "ax[0].imshow(Qs_shifted.detach().numpy(), cmap='hot', interpolation='nearest', aspect='auto')\n",
    "ax[0].set_title('Snapshot Matrix without shift')\n",
    "\n",
    "# With inverse shift\n",
    "ax[1].imshow(qs_shifted1.detach().numpy(), cmap='hot', interpolation='nearest', aspect='auto')\n",
    "ax[1].set_title('Snapshot Matrix with inverse Polynomial Shift')\n",
    "\n",
    "# With shift\n",
    "ax[2].imshow(qs_shifted2.detach().numpy(), cmap='hot', interpolation='nearest', aspect='auto')\n",
    "ax[2].set_title('Snapshot Matrix with Polynomial Shift')"
   ]
  },
  {
   "cell_type": "markdown",
   "id": "fa9deb0f-c6ed-4cfc-a618-34dcd83258d6",
   "metadata": {},
   "source": [
    "## Define a shift model"
   ]
  },
  {
   "cell_type": "code",
   "execution_count": 14,
   "id": "a010ee80-d476-4394-9683-da9154e262d3",
   "metadata": {},
   "outputs": [],
   "source": [
    "class ShiftPredictionModel(nn.Module):\n",
    "    def __init__(self, p_init_coeffs_1, p_init_coeffs_2):\n",
    "        super(ShiftPredictionModel, self).__init__()\n",
    "        self.p_coefficients_1 = nn.ParameterList(\n",
    "            [nn.Parameter(torch.tensor([coeff], dtype=torch.float64), requires_grad=True) for coeff in p_init_coeffs_1[::-1]]\n",
    "        )\n",
    "        self.p_coefficients_2 = nn.ParameterList(\n",
    "            [nn.Parameter(torch.tensor([coeff], dtype=torch.float64), requires_grad=True) for coeff in p_init_coeffs_2[::-1]]\n",
    "        )\n",
    "    def forward(self,t):\n",
    "        shift_1 = sum([coeff * t**i for i, coeff in enumerate(self.p_coefficients_1)])\n",
    "        shift_2 = sum([coeff * t**i for i, coeff in enumerate(self.p_coefficients_2)])\n",
    "        return shift_1, shift_2\n"
   ]
  },
  {
   "cell_type": "markdown",
   "id": "81f48c40-3a6d-47e2-8bc4-3a3fcdabf1ae",
   "metadata": {},
   "source": [
    "## Define Nuclear Norm class"
   ]
  },
  {
   "cell_type": "code",
   "execution_count": 15,
   "id": "1494f051-44c7-4e5d-a8ab-3ce664d73321",
   "metadata": {},
   "outputs": [],
   "source": [
    "class NuclearNormAutograd(torch.autograd.Function):\n",
    "    @staticmethod\n",
    "    def forward(ctx, input_matrix):\n",
    "        ctx.save_for_backward(input_matrix)\n",
    "        return torch.linalg.matrix_norm(input_matrix, ord=\"nuc\")\n",
    "\n",
    "    @staticmethod\n",
    "    def backward(ctx, grad_output):\n",
    "        input_matrix, = ctx.saved_tensors\n",
    "        u, s, v = torch.svd(input_matrix, some=True)\n",
    "        rank = torch.sum(s > 0).item()\n",
    "        dtype = input_matrix.dtype\n",
    "        eye_approx = torch.diag_embed((s > 0).to(dtype))[:s.size(0), :s.size(0)]\n",
    "        grad_input = torch.matmul(torch.matmul(u[:, :rank], eye_approx), v[:, :rank].t())\n",
    "        return grad_input * grad_output"
   ]
  },
  {
   "cell_type": "markdown",
   "id": "6affd5c3-d2a8-4fc9-bc9f-de394f2096e0",
   "metadata": {},
   "source": [
    "## Train a model"
   ]
  },
  {
   "cell_type": "code",
   "execution_count": 16,
   "id": "a1a1de64-b9e0-4e6b-abcd-7f40431f078f",
   "metadata": {},
   "outputs": [],
   "source": [
    "p_coefficients_init1 = [-1,1]  # initial coefficients of a shift polynomial\n",
    "p_coefficients_init2 = [1,-1]\n",
    "t_values_tensor = torch.linspace(-10, 10, cols,dtype=torch.float64)"
   ]
  },
  {
   "cell_type": "code",
   "execution_count": 17,
   "id": "bcdcc268-f96c-4231-9998-d4564517c496",
   "metadata": {
    "tags": []
   },
   "outputs": [
    {
     "data": {
      "text/plain": [
       "tensor(121.4753, dtype=torch.float64, grad_fn=<AddBackward0>)"
      ]
     },
     "execution_count": 17,
     "metadata": {},
     "output_type": "execute_result"
    }
   ],
   "source": [
    "true_loss = NuclearNormAutograd.apply(qs1) + NuclearNormAutograd.apply(qs2) + torch.norm(Qs_shifted - qs_shifted1 - qs_shifted2, 'fro')**2\n",
    "true_loss"
   ]
  },
  {
   "cell_type": "markdown",
   "id": "18bd37a1-fe96-4d5a-8324-c4536d0cbc27",
   "metadata": {},
   "source": [
    "## Combine with ADM Algorithm"
   ]
  },
  {
   "cell_type": "code",
   "execution_count": 264,
   "id": "006e72d0-dea9-460c-9ea7-8a285c928dde",
   "metadata": {},
   "outputs": [],
   "source": [
    "import sys\n",
    "sys.path.append('../lib/')\n",
    "\n",
    "from sPOD_tools import sPOD_Param, shifted_POD_BFB\n",
    "from transforms import transforms"
   ]
  },
  {
   "cell_type": "code",
   "execution_count": 265,
   "id": "8824f8d0-520b-4444-8a25-65d1a46af9df",
   "metadata": {},
   "outputs": [],
   "source": [
    "def generate_data(Nx, Nt, center1, center2, coeff1, coeff2):\n",
    "    L = Nx  # total domain size\n",
    "    sigma = 2\n",
    "    x = np.arange(0, Nx)\n",
    "    t = np.linspace(-10, 10, cols)\n",
    "    dx = x[1] - x[0]\n",
    "    dt = t[1] - t[0]\n",
    "    [X, T] = np.meshgrid(x, t)\n",
    "    X = X.T\n",
    "    T = T.T    \n",
    "\n",
    "    def gaussian(x, mu, sigma=1.0):\n",
    "        return np.exp(-np.power(x - mu, 2.0) / (np.power(sigma, 2.0)))\n",
    "\n",
    "    q1 = np.zeros_like(X, dtype=np.float64)\n",
    "    q2 = np.zeros_like(X, dtype=np.float64)\n",
    "    t_values = np.linspace(-10, 10, Nt)\n",
    "    shift1 = np.polyval(coeff1, t_values)\n",
    "    shift2 = np.polyval(coeff2, t_values)\n",
    "    shift_list = [-shift1, -shift2]\n",
    "    nmodes = [2,2]\n",
    "    for col in range(Nt):\n",
    "        for row in range(Nx):\n",
    "            q1[row, col] = gaussian(row, center1 + shift1[col], sigma)\n",
    "            q2[row, col] = gaussian(row, center2 + shift2[col], sigma)\n",
    "    #q1 /= np.max(q1)\n",
    "    #q2 /= np.max(q2)\n",
    "    \n",
    "    Q_comb = np.maximum(q1, q2)\n",
    "    #Q_comb = q1 + q2\n",
    "    Q = Q_comb / Q_comb.max() \n",
    "    \n",
    "    print(np.linalg.norm(Q - (q1 + q2), 'fro')**2)\n",
    "    \n",
    "    return Q, shift_list, nmodes, L, dx"
   ]
  },
  {
   "cell_type": "code",
   "execution_count": 286,
   "id": "5afdd7dd-5c47-464f-9bb3-ffdb82f0bb69",
   "metadata": {},
   "outputs": [],
   "source": [
    "init_cs1 = np.polyval(p_coefficients_init1,t_values)\n",
    "init_cs2 = np.polyval(p_coefficients_init2,t_values)\n",
    "x_values = np.arange(cols)\n",
    "shift_vector_init1 = center_of_matrix2 + init_cs1\n",
    "shift_vector_init2 = center_of_matrix2 + init_cs2"
   ]
  },
  {
   "cell_type": "code",
   "execution_count": 287,
   "id": "197eb216-1f1f-4de6-9e57-0511e0045b65",
   "metadata": {},
   "outputs": [
    {
     "name": "stdout",
     "output_type": "stream",
     "text": [
      "5.0388800713436845\n"
     ]
    }
   ],
   "source": [
    "data_shape = [rows,1,1,cols]\n",
    "fields, _, nmodes, L, dx = generate_data(rows, cols, center_of_matrix2, center_of_matrix2, coefficients1, coefficients2)\n",
    "qmat = np.reshape(fields, [rows, cols])"
   ]
  },
  {
   "cell_type": "code",
   "execution_count": 288,
   "id": "4e461198-53ab-496b-956d-95bdedbef99f",
   "metadata": {},
   "outputs": [
    {
     "name": "stdout",
     "output_type": "stream",
     "text": [
      "Setting up the shift matrices, with interpolation order:\n",
      "Forward T^k:     O(h^5)\n",
      "Backward T^(-k): O(h^5)\n",
      "Setting up the shift matrices, with interpolation order:\n",
      "Forward T^k:     O(h^5)\n",
      "Backward T^(-k): O(h^5)\n"
     ]
    }
   ],
   "source": [
    "shift_1 = shift_vector_init1\n",
    "shift_2 = shift_vector_init2\n",
    "\n",
    "trafos = [\n",
    "        transforms(data_shape, [L], shifts=-init_cs1, dx=[dx], interp_order=5),\n",
    "        transforms(data_shape, [L], shifts=-init_cs2, dx=[dx], interp_order=5),\n",
    "    ]\n"
   ]
  },
  {
   "cell_type": "code",
   "execution_count": 289,
   "id": "3e2c61d9-7fc0-4af8-b363-725ba9e3a0ba",
   "metadata": {
    "tags": []
   },
   "outputs": [
    {
     "name": "stdout",
     "output_type": "stream",
     "text": [
      "rel-error using svd with 4 modes:7.7642e-01\n",
      "20\n",
      "28\n",
      "Iter    1 / Rel_error= 1.0000e+00 | t_cpu = 0.02s\n",
      "CPU time in total:  0.01638180800000555\n"
     ]
    }
   ],
   "source": [
    "myparams = sPOD_Param(maxit=1, lambda_s=1)\n",
    "ret = shifted_POD_BFB(qmat, trafos, nmodes, myparams)"
   ]
  },
  {
   "cell_type": "code",
   "execution_count": 290,
   "id": "20dd766e-84c6-4491-ba87-f9cf2c3648c8",
   "metadata": {},
   "outputs": [],
   "source": [
    "sPOD_frames, qtilde, rel_err = ret.frames, ret.data_approx, ret.rel_err_hist\n",
    "Qk = [\n",
    "    np.squeeze(np.reshape(frame.build_field(), data_shape))\n",
    "    for trafo, frame in zip(trafos, ret.frames)\n",
    "]"
   ]
  },
  {
   "cell_type": "code",
   "execution_count": 291,
   "id": "2a46bbf0-faba-470f-9175-347454da468a",
   "metadata": {},
   "outputs": [],
   "source": [
    "model = ShiftPredictionModel(p_init_coeffs_1=coefficients1,p_init_coeffs_2=coefficients2)\n",
    "model.to(torch.float64)\n",
    "\n",
    "optimizer = optim.Adam(model.parameters(), lr=0.01)\n",
    "epochs = 3000"
   ]
  },
  {
   "cell_type": "code",
   "execution_count": 292,
   "id": "8416ca52-958b-41b6-843b-4020f4813713",
   "metadata": {},
   "outputs": [],
   "source": [
    "Q_tensor = torch.tensor(qmat)"
   ]
  },
  {
   "cell_type": "code",
   "execution_count": 284,
   "id": "8beff750-5fb6-4ce6-9071-3754572fb9d2",
   "metadata": {
    "tags": []
   },
   "outputs": [
    {
     "name": "stdout",
     "output_type": "stream",
     "text": [
      "Start of Iteration number 0.\n",
      "Setting up the shift matrices, with interpolation order:\n",
      "Forward T^k:     O(h^5)\n",
      "Backward T^(-k): O(h^5)\n",
      "Setting up the shift matrices, with interpolation order:\n",
      "Forward T^k:     O(h^5)\n",
      "Backward T^(-k): O(h^5)\n",
      "rel-error using svd with 4 modes:7.7642e-01\n",
      "20\n",
      "28\n",
      "Iter    1 / Rel_error= 1.0000e+00 | t_cpu = 0.02s\n",
      "20\n",
      "24\n",
      "Iter    2 / Rel_error= 4.2859e-01 | t_cpu = 0.02s\n",
      "CPU time in total:  0.04647754200050258\n",
      "Epoch [0/3000], Loss: 645.9704\n"
     ]
    },
    {
     "ename": "KeyboardInterrupt",
     "evalue": "",
     "output_type": "error",
     "traceback": [
      "\u001b[0;31m---------------------------------------------------------------------------\u001b[0m",
      "\u001b[0;31mKeyboardInterrupt\u001b[0m                         Traceback (most recent call last)",
      "Cell \u001b[0;32mIn[284], line 30\u001b[0m\n\u001b[1;32m     28\u001b[0m optimizer\u001b[38;5;241m.\u001b[39mzero_grad()\n\u001b[1;32m     29\u001b[0m y_pred_pol_1, y_pred_pol_2 \u001b[38;5;241m=\u001b[39m model(t_values_tensor) \u001b[38;5;66;03m# model give a shift vector (for degree 2: (y=a1*t+a0))\u001b[39;00m\n\u001b[0;32m---> 30\u001b[0m T1Q \u001b[38;5;241m=\u001b[39m spline_interpolator\u001b[38;5;241m.\u001b[39mforward(Q1_tensor\u001b[38;5;241m.\u001b[39mdouble(), y_pred_pol_1\u001b[38;5;241m.\u001b[39mdouble()) \u001b[38;5;66;03m# calculate T(Q^1)\u001b[39;00m\n\u001b[1;32m     31\u001b[0m T2Q \u001b[38;5;241m=\u001b[39m spline_interpolator\u001b[38;5;241m.\u001b[39mforward(Q2_tensor\u001b[38;5;241m.\u001b[39mdouble(), y_pred_pol_2\u001b[38;5;241m.\u001b[39mdouble()) \u001b[38;5;66;03m# calculate T(Q^2)\u001b[39;00m\n\u001b[1;32m     32\u001b[0m \u001b[38;5;66;03m#loss = NuclearNormAutograd.apply(TQ)\u001b[39;00m\n\u001b[1;32m     33\u001b[0m \u001b[38;5;66;03m#loss = torch.norm(TQ - qs, 'fro')**2 # calculate ||T^-1(Q) - Q1||\u001b[39;00m\n",
      "Cell \u001b[0;32mIn[6], line 64\u001b[0m, in \u001b[0;36mSplineInterpolation.forward\u001b[0;34m(self, qs, cs)\u001b[0m\n\u001b[1;32m     62\u001b[0m \u001b[38;5;28mself\u001b[39m\u001b[38;5;241m.\u001b[39mA1, \u001b[38;5;28mself\u001b[39m\u001b[38;5;241m.\u001b[39mD1, \u001b[38;5;28mself\u001b[39m\u001b[38;5;241m.\u001b[39mD2, \u001b[38;5;28mself\u001b[39m\u001b[38;5;241m.\u001b[39mR \u001b[38;5;241m=\u001b[39m \u001b[38;5;28mself\u001b[39m\u001b[38;5;241m.\u001b[39mgive_spline_coefficient_matrices()\n\u001b[1;32m     63\u001b[0m \u001b[38;5;66;03m# Compute spline coefficients\u001b[39;00m\n\u001b[0;32m---> 64\u001b[0m spline_coeffs \u001b[38;5;241m=\u001b[39m \u001b[38;5;28mself\u001b[39m\u001b[38;5;241m.\u001b[39mconstruct_spline_coeffs_periodic(qs)\n\u001b[1;32m     66\u001b[0m \u001b[38;5;66;03m# Shift the data set\u001b[39;00m\n\u001b[1;32m     67\u001b[0m qs_shifted \u001b[38;5;241m=\u001b[39m \u001b[38;5;28mself\u001b[39m\u001b[38;5;241m.\u001b[39mshift_matrix_periodic_precomputed_coeffs(cs, spline_coeffs)\n",
      "Cell \u001b[0;32mIn[6], line 55\u001b[0m, in \u001b[0;36mSplineInterpolation.construct_spline_coeffs_periodic\u001b[0;34m(self, qs)\u001b[0m\n\u001b[1;32m     52\u001b[0m \u001b[38;5;66;03m#import pdb; pdb.set_trace()\u001b[39;00m\n\u001b[1;32m     53\u001b[0m \u001b[38;5;28;01mfor\u001b[39;00m i \u001b[38;5;129;01min\u001b[39;00m \u001b[38;5;28mrange\u001b[39m(n):\n\u001b[1;32m     54\u001b[0m     \u001b[38;5;66;03m# Assign the solved result to spline_coeffs\u001b[39;00m\n\u001b[0;32m---> 55\u001b[0m     spline_coeffs[\u001b[38;5;124m'\u001b[39m\u001b[38;5;124mc\u001b[39m\u001b[38;5;124m'\u001b[39m][:, i] \u001b[38;5;241m=\u001b[39m (\u001b[38;5;241m3\u001b[39m \u001b[38;5;241m/\u001b[39m dxi\u001b[38;5;241m*\u001b[39m\u001b[38;5;241m*\u001b[39m\u001b[38;5;241m2\u001b[39m) \u001b[38;5;241m*\u001b[39m torch\u001b[38;5;241m.\u001b[39mlinalg\u001b[38;5;241m.\u001b[39msolve(\u001b[38;5;28mself\u001b[39m\u001b[38;5;241m.\u001b[39mR, torch\u001b[38;5;241m.\u001b[39mlinalg\u001b[38;5;241m.\u001b[39msolve(\u001b[38;5;28mself\u001b[39m\u001b[38;5;241m.\u001b[39mR\u001b[38;5;241m.\u001b[39mT, \u001b[38;5;28mself\u001b[39m\u001b[38;5;241m.\u001b[39mD2 \u001b[38;5;241m@\u001b[39m qs[:, i]))\n\u001b[1;32m     56\u001b[0m     spline_coeffs[\u001b[38;5;124m'\u001b[39m\u001b[38;5;124mb\u001b[39m\u001b[38;5;124m'\u001b[39m][:, i] \u001b[38;5;241m=\u001b[39m (\u001b[38;5;241m1\u001b[39m \u001b[38;5;241m/\u001b[39m dxi) \u001b[38;5;241m*\u001b[39m (\u001b[38;5;28mself\u001b[39m\u001b[38;5;241m.\u001b[39mD1 \u001b[38;5;241m@\u001b[39m qs[:, i]) \u001b[38;5;241m+\u001b[39m (dxi \u001b[38;5;241m/\u001b[39m \u001b[38;5;241m3\u001b[39m) \u001b[38;5;241m*\u001b[39m (\u001b[38;5;28mself\u001b[39m\u001b[38;5;241m.\u001b[39mA1 \u001b[38;5;241m@\u001b[39m spline_coeffs[\u001b[38;5;124m'\u001b[39m\u001b[38;5;124mc\u001b[39m\u001b[38;5;124m'\u001b[39m][:, i])\n\u001b[1;32m     57\u001b[0m     spline_coeffs[\u001b[38;5;124m'\u001b[39m\u001b[38;5;124md\u001b[39m\u001b[38;5;124m'\u001b[39m][:, i] \u001b[38;5;241m=\u001b[39m (\u001b[38;5;241m1\u001b[39m \u001b[38;5;241m/\u001b[39m (\u001b[38;5;241m3\u001b[39m \u001b[38;5;241m*\u001b[39m dxi)) \u001b[38;5;241m*\u001b[39m (\u001b[38;5;28mself\u001b[39m\u001b[38;5;241m.\u001b[39mD1 \u001b[38;5;241m@\u001b[39m spline_coeffs[\u001b[38;5;124m'\u001b[39m\u001b[38;5;124mc\u001b[39m\u001b[38;5;124m'\u001b[39m][:, i])\n",
      "\u001b[0;31mKeyboardInterrupt\u001b[0m: "
     ]
    }
   ],
   "source": [
    "it = 0\n",
    "shift_1_ = init_cs1\n",
    "shift_2_ = init_cs2\n",
    "threshold = 1e-4\n",
    "previous_loss = float('inf') \n",
    "while it < 300:\n",
    "    print(f\"Start of Iteration number {it}.\")\n",
    "    trafos = [\n",
    "        transforms(data_shape, [L], shifts=-shift_1_, dx=[dx], interp_order=5),\n",
    "        transforms(data_shape, [L], shifts=-shift_2_, dx=[dx], interp_order=5),\n",
    "    ]\n",
    "    myparams = sPOD_Param(maxit=2, lambda_s=1)\n",
    "    ret = shifted_POD_BFB(Q_tensor, trafos, nmodes, myparams)\n",
    "    \n",
    "    sPOD_frames, qtilde, rel_err = ret.frames, ret.data_approx, ret.rel_err_hist\n",
    "    \n",
    "    Qk = [\n",
    "        np.squeeze(np.reshape(frame.build_field(), data_shape))\n",
    "        for trafo, frame in zip(trafos, ret.frames)\n",
    "    ]\n",
    "    \n",
    "    Q1_tensor = torch.tensor(Qk[0])\n",
    "    Q2_tensor = torch.tensor(Qk[1])\n",
    "    Q1 = Qk[0]\n",
    "    Q2 = Qk[1]\n",
    "    for epoch in range(epochs):\n",
    "        model.train()\n",
    "        optimizer.zero_grad()\n",
    "        y_pred_pol_1, y_pred_pol_2 = model(t_values_tensor) # model give a shift vector (for degree 2: (y=a1*t+a0))\n",
    "        T1Q = spline_interpolator.forward(Q1_tensor.double(), y_pred_pol_1.double()) # calculate T(Q^1)\n",
    "        T2Q = spline_interpolator.forward(Q2_tensor.double(), y_pred_pol_2.double()) # calculate T(Q^2)\n",
    "        #loss = NuclearNormAutograd.apply(TQ)\n",
    "        #loss = torch.norm(TQ - qs, 'fro')**2 # calculate ||T^-1(Q) - Q1||\n",
    "        loss = torch.norm(Q_tensor - (T1Q.double() + T2Q.double()), 'fro')**2 + NuclearNormAutograd.apply(Q1_tensor) + NuclearNormAutograd.apply(Q2_tensor) # calculate ||Q - T^1(Q^1) - T^2(Q^2)||\n",
    "\n",
    "        loss.backward(retain_graph=True)\n",
    "\n",
    "        optimizer.step()\n",
    "\n",
    "        if epoch % 100 == 0:\n",
    "            print(f'Epoch [{epoch}/{epochs}], Loss: {loss.item():.4f}')\n",
    "            \n",
    "        diff = 67 - loss\n",
    "        if torch.abs(diff) <= 0.2:\n",
    "            print(f\"Stopping training at epoch {epoch} due to minimal loss.\")\n",
    "            break\n",
    "            \n",
    "        if abs(loss - previous_loss) < threshold:\n",
    "            print(f\"Stopping training at epoch {epoch} due to minimal loss change.\")\n",
    "            break\n",
    "        previous_loss = loss\n",
    "            \n",
    "    print(f\"Model training complete.\")\n",
    "    \n",
    "    if torch.abs(diff) <= 0.2:\n",
    "        print(f\"DONE. LOSS is {loss}\")\n",
    "        break\n",
    "    \n",
    "    shift_1 = y_pred_pol_1.detach().numpy()\n",
    "    shift_2 = y_pred_pol_2.detach().numpy()\n",
    "    \n",
    "    it += 1"
   ]
  },
  {
   "cell_type": "code",
   "execution_count": 285,
   "id": "c7e570d1-1409-4c08-92fb-053f617c5cdf",
   "metadata": {},
   "outputs": [
    {
     "data": {
      "image/png": "[encoded data removed]",
      "text/plain": [
       "<Figure size 1152x288 with 4 Axes>"
      ]
     },
     "metadata": {
      "needs_background": "light"
     },
     "output_type": "display_data"
    }
   ],
   "source": [
    "fig, ax = plt.subplots(1, 4, figsize=(16, 4))\n",
    "\n",
    "ax[0].pcolor(qmat, shading='auto')\n",
    "ax[0].set_title(r\"$\\mathbf{Q}$\")\n",
    "ax[0].plot(x_values, shift_vector_init1, 'r-', linewidth=2)\n",
    "ax[0].plot(x_values, shift_vector_init2, 'r-', linewidth=2)\n",
    "# ax[0].axis(\"image\")\n",
    "ax[0].axis(\"off\")\n",
    "\n",
    "ax[1].pcolor(qtilde, shading='auto')\n",
    "ax[1].set_title(r\"$\\tilde{\\mathbf{Q}}$\")\n",
    "# ax[0].axis(\"image\")\n",
    "ax[1].axis(\"off\")\n",
    "# the result is a list of the decomposed field.\n",
    "# each element of the list contains a frame of the decomposition.\n",
    "# If you want to plot the k-th frame use:\n",
    "# 1. frame\n",
    "plot_shifted = True\n",
    "k_frame = 0\n",
    "if plot_shifted:\n",
    "    ax[2].pcolor(Qk[k_frame], shading='auto')\n",
    "    ax[2].set_title(r\"$\\mathbf{Q}^\" + str(k_frame + 1) + \"$\")\n",
    "# 2. frame\n",
    "plot_shifted = True\n",
    "k_frame = 1\n",
    "if plot_shifted:\n",
    "    ax[3].pcolor(Qk[k_frame], shading='auto')\n",
    "    ax[3].set_title(r\"$\\mathbf{Q}^\" + str(k_frame + 1) + \"$\")"
   ]
  },
  {
   "cell_type": "code",
   "execution_count": null,
   "id": "f56dbdfb-4b28-47fb-a40d-17197a3f7f78",
   "metadata": {},
   "outputs": [],
   "source": []
  }
 ],
 "metadata": {
  "kernelspec": {
   "display_name": "Python 3 (ipykernel)",
   "language": "python",
   "name": "python3"
  },
  "language_info": {
   "codemirror_mode": {
    "name": "ipython",
    "version": 3
   },
   "file_extension": ".py",
   "mimetype": "text/x-python",
   "name": "python",
   "nbconvert_exporter": "python",
   "pygments_lexer": "ipython3",
   "version": "3.11.2"
  }
 },
 "nbformat": 4,
 "nbformat_minor": 5
}
