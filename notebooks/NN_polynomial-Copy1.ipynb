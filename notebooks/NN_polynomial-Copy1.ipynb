{
 "cells": [
  {
   "cell_type": "code",
   "execution_count": 1,
   "id": "6963bf93-a774-4b7f-b0b4-1ee1ca85e16b",
   "metadata": {},
   "outputs": [],
   "source": [
    "import torch\n",
    "import torch.nn as nn\n",
    "import torch.nn.functional as F\n",
    "from torch.utils.data import Dataset, DataLoader, TensorDataset\n",
    "import torch.optim as optim\n",
    "from sklearn.preprocessing import PolynomialFeatures\n",
    "from torch.autograd import Variable\n",
    "import numpy as np\n",
    "from sklearn.model_selection import train_test_split\n",
    "from torch.utils.data import random_split\n",
    "from scipy.ndimage import shift\n",
    "import math\n",
    "import matplotlib.pyplot as plt\n",
    "from sklearn.preprocessing import StandardScaler"
   ]
  },
  {
   "cell_type": "markdown",
   "id": "ad91d999-b9a0-4eb1-87a5-f83d4a535ff3",
   "metadata": {},
   "source": [
    "## Create MATRIX data"
   ]
  },
  {
   "cell_type": "code",
   "execution_count": 2,
   "id": "9784ddd8-ffc5-40a7-9129-6489bebf2b26",
   "metadata": {},
   "outputs": [],
   "source": [
    "rows, cols, sigma = 500, 100, 5.0\n",
    "coefficients1 = [1,4,-4]\n",
    "coefficients2 = [3,1,5]\n",
    "degree1 = 2\n",
    "degree2 = 2"
   ]
  },
  {
   "cell_type": "code",
   "execution_count": 3,
   "id": "591f5510-7a71-4d05-8891-0dc20ac11930",
   "metadata": {},
   "outputs": [],
   "source": [
    "t_values = np.linspace(-10, 10, cols)\n",
    "shifted_t_values = np.polyval(coefficients1,t_values)"
   ]
  },
  {
   "cell_type": "code",
   "execution_count": 4,
   "id": "c1a73b5f-aef7-46e2-84b0-580987b2caa4",
   "metadata": {},
   "outputs": [],
   "source": [
    "# Gaussian function\n",
    "def gaussian(x, mu, sigma=1.0):\n",
    "    return np.exp(-np.power(x - mu, 2.0) / (2 * np.power(sigma, 2.0)))\n",
    "\n",
    "def create_gaussian_time_matrix(rows=500, cols=50, sigma=1.0):\n",
    "    matrix = np.zeros((rows, cols))\n",
    "    for col in range(cols):\n",
    "        for row in range(rows):\n",
    "            matrix[row, col] = gaussian(row, rows / 2, sigma)\n",
    "    matrix /= np.max(matrix)\n",
    "    \n",
    "    return matrix\n"
   ]
  },
  {
   "cell_type": "code",
   "execution_count": 5,
   "id": "d97099bc-9e3e-4705-b76a-83fa0a616335",
   "metadata": {},
   "outputs": [],
   "source": [
    "Q_without_shift = create_gaussian_time_matrix(rows, cols, sigma)"
   ]
  },
  {
   "cell_type": "code",
   "execution_count": 6,
   "id": "4e828244-f50f-49d3-a7b0-ed3156717546",
   "metadata": {},
   "outputs": [],
   "source": [
    "def shift_matrix(matrix, shift_vector):\n",
    "    rows, cols = matrix.shape\n",
    "    shifted_matrix = np.zeros_like(matrix)\n",
    "\n",
    "    for col in range(cols):\n",
    "        shift_val = -shift_vector[col]\n",
    "        shifted_matrix[:, col] = shift(matrix[:, col], shift_val, mode='nearest')\n",
    "\n",
    "    return shifted_matrix\n"
   ]
  },
  {
   "cell_type": "code",
   "execution_count": 7,
   "id": "3a33cdec-b0de-43ba-b169-4073c10df1c1",
   "metadata": {},
   "outputs": [],
   "source": [
    "Q_with_shift = shift_matrix(Q_without_shift, shifted_t_values)"
   ]
  },
  {
   "cell_type": "code",
   "execution_count": 8,
   "id": "25c5fa58-4e90-4ae9-90a0-895c1d14ecfa",
   "metadata": {
    "tags": []
   },
   "outputs": [
    {
     "data": {
      "image/png": "[encoded data removed]",
      "text/plain": [
       "<Figure size 864x432 with 2 Axes>"
      ]
     },
     "metadata": {
      "needs_background": "light"
     },
     "output_type": "display_data"
    }
   ],
   "source": [
    "# Plotting\n",
    "fig, ax = plt.subplots(1, 2, figsize=(12, 6))\n",
    "\n",
    "# Without shift\n",
    "ax[0].imshow(Q_without_shift, cmap='hot', interpolation='nearest', aspect='auto')\n",
    "ax[0].set_title('Gaussian Distribution Without Shift (Snapshot)')\n",
    "\n",
    "# With shift\n",
    "ax[1].imshow(Q_with_shift, cmap='hot', interpolation='nearest', aspect='auto')\n",
    "ax[1].set_title('Gaussian Distribution With Polynomial Shift (Snapshot)')\n",
    "\n",
    "plt.show()"
   ]
  },
  {
   "cell_type": "markdown",
   "id": "1d846fc1-48be-46b5-bf26-9e4080f0d593",
   "metadata": {
    "tags": []
   },
   "source": [
    "# Define a model"
   ]
  },
  {
   "cell_type": "code",
   "execution_count": 9,
   "id": "96456189-96cd-4d44-a554-c4811c4be008",
   "metadata": {},
   "outputs": [],
   "source": [
    "class ShiftPredictionModel(nn.Module):\n",
    "    def __init__(self, p_init_coeffs, q_init_coeffs=[1], type_NN=\"polynomial\"):\n",
    "        super(ShiftPredictionModel, self).__init__()\n",
    "        self.p_coefficients = nn.ParameterList(\n",
    "            [nn.Parameter(torch.tensor([coeff], dtype=torch.float64), requires_grad=True) for coeff in p_init_coeffs[::-1]]\n",
    "        )\n",
    "        self.q_coefficients = nn.ParameterList(\n",
    "            [nn.Parameter(torch.tensor([coeff], dtype=torch.float64), requires_grad=True) for coeff in q_init_coeffs[::-1]]\n",
    "        )\n",
    "        self.type_NN = type_NN\n",
    "    \n",
    "    def forward_pol(self,t):\n",
    "        return sum([coeff * t**i for i, coeff in enumerate(self.p_coefficients)])\n",
    "    \n",
    "    def forward_rat(self,t):\n",
    "        shift2 = sum([coeff * t**i for i, coeff in enumerate(self.q_coefficients)]) + 1e-6 #avoid dividing by zero\n",
    "        return self.forward_pol(t)/shift2\n",
    "\n",
    "    def forward_activ(self, t):\n",
    "        return F.relu(t)\n",
    "    \n",
    "    def forward(self, t):\n",
    "        if self.type_NN == \"polynomial\":\n",
    "            output = self.forward_pol(t)\n",
    "        elif self.type_NN == \"rational\":\n",
    "            output = self.forward_rat(t)            \n",
    "        return output"
   ]
  },
  {
   "cell_type": "markdown",
   "id": "d524d968-571f-4340-af0c-9f9f62d63fb7",
   "metadata": {},
   "source": [
    "## Generate a data for simple polynomial regression"
   ]
  },
  {
   "cell_type": "code",
   "execution_count": 10,
   "id": "25797e61-f65b-4c29-aea3-2de0ffcd32d0",
   "metadata": {},
   "outputs": [],
   "source": [
    "np.random.shuffle(t_values)\n",
    "np.random.seed(42)\n",
    "\n",
    "train_size = int(cols * 0.8)\n",
    "val_size = cols - train_size\n",
    "\n",
    "x_train = t_values[:train_size]\n",
    "x_val = t_values[train_size:]\n",
    "y_train_pol = np.polyval(coefficients1,x_train)\n",
    "y_val_pol = np.polyval(coefficients1,x_val)"
   ]
  },
  {
   "cell_type": "code",
   "execution_count": 11,
   "id": "00edf050-92c9-42a7-8eb7-a075a319a4d1",
   "metadata": {},
   "outputs": [],
   "source": [
    "x_train = torch.tensor(x_train, dtype=torch.float64)\n",
    "x_val = torch.tensor(x_val, dtype=torch.float64)\n",
    "y_train_pol = torch.tensor(y_train_pol, dtype=torch.float64)\n",
    "y_val_pol = torch.tensor(y_val_pol, dtype=torch.float64)"
   ]
  },
  {
   "cell_type": "code",
   "execution_count": 12,
   "id": "6ecbfa81-4896-4da5-988c-34930a4659aa",
   "metadata": {},
   "outputs": [
    {
     "data": {
      "image/png": "[encoded data removed]",
      "text/plain": [
       "<Figure size 432x288 with 1 Axes>"
      ]
     },
     "metadata": {
      "needs_background": "light"
     },
     "output_type": "display_data"
    }
   ],
   "source": [
    "p_coefficients_init = [0,5,50]\n",
    "t_values = np.linspace(-10, 10, cols)\n",
    "y_values_pol = np.polyval(p_coefficients_init, t_values)\n",
    "\n",
    "plt.scatter(x_train, y_train_pol, alpha = 0.3, marker = 'o', color = 'r')\n",
    "plt.scatter(x_val, y_val_pol, alpha = 0.3, marker = 'o', color = 'b')\n",
    "plt.plot(t_values,y_values_pol, color = 'k')\n",
    "plt.title('2D Scatter plot ')\n",
    "plt.xlabel('x')\n",
    "plt.ylabel('y')\n",
    "plt.show()"
   ]
  },
  {
   "cell_type": "markdown",
   "id": "b68e8196-0107-4c77-bb4f-5af51c53e2b6",
   "metadata": {},
   "source": [
    "## Train a model for polynomial function"
   ]
  },
  {
   "cell_type": "code",
   "execution_count": 17,
   "id": "59e65e40-b3da-4716-bfa1-6d8ea0cfafef",
   "metadata": {},
   "outputs": [],
   "source": [
    "Q = torch.tensor(Q_with_shift, dtype=torch.float64,requires_grad=True)\n",
    "t_values_tensor = torch.linspace(-10, 10, cols)"
   ]
  },
  {
   "cell_type": "code",
   "execution_count": 18,
   "id": "7be4f4c6-65f1-4625-be83-204fda2bff21",
   "metadata": {},
   "outputs": [],
   "source": [
    "def tensor_shift(tensor, shift_vector):\n",
    "    rows, cols = tensor.shape\n",
    "    shifted_tensor = tensor.clone()\n",
    "    for i in range(cols):\n",
    "        shift = int(shift_vector[i].item())\n",
    "        shifted_tensor[:, i] = torch.roll(tensor[:, i], shifts=shift, dims=0)\n",
    "    return shifted_tensor\n"
   ]
  },
  {
   "cell_type": "code",
   "execution_count": 19,
   "id": "99c6a95a-8046-4018-849b-2f8e4281d1d8",
   "metadata": {},
   "outputs": [],
   "source": [
    "def total_variation(shift):\n",
    "    return torch.sum(torch.abs(shift[..., 1:] - shift[..., :-1]))"
   ]
  },
  {
   "cell_type": "code",
   "execution_count": 22,
   "id": "d1752818-48cb-47de-8ed1-0dc60f9457a9",
   "metadata": {
    "tags": []
   },
   "outputs": [
    {
     "name": "stdout",
     "output_type": "stream",
     "text": [
      "Epoch [0/100000], Loss: 103.3743,Coefficients:[-4, 4, 1]tensor([50.,  5.,  0.])\n",
      "Epoch [100/100000], Loss: 103.3743,Coefficients:[-4, 4, 1]tensor([50.,  5.,  0.])\n",
      "Epoch [200/100000], Loss: 103.3743,Coefficients:[-4, 4, 1]tensor([50.,  5.,  0.])\n",
      "Epoch [300/100000], Loss: 103.3743,Coefficients:[-4, 4, 1]tensor([50.,  5.,  0.])\n",
      "Epoch [400/100000], Loss: 103.3743,Coefficients:[-4, 4, 1]tensor([50.,  5.,  0.])\n",
      "Epoch [500/100000], Loss: 103.3743,Coefficients:[-4, 4, 1]tensor([50.,  5.,  0.])\n",
      "Epoch [600/100000], Loss: 103.3743,Coefficients:[-4, 4, 1]tensor([50.,  5.,  0.])\n",
      "Epoch [700/100000], Loss: 103.3743,Coefficients:[-4, 4, 1]tensor([50.,  5.,  0.])\n"
     ]
    },
    {
     "ename": "KeyboardInterrupt",
     "evalue": "",
     "output_type": "error",
     "traceback": [
      "\u001b[0;31m---------------------------------------------------------------------------\u001b[0m",
      "\u001b[0;31mKeyboardInterrupt\u001b[0m                         Traceback (most recent call last)",
      "Cell \u001b[0;32mIn[22], line 22\u001b[0m\n\u001b[1;32m     18\u001b[0m \u001b[38;5;66;03m#prediction_loss = criterion(y_pred_pol, y_train_pol)\u001b[39;00m\n\u001b[1;32m     19\u001b[0m \u001b[38;5;66;03m#tv_loss=total_variation(predictions)\u001b[39;00m\n\u001b[1;32m     20\u001b[0m loss \u001b[38;5;241m=\u001b[39m prediction_loss \u001b[38;5;66;03m#+ 0.5 * tv_loss\u001b[39;00m\n\u001b[0;32m---> 22\u001b[0m loss\u001b[38;5;241m.\u001b[39mbackward()\n\u001b[1;32m     23\u001b[0m optimizer\u001b[38;5;241m.\u001b[39mstep()\n\u001b[1;32m     25\u001b[0m \u001b[38;5;28;01mif\u001b[39;00m epoch \u001b[38;5;241m%\u001b[39m \u001b[38;5;241m100\u001b[39m \u001b[38;5;241m==\u001b[39m \u001b[38;5;241m0\u001b[39m:\n",
      "File \u001b[0;32m~/anaconda3/envs/thesis/lib/python3.11/site-packages/torch/_tensor.py:492\u001b[0m, in \u001b[0;36mTensor.backward\u001b[0;34m(self, gradient, retain_graph, create_graph, inputs)\u001b[0m\n\u001b[1;32m    482\u001b[0m \u001b[38;5;28;01mif\u001b[39;00m has_torch_function_unary(\u001b[38;5;28mself\u001b[39m):\n\u001b[1;32m    483\u001b[0m     \u001b[38;5;28;01mreturn\u001b[39;00m handle_torch_function(\n\u001b[1;32m    484\u001b[0m         Tensor\u001b[38;5;241m.\u001b[39mbackward,\n\u001b[1;32m    485\u001b[0m         (\u001b[38;5;28mself\u001b[39m,),\n\u001b[0;32m   (...)\u001b[0m\n\u001b[1;32m    490\u001b[0m         inputs\u001b[38;5;241m=\u001b[39minputs,\n\u001b[1;32m    491\u001b[0m     )\n\u001b[0;32m--> 492\u001b[0m torch\u001b[38;5;241m.\u001b[39mautograd\u001b[38;5;241m.\u001b[39mbackward(\n\u001b[1;32m    493\u001b[0m     \u001b[38;5;28mself\u001b[39m, gradient, retain_graph, create_graph, inputs\u001b[38;5;241m=\u001b[39minputs\n\u001b[1;32m    494\u001b[0m )\n",
      "File \u001b[0;32m~/anaconda3/envs/thesis/lib/python3.11/site-packages/torch/autograd/__init__.py:251\u001b[0m, in \u001b[0;36mbackward\u001b[0;34m(tensors, grad_tensors, retain_graph, create_graph, grad_variables, inputs)\u001b[0m\n\u001b[1;32m    246\u001b[0m     retain_graph \u001b[38;5;241m=\u001b[39m create_graph\n\u001b[1;32m    248\u001b[0m \u001b[38;5;66;03m# The reason we repeat the same comment below is that\u001b[39;00m\n\u001b[1;32m    249\u001b[0m \u001b[38;5;66;03m# some Python versions print out the first line of a multi-line function\u001b[39;00m\n\u001b[1;32m    250\u001b[0m \u001b[38;5;66;03m# calls in the traceback and some print out the last line\u001b[39;00m\n\u001b[0;32m--> 251\u001b[0m Variable\u001b[38;5;241m.\u001b[39m_execution_engine\u001b[38;5;241m.\u001b[39mrun_backward(  \u001b[38;5;66;03m# Calls into the C++ engine to run the backward pass\u001b[39;00m\n\u001b[1;32m    252\u001b[0m     tensors,\n\u001b[1;32m    253\u001b[0m     grad_tensors_,\n\u001b[1;32m    254\u001b[0m     retain_graph,\n\u001b[1;32m    255\u001b[0m     create_graph,\n\u001b[1;32m    256\u001b[0m     inputs,\n\u001b[1;32m    257\u001b[0m     allow_unreachable\u001b[38;5;241m=\u001b[39m\u001b[38;5;28;01mTrue\u001b[39;00m,\n\u001b[1;32m    258\u001b[0m     accumulate_grad\u001b[38;5;241m=\u001b[39m\u001b[38;5;28;01mTrue\u001b[39;00m,\n\u001b[1;32m    259\u001b[0m )\n",
      "\u001b[0;31mKeyboardInterrupt\u001b[0m: "
     ]
    }
   ],
   "source": [
    "model = ShiftPredictionModel(p_init_coeffs=p_coefficients_init,type_NN=\"polynomial\") # nn.Linear(40,1)\n",
    "model.to(torch.float64)\n",
    "\n",
    "criterion = nn.L1Loss()\n",
    "optimizer = optim.Adagrad(model.parameters(), lr=0.001)\n",
    "\n",
    "# Training the model\n",
    "epochs = 100000\n",
    "for epoch in range(epochs):\n",
    "    \n",
    "    model.train()\n",
    "    optimizer.zero_grad()\n",
    "    y_pred_pol = model(t_values_tensor)\n",
    "    p_coefficients = torch.tensor([p.item() for p in model.p_coefficients])\n",
    "    \n",
    "    TQ = tensor_shift(Q,y_pred_pol)    \n",
    "    prediction_loss = torch.norm(TQ,p=\"nuc\")\n",
    "    #prediction_loss = criterion(y_pred_pol, y_train_pol)\n",
    "    #tv_loss=total_variation(predictions)\n",
    "    loss = prediction_loss #+ 0.5 * tv_loss\n",
    "\n",
    "    loss.backward()\n",
    "    optimizer.step()\n",
    "\n",
    "    if epoch % 100 == 0:\n",
    "        print(f'Epoch [{epoch}/{epochs}], Loss: {loss.item():.4f},Coefficients:{[coefficients1[::-1][i] for i in range(len(coefficients1))]}{p_coefficients}')\n",
    "print(f\"Model training complete.\")\n"
   ]
  },
  {
   "cell_type": "code",
   "execution_count": 23,
   "id": "f1faa89e-8e25-41b1-8e46-fe11c49356b9",
   "metadata": {},
   "outputs": [
    {
     "data": {
      "image/png": "[encoded data removed]",
      "text/plain": [
       "<Figure size 432x288 with 1 Axes>"
      ]
     },
     "metadata": {
      "needs_background": "light"
     },
     "output_type": "display_data"
    }
   ],
   "source": [
    "t_values = np.linspace(-10, 10, cols)\n",
    "y_values_pol = np.polyval(np.flip(p_coefficients.numpy()), t_values)\n",
    "\n",
    "plt.scatter(x_train, y_train_pol, alpha = 0.3, marker = 'o', color = 'r')\n",
    "plt.scatter(x_val, y_val_pol, alpha = 0.3, marker = 'o', color = 'b')\n",
    "plt.plot(t_values,y_values_pol, color = 'k')\n",
    "plt.title('2D Scatter plot ')\n",
    "plt.xlabel('x')\n",
    "plt.ylabel('y')\n",
    "plt.show()"
   ]
  },
  {
   "cell_type": "code",
   "execution_count": null,
   "id": "e77fd42c-b815-4b47-ba85-c8683afeac8c",
   "metadata": {},
   "outputs": [],
   "source": [
    "print(np.linalg.norm(y_val_pol.detach().numpy() - y_pred_val_pol.detach().numpy()) / np.linalg.norm(y_val_pol.detach().numpy()))"
   ]
  },
  {
   "cell_type": "markdown",
   "id": "f9606159-1406-4033-9478-5d7331461f10",
   "metadata": {},
   "source": [
    "# Rational function"
   ]
  },
  {
   "cell_type": "markdown",
   "id": "48ebaa0c-6e46-4875-9313-747246e87587",
   "metadata": {},
   "source": [
    "## Create data for rational function regression"
   ]
  },
  {
   "cell_type": "code",
   "execution_count": 24,
   "id": "4aca9b22-4430-4dae-b114-e4a44a75d4cf",
   "metadata": {},
   "outputs": [],
   "source": [
    "np.random.shuffle(t_values)\n",
    "np.random.seed(42)\n",
    "\n",
    "train_size = int(cols * 0.8)\n",
    "val_size = cols - train_size\n",
    "\n",
    "x_train = t_values[:train_size]\n",
    "x_val = t_values[train_size:]\n",
    "y_train_rat = np.polyval(coefficients1,x_train)/np.polyval(coefficients2,x_train)\n",
    "y_val_rat = np.polyval(coefficients1,x_val)/np.polyval(coefficients2,x_val)"
   ]
  },
  {
   "cell_type": "code",
   "execution_count": 25,
   "id": "686e51e7-bd04-469c-8550-74e21077cd09",
   "metadata": {},
   "outputs": [],
   "source": [
    "x_train = torch.tensor(x_train, dtype=torch.float64)\n",
    "x_val = torch.tensor(x_val, dtype=torch.float64)\n",
    "y_train_rat = torch.tensor(y_train_rat, dtype=torch.float64)\n",
    "y_val_rat = torch.tensor(y_val_rat, dtype=torch.float64)"
   ]
  },
  {
   "cell_type": "code",
   "execution_count": 28,
   "id": "5a7e5071-dd2b-4451-a405-0c30d25e16e0",
   "metadata": {},
   "outputs": [
    {
     "data": {
      "image/png": "[encoded data removed]",
      "text/plain": [
       "<Figure size 432x288 with 1 Axes>"
      ]
     },
     "metadata": {
      "needs_background": "light"
     },
     "output_type": "display_data"
    }
   ],
   "source": [
    "t_values = np.linspace(-10, 10, cols)\n",
    "p_coefficients_init = [1,4,-1]\n",
    "q_coefficients_init = [3,1,1]\n",
    "y_values_rat = np.polyval(p_coefficients_init, t_values)/np.polyval(q_coefficients_init, t_values)\n",
    "\n",
    "plt.scatter(x_train, y_train_rat, alpha = 0.3, marker = 'o', color = 'r')\n",
    "plt.scatter(x_val, y_val_rat, alpha = 0.3, marker = 'o', color = 'b')\n",
    "plt.plot(t_values,y_values_rat, color = 'k')\n",
    "plt.title('2D Scatter plot ')\n",
    "plt.xlabel('x')\n",
    "plt.ylabel('y')\n",
    "plt.show()"
   ]
  },
  {
   "cell_type": "code",
   "execution_count": 29,
   "id": "a01ad9ca-af4e-42ef-b509-4b3fa874f16c",
   "metadata": {},
   "outputs": [],
   "source": [
    "class ShiftPredictionModel(nn.Module):\n",
    "    def __init__(self, p_init_coeffs, q_init_coeffs, type_NN):\n",
    "        super(ShiftPredictionModel, self).__init__()\n",
    "        self.p_coefficients = nn.ParameterList(\n",
    "            [nn.Parameter(torch.tensor([coeff], dtype=torch.float64), requires_grad=True) for coeff in p_init_coeffs[::-1]]\n",
    "        )\n",
    "        self.q_coefficients = nn.ParameterList(\n",
    "            [nn.Parameter(torch.tensor([coeff], dtype=torch.float64), requires_grad=True) for coeff in q_init_coeffs[::-1]]\n",
    "        )\n",
    "        self.type_NN = type_NN\n",
    "    \n",
    "    def forward_pol(self,t):\n",
    "        return sum([coeff * t**i for i, coeff in enumerate(self.p_coefficients)])\n",
    "    \n",
    "    def forward_rat(self,t):\n",
    "        shift2 = sum([coeff * t**i for i, coeff in enumerate(self.q_coefficients)]) + 1e-6 #avoid dividing by zero\n",
    "        return self.forward_pol(t)/shift2\n",
    "\n",
    "    def forward_activ(self, t):\n",
    "        return F.relu(t)\n",
    "    \n",
    "    def forward(self, t):\n",
    "        if self.type_NN == \"polynomial\":\n",
    "            output = self.forward_pol(t)\n",
    "        elif self.type_NN == \"rational\":\n",
    "            output = self.forward_rat(t)\n",
    "            #output = self.forward_activ(output)\n",
    "            \n",
    "        return output"
   ]
  },
  {
   "cell_type": "code",
   "execution_count": 30,
   "id": "457cff66-3768-424a-afb7-e18ed6b5f01b",
   "metadata": {},
   "outputs": [],
   "source": [
    "def custom_loss_l1(y_predicted, y_target, p_coefficients, q_coefficients, x_data):\n",
    "    # calculate |p(x)-y*q(x)|\n",
    "    q_x = torch.zeros_like(x_data)\n",
    "    for i, coeff in enumerate(q_coefficients):\n",
    "        q_x += coeff * x_data ** i\n",
    "    return torch.mean(torch.abs(y_predicted - y_target * q_x))"
   ]
  },
  {
   "cell_type": "code",
   "execution_count": null,
   "id": "3d62c9dd-b3b9-4e54-89ad-696a1497dc9b",
   "metadata": {
    "tags": []
   },
   "outputs": [
    {
     "ename": "NameError",
     "evalue": "name 'ShiftPredictionModel' is not defined",
     "output_type": "error",
     "traceback": [
      "\u001b[0;31m---------------------------------------------------------------------------\u001b[0m",
      "\u001b[0;31mNameError\u001b[0m                                 Traceback (most recent call last)",
      "Cell \u001b[0;32mIn[1], line 1\u001b[0m\n\u001b[0;32m----> 1\u001b[0m model \u001b[38;5;241m=\u001b[39m ShiftPredictionModel(p_init_coeffs\u001b[38;5;241m=\u001b[39mp_coefficients_init,q_init_coeffs\u001b[38;5;241m=\u001b[39mq_coefficients_init,type_NN\u001b[38;5;241m=\u001b[39m\u001b[38;5;124m\"\u001b[39m\u001b[38;5;124mrational\u001b[39m\u001b[38;5;124m\"\u001b[39m) \u001b[38;5;66;03m# nn.Linear(40,1)\u001b[39;00m\n\u001b[1;32m      2\u001b[0m model\u001b[38;5;241m.\u001b[39mto(torch\u001b[38;5;241m.\u001b[39mfloat32)\n\u001b[1;32m      4\u001b[0m criterion \u001b[38;5;241m=\u001b[39m nn\u001b[38;5;241m.\u001b[39mL1Loss()\n",
      "\u001b[0;31mNameError\u001b[0m: name 'ShiftPredictionModel' is not defined"
     ]
    }
   ],
   "source": [
    "model = ShiftPredictionModel(p_init_coeffs=p_coefficients_init,q_init_coeffs=q_coefficients_init,type_NN=\"rational\") # nn.Linear(40,1)\n",
    "model.to(torch.float64)\n",
    "\n",
    "criterion = nn.L1Loss()\n",
    "optimizer = optim.Adam(model.parameters(), lr=0.01)\n",
    "\n",
    "# Training the model\n",
    "epochs = 10000\n",
    "for epoch in range(epochs):\n",
    "    \n",
    "    model.train()\n",
    "    optimizer.zero_grad()\n",
    "    y_pred_rat = model(x_train)\n",
    "    p_coefficients = torch.tensor([p.item() for p in model.p_coefficients])\n",
    "    q_coefficients = torch.tensor([p.item() for p in model.q_coefficients])\n",
    "    prediction_loss = criterion(y_pred_rat, y_train_rat)\n",
    "    #tv_loss=total_variation(y_pred_rat)\n",
    "    loss = prediction_loss #+ 0.5 * tv_loss\n",
    "\n",
    "    loss.backward()\n",
    "    optimizer.step()\n",
    "        \n",
    "    # Evaluation\n",
    "    model.eval()\n",
    "    with torch.no_grad():\n",
    "        y_pred_val_rat = model(x_val)\n",
    "        prediction_val_loss = criterion(y_pred_val_rat,y_val_rat) #calculate_loss(y_val,predictions_val).item()\n",
    "        #tv_test_loss = total_variation(y_pred_val).item()\n",
    "        val_loss = prediction_val_loss #+ 0.5 * tv_test_loss\n",
    "        if epoch % 100 == 0:\n",
    "            print(f'Epoch [{epoch}/{epochs}], Loss: {loss.item():.4f}, Test Loss: {val_loss:.4f}, Coefficients:{[coefficients1[::-1][i] for i in range(len(coefficients1))]}{[coefficients2[::-1][i] for i in range(len(coefficients2))]}{p_coefficients}{q_coefficients}')\n",
    "\n",
    "print(f\"Model training complete.\")\n"
   ]
  },
  {
   "cell_type": "code",
   "execution_count": 32,
   "id": "b63395f1-83d7-4fa1-8cef-38e2d7e6561b",
   "metadata": {},
   "outputs": [
    {
     "data": {
      "image/png": "[encoded data removed]",
      "text/plain": [
       "<Figure size 432x288 with 1 Axes>"
      ]
     },
     "metadata": {
      "needs_background": "light"
     },
     "output_type": "display_data"
    }
   ],
   "source": [
    "t_values = np.linspace(-10, 10, cols)\n",
    "y_values_rat = np.polyval(np.flip(p_coefficients.numpy()), t_values)/np.polyval(np.flip(q_coefficients.numpy()), t_values)\n",
    "\n",
    "plt.scatter(x_train, y_train_rat, alpha = 0.3, marker = 'o', color = 'r')\n",
    "plt.scatter(x_val, y_val_rat, alpha = 0.3, marker = 'o', color = 'b')\n",
    "plt.plot(t_values,y_values_rat, color = 'k')\n",
    "plt.title('2D Scatter plot ')\n",
    "plt.xlabel('x')\n",
    "plt.ylabel('y')\n",
    "plt.show()"
   ]
  },
  {
   "cell_type": "code",
   "execution_count": 33,
   "id": "3edf107e-8737-44a7-ab80-7f1fddc99a0d",
   "metadata": {},
   "outputs": [
    {
     "name": "stdout",
     "output_type": "stream",
     "text": [
      "0.0013506314\n"
     ]
    }
   ],
   "source": [
    "print(np.linalg.norm(y_val_rat.detach().numpy() - y_pred_val_rat.detach().numpy()) / np.linalg.norm(y_val_rat.detach().numpy()))"
   ]
  },
  {
   "cell_type": "code",
   "execution_count": null,
   "id": "3734819f-6cc2-4278-8602-1eaf8858f443",
   "metadata": {},
   "outputs": [],
   "source": []
  }
 ],
 "metadata": {
  "kernelspec": {
   "display_name": "Python 3 (ipykernel)",
   "language": "python",
   "name": "python3"
  },
  "language_info": {
   "codemirror_mode": {
    "name": "ipython",
    "version": 3
   },
   "file_extension": ".py",
   "mimetype": "text/x-python",
   "name": "python",
   "nbconvert_exporter": "python",
   "pygments_lexer": "ipython3",
   "version": "3.11.2"
  }
 },
 "nbformat": 4,
 "nbformat_minor": 5
}
