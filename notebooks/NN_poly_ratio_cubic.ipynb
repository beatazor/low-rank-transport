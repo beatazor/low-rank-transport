{
 "cells": [
  {
   "cell_type": "code",
   "execution_count": 1,
   "id": "6963bf93-a774-4b7f-b0b4-1ee1ca85e16b",
   "metadata": {},
   "outputs": [],
   "source": [
    "import torch\n",
    "import torch.nn as nn\n",
    "import torch.nn.functional as F\n",
    "import torch.optim as optim\n",
    "from torch.autograd import gradcheck\n",
    "import numpy as np\n",
    "import matplotlib.pyplot as plt\n",
    "from scipy.ndimage import shift\n",
    "from math import sqrt\n",
    "from scipy.sparse import diags\n",
    "from scipy.linalg import cholesky"
   ]
  },
  {
   "cell_type": "markdown",
   "id": "ad91d999-b9a0-4eb1-87a5-f83d4a535ff3",
   "metadata": {},
   "source": [
    "## Create MATRIX data"
   ]
  },
  {
   "cell_type": "code",
   "execution_count": 2,
   "id": "9784ddd8-ffc5-40a7-9129-6489bebf2b26",
   "metadata": {},
   "outputs": [],
   "source": [
    "rows, cols, sigma = 100, 50, 5.0\n",
    "coefficients1 = [1,4,-4]\n",
    "coefficients2 = [3,1,5]\n",
    "degree1 = 2\n",
    "degree2 = 2"
   ]
  },
  {
   "cell_type": "code",
   "execution_count": 3,
   "id": "591f5510-7a71-4d05-8891-0dc20ac11930",
   "metadata": {},
   "outputs": [],
   "source": [
    "t_values = np.linspace(-10, 10, cols)\n",
    "shifted_t_values = np.polyval(coefficients1,t_values)"
   ]
  },
  {
   "cell_type": "code",
   "execution_count": 4,
   "id": "c1a73b5f-aef7-46e2-84b0-580987b2caa4",
   "metadata": {},
   "outputs": [],
   "source": [
    "# Gaussian function\n",
    "def gaussian(x, mu, sigma=1.0):\n",
    "    return np.exp(-np.power(x - mu, 2.0) / (2 * np.power(sigma, 2.0)))\n",
    "\n",
    "def create_gaussian_time_matrix(rows=500, cols=50, sigma=1.0):\n",
    "    matrix = np.zeros((rows, cols))\n",
    "    for col in range(cols):\n",
    "        for row in range(rows):\n",
    "            matrix[row, col] = gaussian(row, rows / 2, sigma)\n",
    "    matrix /= np.max(matrix)\n",
    "    \n",
    "    return matrix\n"
   ]
  },
  {
   "cell_type": "code",
   "execution_count": 5,
   "id": "d97099bc-9e3e-4705-b76a-83fa0a616335",
   "metadata": {},
   "outputs": [],
   "source": [
    "Q_orig = create_gaussian_time_matrix(rows, cols, sigma)"
   ]
  },
  {
   "cell_type": "markdown",
   "id": "93562770-b1f8-40d0-b521-4d17418e821b",
   "metadata": {},
   "source": [
    "# Cubic interpolation and shifting"
   ]
  },
  {
   "cell_type": "code",
   "execution_count": 6,
   "id": "e03f1b87-a1c8-476c-8d81-2994da1daccd",
   "metadata": {},
   "outputs": [],
   "source": [
    "class SplineInterpolation:\n",
    "    def __init__(self, params):\n",
    "        self.params = params\n",
    "        self.A1, self.D1, self.D2, self.R = self.give_spline_coefficient_matrices()\n",
    "\n",
    "    def give_spline_coefficient_matrices(self):\n",
    "        Nxi = params['geometry']['Nxi']\n",
    "        # Initialize matrices\n",
    "        # Create the A1 matrix\n",
    "        diagonals = np.ones((Nxi, 1)) * np.array([1, 2, 1])\n",
    "        offsets = [-1, 0, Nxi-1]\n",
    "        A1_np = diags(diagonals.T, offsets, shape=(Nxi, Nxi)).toarray()\n",
    "        A1 = torch.tensor(A1_np, dtype=torch.float64)\n",
    "\n",
    "        # Create the D1 matrix\n",
    "        diagonals = np.ones((Nxi, 1)) * np.array([-1, 1, -1])\n",
    "        D1_np = diags(diagonals.T, offsets, shape=(Nxi, Nxi)).toarray()\n",
    "        D1 = torch.tensor(D1_np, dtype=torch.float64)\n",
    "\n",
    "        # Create the D2 matrix\n",
    "        diagonals = np.ones((Nxi, 1)) * np.array([1, 1, -2, 1, 1])\n",
    "        offsets = [-(Nxi-1), -1, 0, 1, Nxi-1]\n",
    "        D2_np = diags(diagonals.T, offsets, shape=(Nxi, Nxi)).toarray()\n",
    "        D2 = torch.tensor(D2_np, dtype=torch.float64)\n",
    "\n",
    "        # Create the M matrix and compute its Cholesky decomposition\n",
    "        diagonals = np.ones((Nxi, 1)) * np.array([1, 1, 4, 1, 1])\n",
    "        M_np = diags(diagonals.T, offsets, shape=(Nxi, Nxi)).toarray()\n",
    "        R_np = cholesky(M_np)\n",
    "        R = torch.tensor(R_np, dtype=torch.float64)\n",
    "        \n",
    "        return A1, D1, D2, R\n",
    "\n",
    "    def construct_spline_coeffs_periodic(self, qs):\n",
    "        n = qs.shape[1]\n",
    "        #import pdb; pdb.set_trace()\n",
    "        # grid size:\n",
    "        dxi = params['geometry']['dxi']\n",
    "\n",
    "        # compute the spline coefficients:\n",
    "        if qs.ndim == 1:  # case of just one data set\n",
    "            spline_coeffs = {\n",
    "                'a': qs,\n",
    "                'c': (3 / dxi ** 2) * torch.solve(D2 @ qs, R)[0],\n",
    "                'b': None,\n",
    "                'd': None\n",
    "            }\n",
    "            spline_coeffs['b'] = (1 / dxi) * (self.D1 @ qs) + (dxi / 3) * (self.A1 @ spline_coeffs['c'])\n",
    "            spline_coeffs['d'] = (1 / (3 * dxi)) * (self.D1 @ spline_coeffs['c'])\n",
    "        else:  # case of multiple data sets\n",
    "            spline_coeffs = {'a': qs, 'b': qs.clone(), 'c': qs.clone(), 'd': qs.clone()}\n",
    "            #import pdb; pdb.set_trace()\n",
    "            for i in range(n):\n",
    "                # Assign the solved result to spline_coeffs\n",
    "                spline_coeffs['c'][:, i] = (3 / dxi**2) * torch.linalg.solve(self.R, torch.linalg.solve(self.R.T, self.D2 @ qs[:, i]))\n",
    "                spline_coeffs['b'][:, i] = (1 / dxi) * (self.D1 @ qs[:, i]) + (dxi / 3) * (self.A1 @ spline_coeffs['c'][:, i])\n",
    "                spline_coeffs['d'][:, i] = (1 / (3 * dxi)) * (self.D1 @ spline_coeffs['c'][:, i])\n",
    "\n",
    "        return spline_coeffs\n",
    "\n",
    "    def forward(self, qs, cs):\n",
    "        self.A1, self.D1, self.D2, self.R = self.give_spline_coefficient_matrices()\n",
    "        # Compute spline coefficients\n",
    "        spline_coeffs = self.construct_spline_coeffs_periodic(qs)\n",
    "\n",
    "        # Shift the data set\n",
    "        qs_shifted = self.shift_matrix_periodic_precomputed_coeffs(cs, spline_coeffs)\n",
    "        return qs_shifted\n",
    "\n",
    "    def backward(self, qs, cs):\n",
    "        # Compute spline coefficients\n",
    "        spline_coeffs = self.construct_spline_coeffs_periodic(qs)\n",
    "\n",
    "        # Compute the derivative of the shifted data set\n",
    "        qs_derivative_shifted = self.shiftMatrix_derivative_periodic_precomputedCoeffs(cs, spline_coeffs)\n",
    "        return qs_derivative_shifted\n",
    "\n",
    "    def shift_matrix_periodic_precomputed_coeffs(self, cs, spline_coeffs):\n",
    "        # Extract spline coefficients\n",
    "        a = spline_coeffs['a']\n",
    "        b = spline_coeffs['b']\n",
    "        c = spline_coeffs['c']\n",
    "        d = spline_coeffs['d']\n",
    "\n",
    "        # Number of grid points\n",
    "        m = params['geometry']['Nxi']\n",
    "\n",
    "        # Number of data sets\n",
    "        n = a.shape[1]\n",
    "\n",
    "        # Grid size\n",
    "        dxi = params['geometry']['dxi']\n",
    "\n",
    "        # Length of computational domain\n",
    "        L = m * dxi\n",
    "\n",
    "        # Compute csTilde = cs modulo L\n",
    "        q1 = torch.floor(cs / L)\n",
    "        csTilde = cs - q1 * L\n",
    "        #import pdb; pdb.set_trace()\n",
    "        # Compute zeta = csTilde modulo dxi\n",
    "        #import pdb; pdb.set_trace()\n",
    "        q2 = torch.floor(csTilde / dxi)\n",
    "        zeta = csTilde - q2 * dxi\n",
    "\n",
    "        # Compute shifted version of the data set(s)\n",
    "        if a.ndim == 1:  # Case of only one data set\n",
    "            if cs.ndim == 1:  # If cs is a vector, then the data set is shifted by multiple shift amounts\n",
    "                zeta = zeta.reshape(1, -1)  # Ensure zeta is a row vector\n",
    "                # Compute interpolated data set\n",
    "                qsInterpolated = a - torch.matmul(b.unsqueeze(1), zeta) + torch.matmul(c.unsqueeze(1), zeta ** 2) - torch.matmul(d.unsqueeze(1), zeta ** 3)\n",
    "                # Compute shifted data set\n",
    "                qsShifted[:, i] = torch.cat((qsInterpolated[m - int(q2[i].item()):], qsInterpolated[:m - int(q2[i].item())]), dim=0)\n",
    "\n",
    "            else:\n",
    "                qsInterpolated = a - zeta * b + zeta ** 2 * c - zeta ** 3 * d\n",
    "                qsShifted = torch.cat((qsInterpolated[m - int(q2[i].item()):], qsInterpolated[:m - int(q2[i].item())]))\n",
    "        else:  # Case of multiple data sets\n",
    "            if torch.is_tensor(q2) and q2.numel() == 1:\n",
    "                q2 = q2.repeat(n)\n",
    "                zeta = zeta.repeat(n)\n",
    "            qsShifted = torch.zeros((m, n))\n",
    "            for i in range(n):\n",
    "                # Compute interpolated data set\n",
    "                qsInterpolated = a[:, i] - zeta[i] * b[:, i] + zeta[i] ** 2 * c[:, i] - zeta[i] ** 3 * d[:, i]\n",
    "                # Compute shifted data set\n",
    "                qsShifted[:, i] = torch.cat((qsInterpolated[m - int(q2[i].item()):], qsInterpolated[:m - int(q2[i].item())]), dim=0)\n",
    "\n",
    "\n",
    "        return qsShifted\n",
    "\n",
    "    def shiftMatrix_derivative_periodic_precomputedCoeffs(self, cs, splineCoeffs):\n",
    "        # Extracting spline coefficients\n",
    "        b = splineCoeffs['b']\n",
    "        c = splineCoeffs['c']\n",
    "        d = splineCoeffs['d']\n",
    "        \n",
    "        # Number of grid points\n",
    "        m = params['geometry']['Nxi']\n",
    "\n",
    "        # Number of data sets\n",
    "        n = b.shape[1]\n",
    "\n",
    "        # Grid size\n",
    "        dxi = params['geometry']['dxi']\n",
    "\n",
    "        # Length of computational domain\n",
    "        L = m * dxi\n",
    "\n",
    "        # Compute csTilde = cs modulo L\n",
    "        q1 = torch.floor(cs / L)\n",
    "        csTilde = cs - q1 * L\n",
    "\n",
    "        # Compute zeta = csTilde modulo dxi\n",
    "        q2 = torch.floor(csTilde / dxi)\n",
    "        zeta = csTilde - q2 * dxi\n",
    "        #import pdb; pdb.set_trace()\n",
    "\n",
    "        # Compute derivative of shifted data set(s)\n",
    "        if b.dim() == 1:  # Case of only one data set\n",
    "            if cs.dim() == 1:  # if cs is a vector\n",
    "                if zeta.dim() == 1:\n",
    "                    zeta = zeta.unsqueeze(0)\n",
    "                qsInterpolated = -b + 2 * c * zeta - 3 * d * zeta.pow(2)\n",
    "                qsShifted[:, i] = torch.cat((qsInterpolated[m - int(q2[i].item()):], qsInterpolated[:m - int(q2[i].item())]), dim=0)\n",
    "            else:\n",
    "                qsInterpolated = -b + 2 * zeta * c - 3 * zeta.pow(2) * d\n",
    "                qsShifted = torch.cat((qsInterpolated[m - int(q2[i].item()):], qsInterpolated[:m - int(q2[i].item())]))\n",
    "        else:  # Case of multiple data sets\n",
    "            if torch.is_tensor(q2) and torch.numel(q2) == 1:\n",
    "                q2 = q2.repeat(n)\n",
    "                zeta = zeta.repeat(n)\n",
    "            qsShifted = torch.zeros((m, n), dtype=b.dtype, device=b.device)\n",
    "            for i in range(n):\n",
    "                qsInterpolated = -b[:, i] + 2 * zeta[i] * c[:, i] - 3 * zeta[i].pow(2) * d[:, i]\n",
    "                qsShifted[:, i] = torch.cat((qsInterpolated[m - int(q2[i].item()):], qsInterpolated[:m - int(q2[i].item())]), dim=0)\n",
    "\n",
    "        return qsShifted"
   ]
  },
  {
   "cell_type": "code",
   "execution_count": 7,
   "id": "5003a890-a2b2-414d-9be0-0ca78113d0ad",
   "metadata": {},
   "outputs": [],
   "source": [
    "qs = torch.tensor(Q_orig, requires_grad=False)\n",
    "x = np.arange(0,rows)\n",
    "cs = torch.tensor(shifted_t_values, requires_grad=True)\n",
    "params = {'geometry': {'Nxi': rows, 'dxi': x[1]-x[0]}, 'interpolation': {}}"
   ]
  },
  {
   "cell_type": "code",
   "execution_count": 19,
   "id": "c3616fdb-15e8-4ec0-99da-eb34a7d23854",
   "metadata": {},
   "outputs": [],
   "source": [
    "spline_interpolator = SplineInterpolation(params)\n",
    "qs_shifted = spline_interpolator.forward(qs.double(), cs.double())\n",
    "q_reverse_shifted = spline_interpolator.forward(qs_shifted.double(), -cs.double())\n",
    "qs_derivative_shifted = spline_interpolator.backward(qs.double(), cs.double())"
   ]
  },
  {
   "cell_type": "code",
   "execution_count": 9,
   "id": "b7e40bad-245c-4c39-baa2-a41134b9d115",
   "metadata": {},
   "outputs": [
    {
     "name": "stdout",
     "output_type": "stream",
     "text": [
      "1.4934154606627273e-05\n"
     ]
    }
   ],
   "source": [
    "print(np.linalg.norm(qs.detach().numpy() - q_reverse_shifted.detach().numpy())/np.linalg.norm(qs.detach().numpy()))"
   ]
  },
  {
   "cell_type": "code",
   "execution_count": 10,
   "id": "63195002-a623-4495-9b5f-d3aaccc08f42",
   "metadata": {
    "tags": []
   },
   "outputs": [
    {
     "data": {
      "text/plain": [
       "Text(0.5, 1.0, 'Gaussian Distribution With Polynomial Shift Derivative (Snapshot)')"
      ]
     },
     "execution_count": 10,
     "metadata": {},
     "output_type": "execute_result"
    },
    {
     "data": {
      "image/png": "[encoded data removed]",
      "text/plain": [
       "<Figure size 2000x600 with 3 Axes>"
      ]
     },
     "metadata": {},
     "output_type": "display_data"
    }
   ],
   "source": [
    "# Plotting\n",
    "fig, ax = plt.subplots(1, 3, figsize=(20, 6))\n",
    "\n",
    "# Without shift\n",
    "ax[0].imshow(qs.detach().numpy(), cmap='hot', interpolation='nearest', aspect='auto')\n",
    "ax[0].set_title('Gaussian Distribution Without Shift (Snapshot)')\n",
    "\n",
    "# With shift\n",
    "ax[1].imshow(q_reverse_shifted.detach().numpy(), cmap='hot', interpolation='nearest', aspect='auto')\n",
    "ax[1].set_title('Gaussian Distribution With Polynomial Shift (Snapshot)')\n",
    "\n",
    "ax[2].imshow(qs_shifted.detach().numpy(), cmap='hot', interpolation='nearest', aspect='auto')\n",
    "ax[2].set_title('Gaussian Distribution With Polynomial Shift Derivative (Snapshot)')"
   ]
  },
  {
   "cell_type": "code",
   "execution_count": null,
   "id": "727ae527-efeb-4617-b0e2-ea91a0612a15",
   "metadata": {
    "tags": []
   },
   "outputs": [],
   "source": [
    "from torch.autograd import gradcheck\n",
    "\n",
    "spline_interpolator = SplineInterpolation(params)\n",
    "\n",
    "test = gradcheck(spline_interpolator.backward, (qs.double(), cs.double()), eps=1e-3, atol=1e-4)\n",
    "print(\"Gradient check passed:\", test)\n"
   ]
  },
  {
   "cell_type": "markdown",
   "id": "fa9deb0f-c6ed-4cfc-a618-34dcd83258d6",
   "metadata": {},
   "source": [
    "## Train a model for polynomial function"
   ]
  },
  {
   "cell_type": "code",
   "execution_count": 11,
   "id": "a010ee80-d476-4394-9683-da9154e262d3",
   "metadata": {},
   "outputs": [],
   "source": [
    "class ShiftPredictionModel(nn.Module):\n",
    "    def __init__(self, p_init_coeffs, q_init_coeffs=[1], type_NN=\"polynomial\"):\n",
    "        super(ShiftPredictionModel, self).__init__()\n",
    "        self.p_coefficients = nn.ParameterList(\n",
    "            [nn.Parameter(torch.tensor([coeff], dtype=torch.float64), requires_grad=True) for coeff in p_init_coeffs[::-1]]\n",
    "        )\n",
    "        self.q_coefficients = nn.ParameterList(\n",
    "            [nn.Parameter(torch.tensor([coeff], dtype=torch.float64), requires_grad=True) for coeff in q_init_coeffs[::-1]]\n",
    "        )\n",
    "        self.type_NN = type_NN\n",
    "    \n",
    "    def forward_pol(self,t):\n",
    "        return sum([coeff * t**i for i, coeff in enumerate(self.p_coefficients)])\n",
    "    \n",
    "    def forward_rat(self,t):\n",
    "        shift2 = sum([coeff * t**i for i, coeff in enumerate(self.q_coefficients)]) + 1e-6 #avoid dividing by zero\n",
    "        return self.forward_pol(t)/shift2\n",
    "\n",
    "    def forward_activ(self, t):\n",
    "        return F.relu(t)\n",
    "    \n",
    "    def forward(self, t):\n",
    "        if self.type_NN == \"polynomial\":\n",
    "            output = self.forward_pol(t)\n",
    "        elif self.type_NN == \"rational\":\n",
    "            output = self.forward_rat(t)\n",
    "        return output"
   ]
  },
  {
   "cell_type": "code",
   "execution_count": 12,
   "id": "66f0e57d-9971-4f08-a1f7-3360515298ec",
   "metadata": {},
   "outputs": [],
   "source": [
    "def total_variation(shift):\n",
    "    return torch.sum(torch.abs(shift[..., 1:] - shift[..., :-1]))"
   ]
  },
  {
   "cell_type": "code",
   "execution_count": 13,
   "id": "1494f051-44c7-4e5d-a8ab-3ce664d73321",
   "metadata": {},
   "outputs": [],
   "source": [
    "class NuclearNormAutograd(torch.autograd.Function):\n",
    "    @staticmethod\n",
    "    def forward(ctx, input_matrix):\n",
    "        ctx.save_for_backward(input_matrix)\n",
    "        return torch.linalg.matrix_norm(input_matrix, ord=\"nuc\")\n",
    "\n",
    "    @staticmethod\n",
    "    def backward(ctx, grad_output):\n",
    "        input_matrix, = ctx.saved_tensors\n",
    "        u, s, v = torch.svd(input_matrix, some=True)\n",
    "        rank = torch.sum(s > 0).item()\n",
    "        dtype = input_matrix.dtype\n",
    "        eye_approx = torch.diag_embed((s > 0).to(dtype))[:s.size(0), :s.size(0)]\n",
    "        grad_input = torch.matmul(torch.matmul(u[:, :rank], eye_approx), v[:, :rank].t())\n",
    "        return grad_input * grad_output"
   ]
  },
  {
   "cell_type": "code",
   "execution_count": 44,
   "id": "a1a1de64-b9e0-4e6b-abcd-7f40431f078f",
   "metadata": {},
   "outputs": [],
   "source": [
    "p_coefficients_init = [-1,-3,2]\n",
    "t_values_tensor = torch.linspace(-10, 10, cols,dtype=torch.float64)"
   ]
  },
  {
   "cell_type": "code",
   "execution_count": 51,
   "id": "24aa87f9-cbfe-4fb1-aabc-bed67ae9b659",
   "metadata": {},
   "outputs": [
    {
     "name": "stdout",
     "output_type": "stream",
     "text": [
      "Epoch [0/500], Loss: 36.9982,Coefficients:[4, -4, -1]tensor([ 2., -3., -1.])\n",
      "Epoch [100/500], Loss: 21.0514,Coefficients:[4, -4, -1]tensor([ 1.8482, -4.0000, -1.0000])\n",
      "Epoch [200/500], Loss: 21.0503,Coefficients:[4, -4, -1]tensor([ 1.8479, -4.0000, -1.0000])\n",
      "Epoch [300/500], Loss: 21.0503,Coefficients:[4, -4, -1]tensor([ 1.8479, -4.0000, -1.0000])\n",
      "Epoch [400/500], Loss: 21.0503,Coefficients:[4, -4, -1]tensor([ 1.8479, -4.0000, -1.0000])\n",
      "Model training complete.\n"
     ]
    }
   ],
   "source": [
    "model = ShiftPredictionModel(p_init_coeffs=p_coefficients_init,type_NN=\"polynomial\")\n",
    "model.to(torch.float64)\n",
    "\n",
    "optimizer = optim.Adagrad(model.parameters(), lr=0.1)\n",
    "#optimizer = optim.Adam(model.parameters(), lr=0.01)\n",
    "#optimizer = optim.SGD(model.parameters(), lr=0.1, momentum=0.9)\n",
    "#optimizer = optim.LBFGS(model.parameters(), lr=0.01)\n",
    "\n",
    "#scheduler= optim.lr_scheduler.LinearLR(optimizer, start_factor=1.0, end_factor=0.05, total_iters=30)\n",
    "scheduler = torch.optim.lr_scheduler.StepLR(optimizer, step_size=30, gamma=0.1)\n",
    "\n",
    "# Training the model\n",
    "epochs = 500\n",
    "for epoch in range(epochs):\n",
    "    \n",
    "    model.train()\n",
    "    optimizer.zero_grad()\n",
    "    y_pred_pol = model(t_values_tensor)\n",
    "    #print(f\"y_pred_pol requires grad: {y_pred_pol.requires_grad}\")\n",
    "    p_coefficients = torch.tensor([p.item() for p in model.p_coefficients])\n",
    "    #TQ = tensor_shift_with_fractional(Q,y_pred_pol)\n",
    "    TQ = spline_interpolator.forward(qs_shifted.double(), y_pred_pol.double()) #TensorShiftFunction.apply(Q,y_pred_pol)\n",
    "    loss = NuclearNormAutograd.apply(TQ)\n",
    "    tv_loss=total_variation(y_pred_pol)\n",
    "    #loss += 0.1 * tv_loss**2\n",
    "    #print(f\"Loss requires grad: {loss.requires_grad}\") \n",
    "    \n",
    "    loss.backward(retain_graph=True)\n",
    "    \n",
    "    #print(f\"Gradients at Epoch {epoch}:\")\n",
    "    #for name, param in model.named_parameters():\n",
    "    #    if param.grad is not None:\n",
    "    #        print(f\" - {name}: {param.grad}\")\n",
    "\n",
    "    optimizer.step()\n",
    "    \n",
    "    scheduler.step()\n",
    "            \n",
    "    if epoch % 100 == 0:\n",
    "        print(f'Epoch [{epoch}/{epochs}], Loss: {loss.item():.4f},Coefficients:{[-coefficients1[::-1][i] for i in range(len(coefficients1))]}{p_coefficients}')\n",
    "\n",
    "print(f\"Model training complete.\")"
   ]
  },
  {
   "cell_type": "code",
   "execution_count": 49,
   "id": "14409225-7515-440d-8a9c-2e266c1972bb",
   "metadata": {},
   "outputs": [
    {
     "data": {
      "text/plain": [
       "Text(0.5, 1.0, 'Snapshot with initial shift')"
      ]
     },
     "execution_count": 49,
     "metadata": {},
     "output_type": "execute_result"
    },
    {
     "data": {
      "image/png": "[encoded data removed]",
      "text/plain": [
       "<Figure size 2000x600 with 3 Axes>"
      ]
     },
     "metadata": {},
     "output_type": "display_data"
    }
   ],
   "source": [
    "# Plotting\n",
    "fig, ax = plt.subplots(1, 3, figsize=(20, 6))\n",
    "\n",
    "# Without shift\n",
    "ax[0].imshow(qs_shifted.detach().numpy(), cmap='hot', interpolation='nearest', aspect='auto')\n",
    "ax[0].set_title('Snapshot with shift')\n",
    "\n",
    "# With shift\n",
    "ax[1].imshow(TQ.detach().numpy(), cmap='hot', interpolation='nearest', aspect='auto')\n",
    "ax[1].set_title('Snapshot after training')\n",
    "\n",
    "# With initial shift\n",
    "initial_cs = torch.tensor(np.polyval(p_coefficients_init,t_values), requires_grad=True)\n",
    "ps_initial_shift = spline_interpolator.forward(qs_shifted.double(), initial_cs.double())\n",
    "ax[2].imshow(ps_initial_shift.detach().numpy(), cmap='hot', interpolation='nearest', aspect='auto')\n",
    "ax[2].set_title('Snapshot with initial shift')"
   ]
  },
  {
   "cell_type": "code",
   "execution_count": 50,
   "id": "8915b6ab-086e-4a39-8755-58e5848ef11f",
   "metadata": {},
   "outputs": [
    {
     "data": {
      "text/plain": [
       "tensor(21.0503, dtype=torch.float64)"
      ]
     },
     "execution_count": 50,
     "metadata": {},
     "output_type": "execute_result"
    }
   ],
   "source": [
    "NuclearNormAutograd.apply(qs)"
   ]
  },
  {
   "cell_type": "markdown",
   "id": "01c7c6a0-9dd9-4216-98a1-ab64d5ee73ce",
   "metadata": {},
   "source": [
    "## Rational polynomial"
   ]
  },
  {
   "cell_type": "code",
   "execution_count": 226,
   "id": "1ae07a0e-694c-428d-825d-4c153e4e71c0",
   "metadata": {},
   "outputs": [],
   "source": [
    "p_coefficients_init = [-1,-3,3]\n",
    "q_coefficients_init = [2,3,4]"
   ]
  },
  {
   "cell_type": "code",
   "execution_count": 228,
   "id": "84a0ce0c-bd89-4db0-ab6e-c71c800bb80b",
   "metadata": {},
   "outputs": [],
   "source": [
    "cs_rational_initial = torch.tensor(np.polyval(coefficients1,t_values)/np.polyval(coefficients2,t_values), requires_grad=True) \n",
    "qs_shifted_rational = spline_interpolator.forward(qs.double(), cs_rational_initial.double())"
   ]
  },
  {
   "cell_type": "code",
   "execution_count": 229,
   "id": "ab52f848-17eb-4908-9011-33fb8adff276",
   "metadata": {},
   "outputs": [
    {
     "name": "stdout",
     "output_type": "stream",
     "text": [
      "Epoch [0/1000], Loss: 21.6145, Coefficients:[4, -4, -1][5, 1, 3]tensor([ 3., -3., -1.])tensor([4., 3., 2.])\n",
      "Epoch [100/1000], Loss: 21.2143, Coefficients:[4, -4, -1][5, 1, 3]tensor([ 2.8661, -2.9697, -0.7557])tensor([4.3263, 2.3020, 2.4032])\n",
      "Epoch [200/1000], Loss: 21.2143, Coefficients:[4, -4, -1][5, 1, 3]tensor([ 2.8662, -2.9698, -0.7558])tensor([4.3263, 2.3018, 2.4032])\n",
      "Epoch [300/1000], Loss: 21.2143, Coefficients:[4, -4, -1][5, 1, 3]tensor([ 2.8662, -2.9698, -0.7558])tensor([4.3263, 2.3018, 2.4032])\n",
      "Epoch [400/1000], Loss: 21.2143, Coefficients:[4, -4, -1][5, 1, 3]tensor([ 2.8662, -2.9698, -0.7558])tensor([4.3263, 2.3018, 2.4032])\n",
      "Epoch [500/1000], Loss: 21.2143, Coefficients:[4, -4, -1][5, 1, 3]tensor([ 2.8662, -2.9698, -0.7558])tensor([4.3263, 2.3018, 2.4032])\n",
      "Epoch [600/1000], Loss: 21.2143, Coefficients:[4, -4, -1][5, 1, 3]tensor([ 2.8662, -2.9698, -0.7558])tensor([4.3263, 2.3018, 2.4032])\n",
      "Epoch [700/1000], Loss: 21.2143, Coefficients:[4, -4, -1][5, 1, 3]tensor([ 2.8662, -2.9698, -0.7558])tensor([4.3263, 2.3018, 2.4032])\n",
      "Epoch [800/1000], Loss: 21.2143, Coefficients:[4, -4, -1][5, 1, 3]tensor([ 2.8662, -2.9698, -0.7558])tensor([4.3263, 2.3018, 2.4032])\n",
      "Epoch [900/1000], Loss: 21.2143, Coefficients:[4, -4, -1][5, 1, 3]tensor([ 2.8662, -2.9698, -0.7558])tensor([4.3263, 2.3018, 2.4032])\n",
      "Model training complete.\n"
     ]
    }
   ],
   "source": [
    "model = ShiftPredictionModel(p_init_coeffs=p_coefficients_init,q_init_coeffs=q_coefficients_init,type_NN=\"rational\") # nn.Linear(40,1)\n",
    "model.to(torch.float64)\n",
    "\n",
    "optimizer = optim.Adagrad(model.parameters(), lr=0.1)\n",
    "#optimizer = optim.Adam(model.parameters(), lr=0.01)\n",
    "#optimizer = optim.SGD(model.parameters(), lr=0.1, momentum=0.9)\n",
    "#optimizer = optim.LBFGS(model.parameters(), lr=0.01)\n",
    "\n",
    "#scheduler= optim.lr_scheduler.LinearLR(optimizer, start_factor=1.0, end_factor=0.05, total_iters=30)\n",
    "scheduler = torch.optim.lr_scheduler.StepLR(optimizer, step_size=30, gamma=0.1)\n",
    "\n",
    "# Training the model\n",
    "epochs = 1000\n",
    "for epoch in range(epochs):\n",
    "    \n",
    "    model.train()\n",
    "    optimizer.zero_grad()\n",
    "    y_pred_pol = model(t_values_tensor)\n",
    "    #print(f\"y_pred_pol requires grad: {y_pred_pol.requires_grad}\")\n",
    "    p_coefficients = torch.tensor([p.item() for p in model.p_coefficients])\n",
    "    q_coefficients = torch.tensor([p.item() for p in model.q_coefficients])\n",
    "    #TQ = tensor_shift_with_fractional(Q,y_pred_pol)\n",
    "    TQ = spline_interpolator.forward(qs_shifted_rational.double(), y_pred_pol.double()) #TensorShiftFunction.apply(Q,y_pred_pol)\n",
    "    loss = NuclearNormAutograd.apply(TQ)\n",
    "    tv_loss=total_variation(y_pred_pol)\n",
    "    #loss += 0.1 * tv_loss**2\n",
    "    #print(f\"Loss requires grad: {loss.requires_grad}\") \n",
    "    \n",
    "    loss.backward(retain_graph=True)\n",
    "    \n",
    "    #print(f\"Gradients at Epoch {epoch}:\")\n",
    "    #for name, param in model.named_parameters():\n",
    "    #    if param.grad is not None:\n",
    "    #        print(f\" - {name}: {param.grad}\")\n",
    "\n",
    "    optimizer.step()\n",
    "    \n",
    "    scheduler.step()\n",
    "            \n",
    "    if epoch % 100 == 0:\n",
    "        print(f'Epoch [{epoch}/{epochs}], Loss: {loss.item():.4f}, Coefficients:{[-coefficients1[::-1][i] for i in range(len(coefficients1))]}{[coefficients2[::-1][i] for i in range(len(coefficients2))]}{p_coefficients}{q_coefficients}')\n",
    "\n",
    "print(f\"Model training complete.\")"
   ]
  },
  {
   "cell_type": "code",
   "execution_count": 230,
   "id": "e60c71f9-6550-4367-a8c6-dc088d1c95d9",
   "metadata": {},
   "outputs": [
    {
     "data": {
      "text/plain": [
       "Text(0.5, 1.0, 'Snapshot with initial shift')"
      ]
     },
     "execution_count": 230,
     "metadata": {},
     "output_type": "execute_result"
    },
    {
     "data": {
      "image/png": "[encoded data removed]",
      "text/plain": [
       "<Figure size 2000x600 with 3 Axes>"
      ]
     },
     "metadata": {},
     "output_type": "display_data"
    }
   ],
   "source": [
    "# Plotting\n",
    "fig, ax = plt.subplots(1, 3, figsize=(20, 6))\n",
    "\n",
    "# Without shift\n",
    "ax[0].imshow(qs_shifted_rational.detach().numpy(), cmap='hot', interpolation='nearest', aspect='auto')\n",
    "ax[0].set_title('Snapshot with shift rational')\n",
    "\n",
    "# With shift\n",
    "ax[1].imshow(TQ.detach().numpy(), cmap='hot', interpolation='nearest', aspect='auto')\n",
    "ax[1].set_title('Snapshot after training')\n",
    "\n",
    "# With initial shift\n",
    "initial_cs_rational = torch.tensor(np.polyval(p_coefficients_init,t_values)/np.polyval(q_coefficients_init,t_values), requires_grad=True)\n",
    "qs_initial_shift_rational = spline_interpolator.forward(qs_shifted_rational.double(), initial_cs_rational.double())\n",
    "ax[2].imshow(qs_initial_shift_rational.detach().numpy(), cmap='hot', interpolation='nearest', aspect='auto')\n",
    "ax[2].set_title('Snapshot with initial shift')"
   ]
  },
  {
   "cell_type": "code",
   "execution_count": null,
   "id": "96f62264-d2a6-4b78-91f6-ba69f21beaa4",
   "metadata": {},
   "outputs": [],
   "source": []
  }
 ],
 "metadata": {
  "kernelspec": {
   "display_name": "Python 3 (ipykernel)",
   "language": "python",
   "name": "python3"
  },
  "language_info": {
   "codemirror_mode": {
    "name": "ipython",
    "version": 3
   },
   "file_extension": ".py",
   "mimetype": "text/x-python",
   "name": "python",
   "nbconvert_exporter": "python",
   "pygments_lexer": "ipython3",
   "version": "3.10.9"
  }
 },
 "nbformat": 4,
 "nbformat_minor": 5
}
