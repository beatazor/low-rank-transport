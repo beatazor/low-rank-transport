{
 "cells": [
  {
   "cell_type": "code",
   "execution_count": 3,
   "id": "6963bf93-a774-4b7f-b0b4-1ee1ca85e16b",
   "metadata": {},
   "outputs": [],
   "source": [
    "import torch\n",
    "import torch.nn as nn\n",
    "import torch.nn.functional as F\n",
    "import torch.optim as optim\n",
    "import numpy as np\n",
    "import matplotlib.pyplot as plt\n",
    "from scipy.ndimage import shift"
   ]
  },
  {
   "cell_type": "markdown",
   "id": "ad91d999-b9a0-4eb1-87a5-f83d4a535ff3",
   "metadata": {},
   "source": [
    "## Create MATRIX data"
   ]
  },
  {
   "cell_type": "code",
   "execution_count": 4,
   "id": "9784ddd8-ffc5-40a7-9129-6489bebf2b26",
   "metadata": {},
   "outputs": [],
   "source": [
    "rows, cols, sigma = 500, 100, 5.0\n",
    "coefficients1 = [1,4,-4]\n",
    "coefficients2 = [3,1,5]\n",
    "degree1 = 2\n",
    "degree2 = 2"
   ]
  },
  {
   "cell_type": "code",
   "execution_count": 5,
   "id": "591f5510-7a71-4d05-8891-0dc20ac11930",
   "metadata": {},
   "outputs": [],
   "source": [
    "t_values = np.linspace(-10, 10, cols)\n",
    "shifted_t_values = np.polyval(coefficients1,t_values)"
   ]
  },
  {
   "cell_type": "code",
   "execution_count": 6,
   "id": "c1a73b5f-aef7-46e2-84b0-580987b2caa4",
   "metadata": {},
   "outputs": [],
   "source": [
    "# Gaussian function\n",
    "def gaussian(x, mu, sigma=1.0):\n",
    "    return np.exp(-np.power(x - mu, 2.0) / (2 * np.power(sigma, 2.0)))\n",
    "\n",
    "def create_gaussian_time_matrix(rows=500, cols=50, sigma=1.0):\n",
    "    matrix = np.zeros((rows, cols))\n",
    "    for col in range(cols):\n",
    "        for row in range(rows):\n",
    "            matrix[row, col] = gaussian(row, rows / 2, sigma)\n",
    "    matrix /= np.max(matrix)\n",
    "    \n",
    "    return matrix\n"
   ]
  },
  {
   "cell_type": "code",
   "execution_count": 7,
   "id": "d97099bc-9e3e-4705-b76a-83fa0a616335",
   "metadata": {},
   "outputs": [],
   "source": [
    "Q = create_gaussian_time_matrix(rows, cols, sigma)"
   ]
  },
  {
   "cell_type": "code",
   "execution_count": 8,
   "id": "4e828244-f50f-49d3-a7b0-ed3156717546",
   "metadata": {},
   "outputs": [],
   "source": [
    "def shift_matrix(matrix, shift_vector):\n",
    "    rows, cols = matrix.shape\n",
    "    shifted_matrix = np.zeros_like(matrix)\n",
    "    for col in range(cols):\n",
    "        shift_val = -shift_vector[col]\n",
    "        shifted_matrix[:, col] = shift(matrix[:, col], shift_val, mode='nearest')\n",
    "    return shifted_matrix"
   ]
  },
  {
   "cell_type": "code",
   "execution_count": 9,
   "id": "3a33cdec-b0de-43ba-b169-4073c10df1c1",
   "metadata": {},
   "outputs": [],
   "source": [
    "Q_with_shift = shift_matrix(Q, shifted_t_values)"
   ]
  },
  {
   "cell_type": "code",
   "execution_count": 10,
   "id": "4c811e82-9a86-4fbd-9bbd-4c8bbb8f7f93",
   "metadata": {},
   "outputs": [],
   "source": [
    "def reverse_shift_matrix(shifted_matrix, shift_vector):\n",
    "    rows, cols = shifted_matrix.shape\n",
    "    unshifted_matrix = np.zeros_like(shifted_matrix)\n",
    "    for col in range(cols):\n",
    "        shift_val = shift_vector[col]\n",
    "        unshifted_matrix[:, col] = shift(shifted_matrix[:, col], shift_val, mode='nearest')\n",
    "    return unshifted_matrix"
   ]
  },
  {
   "cell_type": "code",
   "execution_count": 11,
   "id": "771bab9c-f579-44fb-bd86-15639a71cba2",
   "metadata": {},
   "outputs": [],
   "source": [
    "Q_reverse_shift = reverse_shift_matrix(Q_with_shift, shifted_t_values)"
   ]
  },
  {
   "cell_type": "code",
   "execution_count": 12,
   "id": "25c5fa58-4e90-4ae9-90a0-895c1d14ecfa",
   "metadata": {
    "tags": []
   },
   "outputs": [
    {
     "data": {
      "image/png": "[encoded data removed]",
      "text/plain": [
       "<Figure size 864x432 with 2 Axes>"
      ]
     },
     "metadata": {
      "needs_background": "light"
     },
     "output_type": "display_data"
    }
   ],
   "source": [
    "# Plotting\n",
    "fig, ax = plt.subplots(1, 2, figsize=(12, 6))\n",
    "\n",
    "# Without shift\n",
    "ax[0].imshow(Q_with_shift, cmap='hot', interpolation='nearest', aspect='auto')\n",
    "ax[0].set_title('Gaussian Distribution Without Shift (Snapshot)')\n",
    "\n",
    "# With shift\n",
    "ax[1].imshow(Q_reverse_shift, cmap='hot', interpolation='nearest', aspect='auto')\n",
    "ax[1].set_title('Gaussian Distribution With Polynomial Shift (Snapshot)')\n",
    "\n",
    "plt.show()"
   ]
  },
  {
   "cell_type": "markdown",
   "id": "1d846fc1-48be-46b5-bf26-9e4080f0d593",
   "metadata": {
    "tags": []
   },
   "source": [
    "# Define a model"
   ]
  },
  {
   "cell_type": "code",
   "execution_count": 13,
   "id": "96456189-96cd-4d44-a554-c4811c4be008",
   "metadata": {},
   "outputs": [],
   "source": [
    "class ShiftPredictionModel(nn.Module):\n",
    "    def __init__(self, p_init_coeffs, q_init_coeffs=[1], type_NN=\"polynomial\"):\n",
    "        super(ShiftPredictionModel, self).__init__()\n",
    "        self.p_coefficients = nn.ParameterList(\n",
    "            [nn.Parameter(torch.tensor([coeff], dtype=torch.float64), requires_grad=True) for coeff in p_init_coeffs[::-1]]\n",
    "        )\n",
    "        self.q_coefficients = nn.ParameterList(\n",
    "            [nn.Parameter(torch.tensor([coeff], dtype=torch.float64), requires_grad=True) for coeff in q_init_coeffs[::-1]]\n",
    "        )\n",
    "        self.type_NN = type_NN\n",
    "    \n",
    "    def forward_pol(self,t):\n",
    "        return sum([coeff * t**i for i, coeff in enumerate(self.p_coefficients)])\n",
    "    \n",
    "    def forward_rat(self,t):\n",
    "        shift2 = sum([coeff * t**i for i, coeff in enumerate(self.q_coefficients)]) + 1e-6 #avoid dividing by zero\n",
    "        return self.forward_pol(t)/shift2\n",
    "\n",
    "    def forward_activ(self, t):\n",
    "        return F.relu(t)\n",
    "    \n",
    "    def forward(self, t):\n",
    "        if self.type_NN == \"polynomial\":\n",
    "            output = self.forward_pol(t)\n",
    "        elif self.type_NN == \"rational\":\n",
    "            output = self.forward_rat(t)\n",
    "        return output"
   ]
  },
  {
   "cell_type": "markdown",
   "id": "b68e8196-0107-4c77-bb4f-5af51c53e2b6",
   "metadata": {},
   "source": [
    "## Train a model for polynomial function"
   ]
  },
  {
   "cell_type": "code",
   "execution_count": 14,
   "id": "cc116ca6-8a59-4075-8295-1402ea5dafc9",
   "metadata": {},
   "outputs": [],
   "source": [
    "Q = torch.tensor(Q_with_shift, dtype=torch.float64,requires_grad=True)\n",
    "t_values_tensor = torch.linspace(-10, 10, cols,dtype=torch.float64)"
   ]
  },
  {
   "cell_type": "code",
   "execution_count": 15,
   "id": "d1f0bec8-2b31-45f6-990e-6c04bc648f4c",
   "metadata": {},
   "outputs": [],
   "source": [
    "def fractional_shift_column(column, shift, upsample_factor=10):\n",
    "    upsampled = F.interpolate(column.view(1, 1, -1), scale_factor=upsample_factor, mode='linear', align_corners=False)\n",
    "    integer_shift = int(shift)\n",
    "    upsampled = torch.roll(upsampled, shifts=integer_shift * upsample_factor, dims=2)\n",
    "    frac_shift = shift - integer_shift\n",
    "    if frac_shift != 0:\n",
    "        weight = frac_shift * upsample_factor\n",
    "        upsampled = (1 - weight) * upsampled + weight * torch.roll(upsampled, shifts=-1, dims=2)\n",
    "    downsampled = F.interpolate(upsampled, size=(column.shape[0],), mode='linear', align_corners=False)\n",
    "    \n",
    "    return downsampled.view(-1)\n",
    "\n",
    "def tensor_shift_with_fractional(snapshot_matrix, shift_vector):\n",
    "    rows, cols = snapshot_matrix.shape\n",
    "    shifted_tensor = torch.zeros_like(snapshot_matrix)\n",
    "    for i in range(cols):\n",
    "        shifted_tensor[:, i] = fractional_shift_column(snapshot_matrix[:, i], shift_vector[i])\n",
    "\n",
    "    return shifted_tensor"
   ]
  },
  {
   "cell_type": "code",
   "execution_count": 16,
   "id": "99c6a95a-8046-4018-849b-2f8e4281d1d8",
   "metadata": {},
   "outputs": [],
   "source": [
    "def total_variation(shift):\n",
    "    return torch.sum(torch.abs(shift[..., 1:] - shift[..., :-1]))"
   ]
  },
  {
   "cell_type": "code",
   "execution_count": 17,
   "id": "cbcecc1c-c90a-4873-88ef-85849e664677",
   "metadata": {},
   "outputs": [],
   "source": [
    "class NuclearNormAutograd(torch.autograd.Function):\n",
    "    @staticmethod\n",
    "    def forward(ctx, input_matrix):\n",
    "        ctx.save_for_backward(input_matrix)\n",
    "        return torch.linalg.matrix_norm(input_matrix, ord=\"nuc\")\n",
    "\n",
    "    @staticmethod\n",
    "    def backward(ctx, grad_output):\n",
    "        input_matrix, = ctx.saved_tensors\n",
    "        u, s, v = torch.svd(input_matrix, some=True)\n",
    "        rank = torch.sum(s > 0).item()\n",
    "        dtype = input_matrix.dtype\n",
    "        eye_approx = torch.diag_embed((s > 0).to(dtype))[:s.size(0), :s.size(0)]\n",
    "        grad_input = torch.matmul(torch.matmul(u[:, :rank], eye_approx), v[:, :rank].t())\n",
    "        return grad_input * grad_output"
   ]
  },
  {
   "cell_type": "code",
   "execution_count": 18,
   "id": "e6fbf42b-1866-4ac1-b16b-69852d326cd0",
   "metadata": {},
   "outputs": [],
   "source": [
    "p_coefficients_init = [0,5,50]"
   ]
  },
  {
   "cell_type": "code",
   "execution_count": 21,
   "id": "d1752818-48cb-47de-8ed1-0dc60f9457a9",
   "metadata": {
    "tags": []
   },
   "outputs": [
    {
     "name": "stdout",
     "output_type": "stream",
     "text": [
      "Epoch [0/100000], Loss: 1103.2611,Coefficients:[-4, 4, 1]tensor([50.,  5.,  0.])\n",
      "Epoch [100/100000], Loss: 477.1230,Coefficients:[-4, 4, 1]tensor([47.0402,  3.0273, -0.1532])\n",
      "Epoch [200/100000], Loss: 376.6606,Coefficients:[-4, 4, 1]tensor([46.2878,  2.5800, -0.1305])\n",
      "Epoch [300/100000], Loss: 298.4075,Coefficients:[-4, 4, 1]tensor([45.5425,  2.1659, -0.1104])\n",
      "Epoch [400/100000], Loss: 239.7246,Coefficients:[-4, 4, 1]tensor([44.8161,  1.7911, -0.0929])\n",
      "Epoch [500/100000], Loss: 196.6171,Coefficients:[-4, 4, 1]tensor([44.1025,  1.4570, -0.0749])\n",
      "Epoch [600/100000], Loss: 166.3415,Coefficients:[-4, 4, 1]tensor([43.3836,  1.1650, -0.0602])\n",
      "Epoch [700/100000], Loss: 146.3943,Coefficients:[-4, 4, 1]tensor([42.6845,  0.9135, -0.0487])\n",
      "Epoch [800/100000], Loss: 132.0093,Coefficients:[-4, 4, 1]tensor([ 4.1974e+01,  7.0105e-01, -3.7090e-02])\n",
      "Epoch [900/100000], Loss: 124.2264,Coefficients:[-4, 4, 1]tensor([ 4.1282e+01,  5.2655e-01, -2.8560e-02])\n",
      "Epoch [1000/100000], Loss: 118.9233,Coefficients:[-4, 4, 1]tensor([ 4.0592e+01,  3.8575e-01, -2.1670e-02])\n",
      "Epoch [1100/100000], Loss: 116.1724,Coefficients:[-4, 4, 1]tensor([ 3.9942e+01,  2.7651e-01, -1.5727e-02])\n",
      "Epoch [1200/100000], Loss: 114.4890,Coefficients:[-4, 4, 1]tensor([ 3.9309e+01,  1.9402e-01, -1.1683e-02])\n",
      "Epoch [1300/100000], Loss: 114.0602,Coefficients:[-4, 4, 1]tensor([ 3.8699e+01,  1.3086e-01, -8.7821e-03])\n",
      "Epoch [1400/100000], Loss: 112.9961,Coefficients:[-4, 4, 1]tensor([ 3.8081e+01,  8.6447e-02, -8.0140e-03])\n",
      "Epoch [1500/100000], Loss: 114.0838,Coefficients:[-4, 4, 1]tensor([ 3.7627e+01,  6.1458e-02, -7.9797e-03])\n",
      "Epoch [1600/100000], Loss: 113.8345,Coefficients:[-4, 4, 1]tensor([ 3.7119e+01,  3.7430e-02, -4.8044e-03])\n",
      "Epoch [1700/100000], Loss: 113.9927,Coefficients:[-4, 4, 1]tensor([ 3.6506e+01,  1.6201e-02, -7.0455e-03])\n",
      "Epoch [1800/100000], Loss: 113.4167,Coefficients:[-4, 4, 1]tensor([ 3.5812e+01, -1.3161e-02, -6.7208e-03])\n",
      "Epoch [1900/100000], Loss: 115.1688,Coefficients:[-4, 4, 1]tensor([ 3.5147e+01, -3.5225e-02, -1.1615e-02])\n",
      "Epoch [2000/100000], Loss: 114.0251,Coefficients:[-4, 4, 1]tensor([ 3.4393e+01, -5.8334e-02, -7.6108e-03])\n",
      "Epoch [2100/100000], Loss: 114.6013,Coefficients:[-4, 4, 1]tensor([ 3.3763e+01, -7.4747e-02, -1.0502e-02])\n",
      "Epoch [2200/100000], Loss: 114.8049,Coefficients:[-4, 4, 1]tensor([ 3.3085e+01, -9.1746e-02, -8.7518e-03])\n",
      "Epoch [2300/100000], Loss: 114.7695,Coefficients:[-4, 4, 1]tensor([ 3.2504e+01, -1.0386e-01, -1.0840e-02])\n",
      "Epoch [2400/100000], Loss: 115.0861,Coefficients:[-4, 4, 1]tensor([ 3.1872e+01, -1.0700e-01, -7.8293e-03])\n",
      "Epoch [2500/100000], Loss: 114.7935,Coefficients:[-4, 4, 1]tensor([ 3.1208e+01, -1.0548e-01, -9.8991e-03])\n",
      "Epoch [2600/100000], Loss: 115.0000,Coefficients:[-4, 4, 1]tensor([ 3.0639e+01, -1.1008e-01, -1.4224e-02])\n",
      "Epoch [2700/100000], Loss: 115.0662,Coefficients:[-4, 4, 1]tensor([ 2.9960e+01, -1.0730e-01, -8.5535e-03])\n",
      "Epoch [2800/100000], Loss: 114.7756,Coefficients:[-4, 4, 1]tensor([ 2.9337e+01, -1.0687e-01, -1.0846e-02])\n",
      "Epoch [2900/100000], Loss: 114.6807,Coefficients:[-4, 4, 1]tensor([ 2.8769e+01, -1.1029e-01, -8.0820e-03])\n",
      "Epoch [3000/100000], Loss: 114.8568,Coefficients:[-4, 4, 1]tensor([ 2.8091e+01, -1.0632e-01, -9.1371e-03])\n",
      "Epoch [3100/100000], Loss: 114.8327,Coefficients:[-4, 4, 1]tensor([ 2.7501e+01, -1.0812e-01, -1.1976e-02])\n",
      "Epoch [3200/100000], Loss: 115.1034,Coefficients:[-4, 4, 1]tensor([ 2.6886e+01, -1.0809e-01, -7.9374e-03])\n",
      "Epoch [3300/100000], Loss: 114.7647,Coefficients:[-4, 4, 1]tensor([ 2.6229e+01, -1.0458e-01, -9.8323e-03])\n",
      "Epoch [3400/100000], Loss: 115.0565,Coefficients:[-4, 4, 1]tensor([ 2.5704e+01, -1.1514e-01, -1.4407e-02])\n",
      "Epoch [3500/100000], Loss: 114.9421,Coefficients:[-4, 4, 1]tensor([ 2.5028e+01, -1.0731e-01, -8.9404e-03])\n",
      "Epoch [3600/100000], Loss: 114.8029,Coefficients:[-4, 4, 1]tensor([ 2.4441e+01, -1.0812e-01, -1.0982e-02])\n",
      "Epoch [3700/100000], Loss: 115.4215,Coefficients:[-4, 4, 1]tensor([ 2.3860e+01, -1.0907e-01, -8.1020e-03])\n",
      "Epoch [3800/100000], Loss: 114.7582,Coefficients:[-4, 4, 1]tensor([ 2.3222e+01, -1.0434e-01, -9.7627e-03])\n",
      "Epoch [3900/100000], Loss: 115.1097,Coefficients:[-4, 4, 1]tensor([ 2.2705e+01, -1.1820e-01, -1.5067e-02])\n",
      "Epoch [4000/100000], Loss: 114.9161,Coefficients:[-4, 4, 1]tensor([ 2.2037e+01, -1.0774e-01, -8.8540e-03])\n",
      "Epoch [4100/100000], Loss: 114.8255,Coefficients:[-4, 4, 1]tensor([ 2.1475e+01, -1.1075e-01, -1.1977e-02])\n",
      "Epoch [4200/100000], Loss: 115.5227,Coefficients:[-4, 4, 1]tensor([ 2.0894e+01, -1.0932e-01, -8.1703e-03])\n",
      "Epoch [4300/100000], Loss: 114.7373,Coefficients:[-4, 4, 1]tensor([ 2.0275e+01, -1.0321e-01, -1.0192e-02])\n",
      "Epoch [4400/100000], Loss: 114.9486,Coefficients:[-4, 4, 1]tensor([ 1.9761e+01, -1.1807e-01, -8.8172e-03])\n",
      "Epoch [4500/100000], Loss: 114.8648,Coefficients:[-4, 4, 1]tensor([ 1.9102e+01, -1.0738e-01, -9.2263e-03])\n",
      "Epoch [4600/100000], Loss: 114.6929,Coefficients:[-4, 4, 1]tensor([ 1.8627e+01, -1.3455e-01, -1.1436e-02])\n",
      "Epoch [4700/100000], Loss: 114.9568,Coefficients:[-4, 4, 1]tensor([ 1.8005e+01, -1.0918e-01, -8.6607e-03])\n",
      "Epoch [4800/100000], Loss: 115.3115,Coefficients:[-4, 4, 1]tensor([ 1.7500e+01, -1.2578e-01, -1.2461e-02])\n",
      "Epoch [4900/100000], Loss: 115.6183,Coefficients:[-4, 4, 1]tensor([ 1.6916e+01, -1.1040e-01, -8.7122e-03])\n",
      "Epoch [5000/100000], Loss: 114.8392,Coefficients:[-4, 4, 1]tensor([ 1.6407e+01, -1.2053e-01, -1.0403e-02])\n",
      "Epoch [5100/100000], Loss: 115.5642,Coefficients:[-4, 4, 1]tensor([ 1.5857e+01, -1.1340e-01, -8.8101e-03])\n",
      "Epoch [5200/100000], Loss: 114.7847,Coefficients:[-4, 4, 1]tensor([ 1.5321e+01, -1.0731e-01, -1.1048e-02])\n",
      "Epoch [5300/100000], Loss: 115.3102,Coefficients:[-4, 4, 1]tensor([ 1.4799e+01, -1.1945e-01, -9.2866e-03])\n",
      "Epoch [5400/100000], Loss: 114.7547,Coefficients:[-4, 4, 1]tensor([ 1.4243e+01, -1.0294e-01, -1.0226e-02])\n",
      "Epoch [5500/100000], Loss: 114.9355,Coefficients:[-4, 4, 1]tensor([ 1.3748e+01, -1.2320e-01, -1.1540e-02])\n",
      "Epoch [5600/100000], Loss: 114.8583,Coefficients:[-4, 4, 1]tensor([ 1.3095e+01, -1.0946e-01, -9.1155e-03])\n",
      "Epoch [5700/100000], Loss: 114.3522,Coefficients:[-4, 4, 1]tensor([ 1.2631e+01, -1.4320e-01, -9.9218e-03])\n",
      "Epoch [5800/100000], Loss: 114.9035,Coefficients:[-4, 4, 1]tensor([ 1.2063e+01, -1.0975e-01, -9.1533e-03])\n",
      "Epoch [5900/100000], Loss: 114.3320,Coefficients:[-4, 4, 1]tensor([ 1.1597e+01, -1.4293e-01, -9.7921e-03])\n",
      "Epoch [6000/100000], Loss: 114.9323,Coefficients:[-4, 4, 1]tensor([ 1.1015e+01, -1.0979e-01, -8.6789e-03])\n",
      "Epoch [6100/100000], Loss: 114.3820,Coefficients:[-4, 4, 1]tensor([ 1.0567e+01, -1.4181e-01, -9.4751e-03])\n",
      "Epoch [6200/100000], Loss: 115.4055,Coefficients:[-4, 4, 1]tensor([ 9.9869e+00, -1.0895e-01, -8.9739e-03])\n",
      "Epoch [6300/100000], Loss: 115.5728,Coefficients:[-4, 4, 1]tensor([ 9.5365, -0.1371, -0.0141])\n",
      "Epoch [6400/100000], Loss: 115.5092,Coefficients:[-4, 4, 1]tensor([ 8.9623e+00, -1.0914e-01, -8.9285e-03])\n",
      "Epoch [6500/100000], Loss: 115.4627,Coefficients:[-4, 4, 1]tensor([ 8.4936, -0.1243, -0.0142])\n",
      "Epoch [6600/100000], Loss: 115.1602,Coefficients:[-4, 4, 1]tensor([ 7.9312, -0.1082, -0.0083])\n",
      "Epoch [6700/100000], Loss: 114.8144,Coefficients:[-4, 4, 1]tensor([ 7.4526, -0.1084, -0.0116])\n",
      "Epoch [6800/100000], Loss: 115.1449,Coefficients:[-4, 4, 1]tensor([ 6.9081, -0.1082, -0.0082])\n",
      "Epoch [6900/100000], Loss: 114.7773,Coefficients:[-4, 4, 1]tensor([ 6.4169, -0.0998, -0.0117])\n",
      "Epoch [7000/100000], Loss: 115.5213,Coefficients:[-4, 4, 1]tensor([ 5.8900, -0.1086, -0.0085])\n",
      "Epoch [7100/100000], Loss: 114.7095,Coefficients:[-4, 4, 1]tensor([ 5.3976, -0.0947, -0.0107])\n",
      "Epoch [7200/100000], Loss: 115.6581,Coefficients:[-4, 4, 1]tensor([ 4.8780, -0.1161, -0.0096])\n",
      "Epoch [7300/100000], Loss: 114.6829,Coefficients:[-4, 4, 1]tensor([ 4.3688, -0.0946, -0.0101])\n",
      "Epoch [7400/100000], Loss: 115.4250,Coefficients:[-4, 4, 1]tensor([ 3.8659, -0.1103, -0.0082])\n",
      "Epoch [7500/100000], Loss: 114.7465,Coefficients:[-4, 4, 1]tensor([ 3.3519, -0.1009, -0.0105])\n",
      "Epoch [7600/100000], Loss: 115.6273,Coefficients:[-4, 4, 1]tensor([ 2.8549, -0.1200, -0.0091])\n",
      "Epoch [7700/100000], Loss: 114.7440,Coefficients:[-4, 4, 1]tensor([ 2.3624, -0.0978, -0.0114])\n",
      "Epoch [7800/100000], Loss: 115.1362,Coefficients:[-4, 4, 1]tensor([ 1.8707, -0.1095, -0.0081])\n",
      "Epoch [7900/100000], Loss: 114.0691,Coefficients:[-4, 4, 1]tensor([ 1.4642, -0.0735, -0.0083])\n",
      "Epoch [8000/100000], Loss: 114.1460,Coefficients:[-4, 4, 1]tensor([ 1.1052, -0.0676, -0.0054])\n",
      "Epoch [8100/100000], Loss: 114.1096,Coefficients:[-4, 4, 1]tensor([ 0.8949, -0.0624, -0.0038])\n",
      "Epoch [8200/100000], Loss: 113.2648,Coefficients:[-4, 4, 1]tensor([ 0.6154, -0.0183, -0.0050])\n",
      "Epoch [8300/100000], Loss: 113.2148,Coefficients:[-4, 4, 1]tensor([ 0.4385, -0.0154, -0.0032])\n",
      "Epoch [8400/100000], Loss: 113.2140,Coefficients:[-4, 4, 1]tensor([ 0.4150, -0.0148, -0.0030])\n",
      "Epoch [8500/100000], Loss: 113.2140,Coefficients:[-4, 4, 1]tensor([ 0.4123, -0.0148, -0.0030])\n",
      "Epoch [8600/100000], Loss: 113.2140,Coefficients:[-4, 4, 1]tensor([ 0.4121, -0.0148, -0.0030])\n",
      "Epoch [8700/100000], Loss: 113.2140,Coefficients:[-4, 4, 1]tensor([ 0.4121, -0.0148, -0.0030])\n",
      "Epoch [8800/100000], Loss: 113.2140,Coefficients:[-4, 4, 1]tensor([ 0.4122, -0.0148, -0.0030])\n",
      "Epoch [8900/100000], Loss: 113.2140,Coefficients:[-4, 4, 1]tensor([ 0.4122, -0.0148, -0.0030])\n",
      "Epoch [9000/100000], Loss: 113.2140,Coefficients:[-4, 4, 1]tensor([ 0.4123, -0.0148, -0.0030])\n",
      "Epoch [9100/100000], Loss: 113.2140,Coefficients:[-4, 4, 1]tensor([ 0.4123, -0.0148, -0.0030])\n",
      "Epoch [9200/100000], Loss: 113.2140,Coefficients:[-4, 4, 1]tensor([ 0.4124, -0.0148, -0.0030])\n",
      "Epoch [9300/100000], Loss: 113.2140,Coefficients:[-4, 4, 1]tensor([ 0.4124, -0.0148, -0.0030])\n",
      "Epoch [9400/100000], Loss: 113.2140,Coefficients:[-4, 4, 1]tensor([ 0.4125, -0.0148, -0.0030])\n",
      "Epoch [9500/100000], Loss: 113.2140,Coefficients:[-4, 4, 1]tensor([ 0.4125, -0.0148, -0.0030])\n",
      "Epoch [9600/100000], Loss: 113.2140,Coefficients:[-4, 4, 1]tensor([ 0.4125, -0.0148, -0.0030])\n",
      "Epoch [9700/100000], Loss: 113.2140,Coefficients:[-4, 4, 1]tensor([ 0.4126, -0.0148, -0.0030])\n",
      "Epoch [9800/100000], Loss: 113.2140,Coefficients:[-4, 4, 1]tensor([ 0.4126, -0.0148, -0.0030])\n",
      "Epoch [9900/100000], Loss: 113.2140,Coefficients:[-4, 4, 1]tensor([ 0.4126, -0.0148, -0.0030])\n",
      "Epoch [10000/100000], Loss: 113.2140,Coefficients:[-4, 4, 1]tensor([ 0.4127, -0.0148, -0.0030])\n",
      "Epoch [10100/100000], Loss: 113.2140,Coefficients:[-4, 4, 1]tensor([ 0.4127, -0.0148, -0.0030])\n",
      "Epoch [10200/100000], Loss: 113.2140,Coefficients:[-4, 4, 1]tensor([ 0.4127, -0.0148, -0.0030])\n",
      "Epoch [10300/100000], Loss: 113.2140,Coefficients:[-4, 4, 1]tensor([ 0.4127, -0.0148, -0.0030])\n",
      "Epoch [10400/100000], Loss: 113.2140,Coefficients:[-4, 4, 1]tensor([ 0.4127, -0.0148, -0.0030])\n",
      "Epoch [10500/100000], Loss: 113.2140,Coefficients:[-4, 4, 1]tensor([ 0.4128, -0.0148, -0.0030])\n",
      "Epoch [10600/100000], Loss: 113.2140,Coefficients:[-4, 4, 1]tensor([ 0.4126, -0.0148, -0.0030])\n",
      "Epoch [10700/100000], Loss: 113.2140,Coefficients:[-4, 4, 1]tensor([ 0.4128, -0.0148, -0.0030])\n",
      "Epoch [10800/100000], Loss: 113.2140,Coefficients:[-4, 4, 1]tensor([ 0.4128, -0.0148, -0.0030])\n",
      "Epoch [10900/100000], Loss: 113.2140,Coefficients:[-4, 4, 1]tensor([ 0.4128, -0.0148, -0.0030])\n"
     ]
    },
    {
     "ename": "KeyboardInterrupt",
     "evalue": "",
     "output_type": "error",
     "traceback": [
      "\u001b[0;31m---------------------------------------------------------------------------\u001b[0m",
      "\u001b[0;31mKeyboardInterrupt\u001b[0m                         Traceback (most recent call last)",
      "Cell \u001b[0;32mIn[21], line 28\u001b[0m\n\u001b[1;32m     25\u001b[0m loss \u001b[38;5;241m+\u001b[39m\u001b[38;5;241m=\u001b[39m \u001b[38;5;241m0.1\u001b[39m \u001b[38;5;241m*\u001b[39m tv_loss\u001b[38;5;241m*\u001b[39m\u001b[38;5;241m*\u001b[39m\u001b[38;5;241m2\u001b[39m\n\u001b[1;32m     26\u001b[0m \u001b[38;5;66;03m#print(f\"Loss requires grad: {loss.requires_grad}\") \u001b[39;00m\n\u001b[0;32m---> 28\u001b[0m loss\u001b[38;5;241m.\u001b[39mbackward()\n\u001b[1;32m     30\u001b[0m \u001b[38;5;66;03m#print(f\"Gradients at Epoch {epoch}:\")\u001b[39;00m\n\u001b[1;32m     31\u001b[0m \u001b[38;5;66;03m#for name, param in model.named_parameters():\u001b[39;00m\n\u001b[1;32m     32\u001b[0m \u001b[38;5;66;03m#    if param.grad is not None:\u001b[39;00m\n\u001b[1;32m     33\u001b[0m \u001b[38;5;66;03m#        print(f\" - {name}: {param.grad}\")\u001b[39;00m\n\u001b[1;32m     35\u001b[0m optimizer\u001b[38;5;241m.\u001b[39mstep()\n",
      "File \u001b[0;32m~/anaconda3/envs/thesis/lib/python3.11/site-packages/torch/_tensor.py:492\u001b[0m, in \u001b[0;36mTensor.backward\u001b[0;34m(self, gradient, retain_graph, create_graph, inputs)\u001b[0m\n\u001b[1;32m    482\u001b[0m \u001b[38;5;28;01mif\u001b[39;00m has_torch_function_unary(\u001b[38;5;28mself\u001b[39m):\n\u001b[1;32m    483\u001b[0m     \u001b[38;5;28;01mreturn\u001b[39;00m handle_torch_function(\n\u001b[1;32m    484\u001b[0m         Tensor\u001b[38;5;241m.\u001b[39mbackward,\n\u001b[1;32m    485\u001b[0m         (\u001b[38;5;28mself\u001b[39m,),\n\u001b[0;32m   (...)\u001b[0m\n\u001b[1;32m    490\u001b[0m         inputs\u001b[38;5;241m=\u001b[39minputs,\n\u001b[1;32m    491\u001b[0m     )\n\u001b[0;32m--> 492\u001b[0m torch\u001b[38;5;241m.\u001b[39mautograd\u001b[38;5;241m.\u001b[39mbackward(\n\u001b[1;32m    493\u001b[0m     \u001b[38;5;28mself\u001b[39m, gradient, retain_graph, create_graph, inputs\u001b[38;5;241m=\u001b[39minputs\n\u001b[1;32m    494\u001b[0m )\n",
      "File \u001b[0;32m~/anaconda3/envs/thesis/lib/python3.11/site-packages/torch/autograd/__init__.py:251\u001b[0m, in \u001b[0;36mbackward\u001b[0;34m(tensors, grad_tensors, retain_graph, create_graph, grad_variables, inputs)\u001b[0m\n\u001b[1;32m    246\u001b[0m     retain_graph \u001b[38;5;241m=\u001b[39m create_graph\n\u001b[1;32m    248\u001b[0m \u001b[38;5;66;03m# The reason we repeat the same comment below is that\u001b[39;00m\n\u001b[1;32m    249\u001b[0m \u001b[38;5;66;03m# some Python versions print out the first line of a multi-line function\u001b[39;00m\n\u001b[1;32m    250\u001b[0m \u001b[38;5;66;03m# calls in the traceback and some print out the last line\u001b[39;00m\n\u001b[0;32m--> 251\u001b[0m Variable\u001b[38;5;241m.\u001b[39m_execution_engine\u001b[38;5;241m.\u001b[39mrun_backward(  \u001b[38;5;66;03m# Calls into the C++ engine to run the backward pass\u001b[39;00m\n\u001b[1;32m    252\u001b[0m     tensors,\n\u001b[1;32m    253\u001b[0m     grad_tensors_,\n\u001b[1;32m    254\u001b[0m     retain_graph,\n\u001b[1;32m    255\u001b[0m     create_graph,\n\u001b[1;32m    256\u001b[0m     inputs,\n\u001b[1;32m    257\u001b[0m     allow_unreachable\u001b[38;5;241m=\u001b[39m\u001b[38;5;28;01mTrue\u001b[39;00m,\n\u001b[1;32m    258\u001b[0m     accumulate_grad\u001b[38;5;241m=\u001b[39m\u001b[38;5;28;01mTrue\u001b[39;00m,\n\u001b[1;32m    259\u001b[0m )\n",
      "\u001b[0;31mKeyboardInterrupt\u001b[0m: "
     ]
    }
   ],
   "source": [
    "model = ShiftPredictionModel(p_init_coeffs=p_coefficients_init,type_NN=\"polynomial\")\n",
    "model.to(torch.float64)\n",
    "\n",
    "#optimizer = optim.Adagrad(model.parameters(), lr=0.1)\n",
    "optimizer = optim.AdamW(model.parameters(), lr=0.1)\n",
    "#optimizer = optim.SGD(model.parameters(), lr=0.1, momentum=0.7)\n",
    "#optimizer = optim.LBFGS(model.parameters(), lr=0.01)\n",
    "\n",
    "#scheduler = optim.lr_scheduler.StepLR(optimizer, step_size=30, gamma=0.1)\n",
    "scheduler= optim.lr_scheduler.LinearLR(optimizer, start_factor=1.0, end_factor=0.05, total_iters=30)\n",
    "\n",
    "# Training the model\n",
    "epochs = 100000\n",
    "for epoch in range(epochs):\n",
    "    \n",
    "    model.train()\n",
    "    optimizer.zero_grad()\n",
    "    y_pred_pol = model(t_values_tensor)\n",
    "    #print(f\"y_pred_pol requires grad: {y_pred_pol.requires_grad}\")\n",
    "    p_coefficients = torch.tensor([p.item() for p in model.p_coefficients])\n",
    "    \n",
    "    TQ = tensor_shift_with_fractional(Q,y_pred_pol) #ShiftFunction.apply(Q,y_pred_pol)\n",
    "    loss = NuclearNormAutograd.apply(TQ)\n",
    "    tv_loss=total_variation(y_pred_pol)\n",
    "    loss += 0.1 * tv_loss**2\n",
    "    #print(f\"Loss requires grad: {loss.requires_grad}\") \n",
    "    \n",
    "    loss.backward()\n",
    "    \n",
    "    #print(f\"Gradients at Epoch {epoch}:\")\n",
    "    #for name, param in model.named_parameters():\n",
    "    #    if param.grad is not None:\n",
    "    #        print(f\" - {name}: {param.grad}\")\n",
    "\n",
    "    optimizer.step()\n",
    "    \n",
    "    scheduler.step()\n",
    "            \n",
    "    if epoch % 100 == 0:\n",
    "        print(f'Epoch [{epoch}/{epochs}], Loss: {loss.item():.4f},Coefficients:{[coefficients1[::-1][i] for i in range(len(coefficients1))]}{p_coefficients}')\n",
    "\n",
    "print(f\"Model training complete.\")\n"
   ]
  },
  {
   "cell_type": "code",
   "execution_count": 22,
   "id": "f9d7ea4a-a2fb-4fc7-912c-e682888b64cf",
   "metadata": {},
   "outputs": [
    {
     "data": {
      "image/png": "[encoded data removed]",
      "text/plain": [
       "<Figure size 432x432 with 1 Axes>"
      ]
     },
     "metadata": {
      "needs_background": "light"
     },
     "output_type": "display_data"
    }
   ],
   "source": [
    "plt.figure(figsize=(6, 6))\n",
    "plt.imshow(TQ.detach().numpy(), cmap='hot', interpolation='nearest', aspect='auto')\n",
    "plt.title('Gaussian Distribution Without Shift (Snapshot)')\n",
    "plt.show()"
   ]
  },
  {
   "cell_type": "markdown",
   "id": "61484116-8bb6-4404-aec4-02afb8d59699",
   "metadata": {},
   "source": [
    "# TODO"
   ]
  },
  {
   "cell_type": "markdown",
   "id": "f9606159-1406-4033-9478-5d7331461f10",
   "metadata": {},
   "source": [
    "# Rational function"
   ]
  },
  {
   "cell_type": "markdown",
   "id": "48ebaa0c-6e46-4875-9313-747246e87587",
   "metadata": {},
   "source": [
    "## Create data for rational function regression"
   ]
  },
  {
   "cell_type": "code",
   "execution_count": 36,
   "id": "4aca9b22-4430-4dae-b114-e4a44a75d4cf",
   "metadata": {},
   "outputs": [],
   "source": [
    "np.random.shuffle(t_values)\n",
    "np.random.seed(42)\n",
    "\n",
    "train_size = int(cols * 0.8)\n",
    "val_size = cols - train_size\n",
    "\n",
    "x_train = t_values[:train_size]\n",
    "x_val = t_values[train_size:]\n",
    "y_train_rat = np.polyval(coefficients1,x_train)/np.polyval(coefficients2,x_train)\n",
    "y_val_rat = np.polyval(coefficients1,x_val)/np.polyval(coefficients2,x_val)"
   ]
  },
  {
   "cell_type": "code",
   "execution_count": 37,
   "id": "686e51e7-bd04-469c-8550-74e21077cd09",
   "metadata": {},
   "outputs": [],
   "source": [
    "x_train = torch.tensor(x_train, dtype=torch.float64)\n",
    "x_val = torch.tensor(x_val, dtype=torch.float64)\n",
    "y_train_rat = torch.tensor(y_train_rat, dtype=torch.float64)\n",
    "y_val_rat = torch.tensor(y_val_rat, dtype=torch.float64)"
   ]
  },
  {
   "cell_type": "code",
   "execution_count": 38,
   "id": "5a7e5071-dd2b-4451-a405-0c30d25e16e0",
   "metadata": {},
   "outputs": [
    {
     "data": {
      "image/png": "[encoded data removed]",
      "text/plain": [
       "<Figure size 640x480 with 1 Axes>"
      ]
     },
     "metadata": {},
     "output_type": "display_data"
    }
   ],
   "source": [
    "t_values = np.linspace(-10, 10, cols)\n",
    "p_coefficients_init = [-1,4,1]\n",
    "q_coefficients_init = [1,1,3]\n",
    "y_values_rat = np.polyval(np.flip(p_coefficients_init), t_values)/np.polyval(np.flip(q_coefficients_init), t_values)\n",
    "\n",
    "plt.scatter(x_train, y_train_rat, alpha = 0.3, marker = 'o', color = 'r')\n",
    "plt.scatter(x_val, y_val_rat, alpha = 0.3, marker = 'o', color = 'b')\n",
    "plt.plot(t_values,y_values_rat, color = 'k')\n",
    "plt.title('2D Scatter plot ')\n",
    "plt.xlabel('x')\n",
    "plt.ylabel('y')\n",
    "plt.show()"
   ]
  },
  {
   "cell_type": "code",
   "execution_count": 39,
   "id": "a01ad9ca-af4e-42ef-b509-4b3fa874f16c",
   "metadata": {},
   "outputs": [],
   "source": [
    "class ShiftPredictionModel(nn.Module):\n",
    "    def __init__(self, p_init_coeffs, q_init_coeffs, type_NN):\n",
    "        super(ShiftPredictionModel, self).__init__()\n",
    "        self.p_coefficients = nn.ParameterList(\n",
    "            [nn.Parameter(torch.tensor([coeff], dtype=torch.float64), requires_grad=True) for coeff in p_init_coeffs]\n",
    "        )\n",
    "        self.q_coefficients = nn.ParameterList(\n",
    "            [nn.Parameter(torch.tensor([coeff], dtype=torch.float64), requires_grad=True) for coeff in q_init_coeffs]\n",
    "        )\n",
    "        self.type_NN = type_NN\n",
    "    \n",
    "    def forward_pol(self,t):\n",
    "        return sum([coeff * t**i for i, coeff in enumerate(self.p_coefficients)])\n",
    "    \n",
    "    def forward_rat(self,t):\n",
    "        shift2 = sum([coeff * t**i for i, coeff in enumerate(self.q_coefficients)]) + 1e-6 #avoid dividing by zero\n",
    "        return self.forward_pol(t)/shift2\n",
    "\n",
    "    def forward_activ(self, t):\n",
    "        return F.relu(t)\n",
    "    \n",
    "    def forward(self, t):\n",
    "        if self.type_NN == \"polynomial\":\n",
    "            output = self.forward_pol(t)\n",
    "        elif self.type_NN == \"rational\":\n",
    "            output = self.forward_rat(t)\n",
    "            #output = self.forward_activ(output)\n",
    "            \n",
    "        return output"
   ]
  },
  {
   "cell_type": "code",
   "execution_count": 40,
   "id": "457cff66-3768-424a-afb7-e18ed6b5f01b",
   "metadata": {},
   "outputs": [],
   "source": [
    "def custom_loss_l1(y_predicted, y_target, p_coefficients, q_coefficients, x_data):\n",
    "    # calculate |p(x)-y*q(x)|\n",
    "    q_x = torch.zeros_like(x_data)\n",
    "    for i, coeff in enumerate(q_coefficients):\n",
    "        q_x += coeff * x_data ** i\n",
    "    return torch.mean(torch.abs(y_predicted - y_target * q_x))"
   ]
  },
  {
   "cell_type": "code",
   "execution_count": 41,
   "id": "3d62c9dd-b3b9-4e54-89ad-696a1497dc9b",
   "metadata": {
    "tags": []
   },
   "outputs": [
    {
     "name": "stdout",
     "output_type": "stream",
     "text": [
      "Epoch [0/10000], Loss: 0.1491, Test Loss: 0.1262, Coefficients:[-4, 4, 1][5, 1, 3]tensor([-1.,  4.,  1.])tensor([1., 1., 3.])\n",
      "Epoch [100/10000], Loss: 0.0735, Test Loss: 0.0820, Coefficients:[-4, 4, 1][5, 1, 3]tensor([-1.1554,  3.4938,  0.8414])tensor([1.7591, 1.0515, 2.8472])\n",
      "Epoch [200/10000], Loss: 0.0315, Test Loss: 0.0321, Coefficients:[-4, 4, 1][5, 1, 3]tensor([-1.8400,  2.8407,  0.6878])tensor([2.4425, 0.8577, 2.1734])\n",
      "Epoch [300/10000], Loss: 0.0008, Test Loss: 0.0009, Coefficients:[-4, 4, 1][5, 1, 3]tensor([-2.2422,  2.2396,  0.5624])tensor([2.8016, 0.5618, 1.6824])\n",
      "Epoch [400/10000], Loss: 0.0014, Test Loss: 0.0019, Coefficients:[-4, 4, 1][5, 1, 3]tensor([-2.2447,  2.2471,  0.5633])tensor([2.8052, 0.5629, 1.6802])\n",
      "Epoch [500/10000], Loss: 0.0006, Test Loss: 0.0006, Coefficients:[-4, 4, 1][5, 1, 3]tensor([-2.2458,  2.2442,  0.5628])tensor([2.8085, 0.5606, 1.6860])\n",
      "Epoch [600/10000], Loss: 0.0010, Test Loss: 0.0004, Coefficients:[-4, 4, 1][5, 1, 3]tensor([-2.2452,  2.2480,  0.5634])tensor([2.8123, 0.5619, 1.6857])\n",
      "Epoch [700/10000], Loss: 0.0008, Test Loss: 0.0013, Coefficients:[-4, 4, 1][5, 1, 3]tensor([-2.2526,  2.2535,  0.5613])tensor([2.8125, 0.5572, 1.6853])\n",
      "Epoch [800/10000], Loss: 0.0005, Test Loss: 0.0006, Coefficients:[-4, 4, 1][5, 1, 3]tensor([-2.2504,  2.2534,  0.5621])tensor([2.8146, 0.5646, 1.6889])\n",
      "Epoch [900/10000], Loss: 0.0004, Test Loss: 0.0003, Coefficients:[-4, 4, 1][5, 1, 3]tensor([-2.2529,  2.2523,  0.5638])tensor([2.8160, 0.5643, 1.6886])\n",
      "Epoch [1000/10000], Loss: 0.0003, Test Loss: 0.0006, Coefficients:[-4, 4, 1][5, 1, 3]tensor([-2.2532,  2.2548,  0.5628])tensor([2.8178, 0.5635, 1.6904])\n",
      "Epoch [1100/10000], Loss: 0.0009, Test Loss: 0.0004, Coefficients:[-4, 4, 1][5, 1, 3]tensor([-2.2549,  2.2540,  0.5624])tensor([2.8203, 0.5648, 1.6933])\n",
      "Epoch [1200/10000], Loss: 0.0013, Test Loss: 0.0009, Coefficients:[-4, 4, 1][5, 1, 3]tensor([-2.2569,  2.2552,  0.5621])tensor([2.8229, 0.5636, 1.6948])\n",
      "Epoch [1300/10000], Loss: 0.0006, Test Loss: 0.0005, Coefficients:[-4, 4, 1][5, 1, 3]tensor([-2.2589,  2.2596,  0.5637])tensor([2.8197, 0.5653, 1.6932])\n",
      "Epoch [1400/10000], Loss: 0.0006, Test Loss: 0.0004, Coefficients:[-4, 4, 1][5, 1, 3]tensor([-2.2598,  2.2604,  0.5645])tensor([2.8233, 0.5680, 1.6914])\n",
      "Epoch [1500/10000], Loss: 0.0004, Test Loss: 0.0002, Coefficients:[-4, 4, 1][5, 1, 3]tensor([-2.2628,  2.2584,  0.5650])tensor([2.8227, 0.5672, 1.6950])\n",
      "Epoch [1600/10000], Loss: 0.0006, Test Loss: 0.0006, Coefficients:[-4, 4, 1][5, 1, 3]tensor([-2.2604,  2.2608,  0.5664])tensor([2.8237, 0.5645, 1.6957])\n",
      "Epoch [1700/10000], Loss: 0.0003, Test Loss: 0.0011, Coefficients:[-4, 4, 1][5, 1, 3]tensor([-2.2643,  2.2605,  0.5659])tensor([2.8263, 0.5646, 1.6960])\n",
      "Epoch [1800/10000], Loss: 0.0011, Test Loss: 0.0003, Coefficients:[-4, 4, 1][5, 1, 3]tensor([-2.2632,  2.2655,  0.5639])tensor([2.8265, 0.5668, 1.6980])\n",
      "Epoch [1900/10000], Loss: 0.0002, Test Loss: 0.0004, Coefficients:[-4, 4, 1][5, 1, 3]tensor([-2.2633,  2.2644,  0.5662])tensor([2.8295, 0.5689, 1.6975])\n",
      "Epoch [2000/10000], Loss: 0.0009, Test Loss: 0.0003, Coefficients:[-4, 4, 1][5, 1, 3]tensor([-2.2635,  2.2641,  0.5651])tensor([2.8326, 0.5652, 1.7011])\n",
      "Epoch [2100/10000], Loss: 0.0006, Test Loss: 0.0005, Coefficients:[-4, 4, 1][5, 1, 3]tensor([-2.2666,  2.2684,  0.5667])tensor([2.8309, 0.5680, 1.6979])\n",
      "Epoch [2200/10000], Loss: 0.0003, Test Loss: 0.0004, Coefficients:[-4, 4, 1][5, 1, 3]tensor([-2.2691,  2.2671,  0.5673])tensor([2.8315, 0.5658, 1.7003])\n",
      "Epoch [2300/10000], Loss: 0.0005, Test Loss: 0.0005, Coefficients:[-4, 4, 1][5, 1, 3]tensor([-2.2677,  2.2687,  0.5676])tensor([2.8382, 0.5664, 1.6992])\n",
      "Epoch [2400/10000], Loss: 0.0003, Test Loss: 0.0004, Coefficients:[-4, 4, 1][5, 1, 3]tensor([-2.2691,  2.2692,  0.5679])tensor([2.8368, 0.5686, 1.7012])\n",
      "Epoch [2500/10000], Loss: 0.0007, Test Loss: 0.0003, Coefficients:[-4, 4, 1][5, 1, 3]tensor([-2.2701,  2.2710,  0.5667])tensor([2.8356, 0.5687, 1.7045])\n",
      "Epoch [2600/10000], Loss: 0.0007, Test Loss: 0.0005, Coefficients:[-4, 4, 1][5, 1, 3]tensor([-2.2731,  2.2747,  0.5669])tensor([2.8382, 0.5684, 1.7026])\n",
      "Epoch [2700/10000], Loss: 0.0003, Test Loss: 0.0003, Coefficients:[-4, 4, 1][5, 1, 3]tensor([-2.2723,  2.2741,  0.5677])tensor([2.8404, 0.5687, 1.7045])\n",
      "Epoch [2800/10000], Loss: 0.0007, Test Loss: 0.0007, Coefficients:[-4, 4, 1][5, 1, 3]tensor([-2.2746,  2.2742,  0.5676])tensor([2.8412, 0.5705, 1.7064])\n",
      "Epoch [2900/10000], Loss: 0.0011, Test Loss: 0.0006, Coefficients:[-4, 4, 1][5, 1, 3]tensor([-2.2789,  2.2794,  0.5682])tensor([2.8396, 0.5691, 1.7036])\n",
      "Epoch [3000/10000], Loss: 0.0004, Test Loss: 0.0004, Coefficients:[-4, 4, 1][5, 1, 3]tensor([-2.2759,  2.2767,  0.5694])tensor([2.8458, 0.5688, 1.7055])\n",
      "Epoch [3100/10000], Loss: 0.0005, Test Loss: 0.0004, Coefficients:[-4, 4, 1][5, 1, 3]tensor([-2.2743,  2.2770,  0.5697])tensor([2.8480, 0.5682, 1.7074])\n",
      "Epoch [3200/10000], Loss: 0.0007, Test Loss: 0.0003, Coefficients:[-4, 4, 1][5, 1, 3]tensor([-2.2810,  2.2767,  0.5684])tensor([2.8485, 0.5692, 1.7085])\n",
      "Epoch [3300/10000], Loss: 0.0008, Test Loss: 0.0005, Coefficients:[-4, 4, 1][5, 1, 3]tensor([-2.2790,  2.2820,  0.5682])tensor([2.8479, 0.5707, 1.7085])\n",
      "Epoch [3400/10000], Loss: 0.0003, Test Loss: 0.0009, Coefficients:[-4, 4, 1][5, 1, 3]tensor([-2.2811,  2.2810,  0.5702])tensor([2.8468, 0.5679, 1.7096])\n",
      "Epoch [3500/10000], Loss: 0.0002, Test Loss: 0.0003, Coefficients:[-4, 4, 1][5, 1, 3]tensor([-2.2789,  2.2807,  0.5701])tensor([2.8526, 0.5716, 1.7109])\n",
      "Epoch [3600/10000], Loss: 0.0012, Test Loss: 0.0012, Coefficients:[-4, 4, 1][5, 1, 3]tensor([-2.2839,  2.2819,  0.5687])tensor([2.8508, 0.5724, 1.7125])\n",
      "Epoch [3700/10000], Loss: 0.0007, Test Loss: 0.0007, Coefficients:[-4, 4, 1][5, 1, 3]tensor([-2.2837,  2.2843,  0.5698])tensor([2.8517, 0.5723, 1.7131])\n",
      "Epoch [3800/10000], Loss: 0.0005, Test Loss: 0.0008, Coefficients:[-4, 4, 1][5, 1, 3]tensor([-2.2824,  2.2868,  0.5711])tensor([2.8560, 0.5677, 1.7122])\n",
      "Epoch [3900/10000], Loss: 0.0011, Test Loss: 0.0009, Coefficients:[-4, 4, 1][5, 1, 3]tensor([-2.2828,  2.2860,  0.5727])tensor([2.8601, 0.5695, 1.7130])\n",
      "Epoch [4000/10000], Loss: 0.0006, Test Loss: 0.0009, Coefficients:[-4, 4, 1][5, 1, 3]tensor([-2.2867,  2.2863,  0.5730])tensor([2.8561, 0.5750, 1.7154])\n",
      "Epoch [4100/10000], Loss: 0.0008, Test Loss: 0.0003, Coefficients:[-4, 4, 1][5, 1, 3]tensor([-2.2867,  2.2895,  0.5731])tensor([2.8613, 0.5703, 1.7145])\n",
      "Epoch [4200/10000], Loss: 0.0004, Test Loss: 0.0009, Coefficients:[-4, 4, 1][5, 1, 3]tensor([-2.2905,  2.2914,  0.5719])tensor([2.8613, 0.5733, 1.7159])\n",
      "Epoch [4300/10000], Loss: 0.0007, Test Loss: 0.0010, Coefficients:[-4, 4, 1][5, 1, 3]tensor([-2.2925,  2.2931,  0.5720])tensor([2.8611, 0.5725, 1.7161])\n",
      "Epoch [4400/10000], Loss: 0.0014, Test Loss: 0.0018, Coefficients:[-4, 4, 1][5, 1, 3]tensor([-2.2905,  2.2912,  0.5746])tensor([2.8679, 0.5681, 1.7165])\n",
      "Epoch [4500/10000], Loss: 0.0006, Test Loss: 0.0002, Coefficients:[-4, 4, 1][5, 1, 3]tensor([-2.2941,  2.2950,  0.5726])tensor([2.8631, 0.5744, 1.7199])\n",
      "Epoch [4600/10000], Loss: 0.0008, Test Loss: 0.0003, Coefficients:[-4, 4, 1][5, 1, 3]tensor([-2.2955,  2.2913,  0.5750])tensor([2.8690, 0.5738, 1.7194])\n",
      "Epoch [4700/10000], Loss: 0.0012, Test Loss: 0.0007, Coefficients:[-4, 4, 1][5, 1, 3]tensor([-2.2927,  2.2935,  0.5760])tensor([2.8694, 0.5750, 1.7210])\n",
      "Epoch [4800/10000], Loss: 0.0009, Test Loss: 0.0012, Coefficients:[-4, 4, 1][5, 1, 3]tensor([-2.2982,  2.2966,  0.5728])tensor([2.8673, 0.5735, 1.7239])\n",
      "Epoch [4900/10000], Loss: 0.0006, Test Loss: 0.0003, Coefficients:[-4, 4, 1][5, 1, 3]tensor([-2.2967,  2.2992,  0.5751])tensor([2.8695, 0.5754, 1.7219])\n",
      "Epoch [5000/10000], Loss: 0.0002, Test Loss: 0.0002, Coefficients:[-4, 4, 1][5, 1, 3]tensor([-2.3012,  2.2977,  0.5748])tensor([2.8726, 0.5731, 1.7231])\n",
      "Epoch [5100/10000], Loss: 0.0003, Test Loss: 0.0009, Coefficients:[-4, 4, 1][5, 1, 3]tensor([-2.2998,  2.2980,  0.5748])tensor([2.8780, 0.5715, 1.7242])\n",
      "Epoch [5200/10000], Loss: 0.0010, Test Loss: 0.0004, Coefficients:[-4, 4, 1][5, 1, 3]tensor([-2.2959,  2.3028,  0.5764])tensor([2.8749, 0.5722, 1.7258])\n",
      "Epoch [5300/10000], Loss: 0.0007, Test Loss: 0.0002, Coefficients:[-4, 4, 1][5, 1, 3]tensor([-2.3039,  2.3002,  0.5766])tensor([2.8764, 0.5751, 1.7249])\n",
      "Epoch [5400/10000], Loss: 0.0003, Test Loss: 0.0004, Coefficients:[-4, 4, 1][5, 1, 3]tensor([-2.3037,  2.3022,  0.5755])tensor([2.8765, 0.5771, 1.7279])\n",
      "Epoch [5500/10000], Loss: 0.0006, Test Loss: 0.0007, Coefficients:[-4, 4, 1][5, 1, 3]tensor([-2.3037,  2.3068,  0.5754])tensor([2.8758, 0.5757, 1.7282])\n",
      "Epoch [5600/10000], Loss: 0.0007, Test Loss: 0.0008, Coefficients:[-4, 4, 1][5, 1, 3]tensor([-2.3051,  2.3021,  0.5777])tensor([2.8789, 0.5779, 1.7292])\n",
      "Epoch [5700/10000], Loss: 0.0006, Test Loss: 0.0005, Coefficients:[-4, 4, 1][5, 1, 3]tensor([-2.3070,  2.3035,  0.5764])tensor([2.8807, 0.5766, 1.7316])\n",
      "Epoch [5800/10000], Loss: 0.0009, Test Loss: 0.0006, Coefficients:[-4, 4, 1][5, 1, 3]tensor([-2.3072,  2.3079,  0.5782])tensor([2.8818, 0.5784, 1.7284])\n",
      "Epoch [5900/10000], Loss: 0.0005, Test Loss: 0.0005, Coefficients:[-4, 4, 1][5, 1, 3]tensor([-2.3078,  2.3089,  0.5780])tensor([2.8821, 0.5778, 1.7310])\n",
      "Epoch [6000/10000], Loss: 0.0006, Test Loss: 0.0002, Coefficients:[-4, 4, 1][5, 1, 3]tensor([-2.3091,  2.3091,  0.5762])tensor([2.8868, 0.5768, 1.7331])\n",
      "Epoch [6100/10000], Loss: 0.0006, Test Loss: 0.0003, Coefficients:[-4, 4, 1][5, 1, 3]tensor([-2.3107,  2.3091,  0.5783])tensor([2.8884, 0.5730, 1.7326])\n",
      "Epoch [6200/10000], Loss: 0.0012, Test Loss: 0.0016, Coefficients:[-4, 4, 1][5, 1, 3]tensor([-2.3136,  2.3114,  0.5764])tensor([2.8868, 0.5816, 1.7355])\n",
      "Epoch [6300/10000], Loss: 0.0008, Test Loss: 0.0004, Coefficients:[-4, 4, 1][5, 1, 3]tensor([-2.3155,  2.3128,  0.5775])tensor([2.8893, 0.5814, 1.7362])\n",
      "Epoch [6400/10000], Loss: 0.0002, Test Loss: 0.0005, Coefficients:[-4, 4, 1][5, 1, 3]tensor([-2.3138,  2.3165,  0.5783])tensor([2.8931, 0.5781, 1.7366])\n",
      "Epoch [6500/10000], Loss: 0.0005, Test Loss: 0.0005, Coefficients:[-4, 4, 1][5, 1, 3]tensor([-2.3147,  2.3159,  0.5798])tensor([2.8949, 0.5790, 1.7365])\n",
      "Epoch [6600/10000], Loss: 0.0005, Test Loss: 0.0002, Coefficients:[-4, 4, 1][5, 1, 3]tensor([-2.3186,  2.3151,  0.5787])tensor([2.8947, 0.5777, 1.7390])\n",
      "Epoch [6700/10000], Loss: 0.0004, Test Loss: 0.0004, Coefficients:[-4, 4, 1][5, 1, 3]tensor([-2.3163,  2.3164,  0.5801])tensor([2.8985, 0.5798, 1.7392])\n",
      "Epoch [6800/10000], Loss: 0.0005, Test Loss: 0.0004, Coefficients:[-4, 4, 1][5, 1, 3]tensor([-2.3198,  2.3197,  0.5802])tensor([2.8981, 0.5797, 1.7376])\n",
      "Epoch [6900/10000], Loss: 0.0004, Test Loss: 0.0003, Coefficients:[-4, 4, 1][5, 1, 3]tensor([-2.3188,  2.3185,  0.5803])tensor([2.9029, 0.5799, 1.7399])\n",
      "Epoch [7000/10000], Loss: 0.0005, Test Loss: 0.0003, Coefficients:[-4, 4, 1][5, 1, 3]tensor([-2.3210,  2.3199,  0.5810])tensor([2.9028, 0.5786, 1.7399])\n",
      "Epoch [7100/10000], Loss: 0.0004, Test Loss: 0.0003, Coefficients:[-4, 4, 1][5, 1, 3]tensor([-2.3202,  2.3225,  0.5800])tensor([2.9030, 0.5830, 1.7422])\n",
      "Epoch [7200/10000], Loss: 0.0005, Test Loss: 0.0004, Coefficients:[-4, 4, 1][5, 1, 3]tensor([-2.3219,  2.3211,  0.5806])tensor([2.9051, 0.5799, 1.7438])\n",
      "Epoch [7300/10000], Loss: 0.0008, Test Loss: 0.0004, Coefficients:[-4, 4, 1][5, 1, 3]tensor([-2.3213,  2.3255,  0.5823])tensor([2.9043, 0.5812, 1.7427])\n",
      "Epoch [7400/10000], Loss: 0.0010, Test Loss: 0.0007, Coefficients:[-4, 4, 1][5, 1, 3]tensor([-2.3264,  2.3258,  0.5795])tensor([2.9071, 0.5803, 1.7454])\n",
      "Epoch [7500/10000], Loss: 0.0007, Test Loss: 0.0002, Coefficients:[-4, 4, 1][5, 1, 3]tensor([-2.3261,  2.3264,  0.5803])tensor([2.9082, 0.5823, 1.7460])\n",
      "Epoch [7600/10000], Loss: 0.0003, Test Loss: 0.0003, Coefficients:[-4, 4, 1][5, 1, 3]tensor([-2.3260,  2.3286,  0.5813])tensor([2.9101, 0.5810, 1.7455])\n",
      "Epoch [7700/10000], Loss: 0.0007, Test Loss: 0.0009, Coefficients:[-4, 4, 1][5, 1, 3]tensor([-2.3252,  2.3294,  0.5830])tensor([2.9094, 0.5814, 1.7461])\n",
      "Epoch [7800/10000], Loss: 0.0004, Test Loss: 0.0005, Coefficients:[-4, 4, 1][5, 1, 3]tensor([-2.3285,  2.3276,  0.5823])tensor([2.9115, 0.5806, 1.7484])\n",
      "Epoch [7900/10000], Loss: 0.0006, Test Loss: 0.0005, Coefficients:[-4, 4, 1][5, 1, 3]tensor([-2.3324,  2.3299,  0.5832])tensor([2.9112, 0.5843, 1.7458])\n",
      "Epoch [8000/10000], Loss: 0.0004, Test Loss: 0.0006, Coefficients:[-4, 4, 1][5, 1, 3]tensor([-2.3308,  2.3317,  0.5819])tensor([2.9149, 0.5809, 1.7482])\n",
      "Epoch [8100/10000], Loss: 0.0002, Test Loss: 0.0004, Coefficients:[-4, 4, 1][5, 1, 3]tensor([-2.3330,  2.3324,  0.5824])tensor([2.9151, 0.5795, 1.7486])\n",
      "Epoch [8200/10000], Loss: 0.0004, Test Loss: 0.0003, Coefficients:[-4, 4, 1][5, 1, 3]tensor([-2.3331,  2.3341,  0.5834])tensor([2.9162, 0.5872, 1.7481])\n",
      "Epoch [8300/10000], Loss: 0.0003, Test Loss: 0.0001, Coefficients:[-4, 4, 1][5, 1, 3]tensor([-2.3343,  2.3350,  0.5830])tensor([2.9177, 0.5849, 1.7494])\n",
      "Epoch [8400/10000], Loss: 0.0010, Test Loss: 0.0006, Coefficients:[-4, 4, 1][5, 1, 3]tensor([-2.3375,  2.3340,  0.5823])tensor([2.9190, 0.5853, 1.7522])\n",
      "Epoch [8500/10000], Loss: 0.0004, Test Loss: 0.0003, Coefficients:[-4, 4, 1][5, 1, 3]tensor([-2.3337,  2.3366,  0.5849])tensor([2.9199, 0.5863, 1.7530])\n",
      "Epoch [8600/10000], Loss: 0.0009, Test Loss: 0.0005, Coefficients:[-4, 4, 1][5, 1, 3]tensor([-2.3386,  2.3361,  0.5833])tensor([2.9207, 0.5894, 1.7543])\n",
      "Epoch [8700/10000], Loss: 0.0002, Test Loss: 0.0004, Coefficients:[-4, 4, 1][5, 1, 3]tensor([-2.3378,  2.3375,  0.5847])tensor([2.9251, 0.5845, 1.7534])\n",
      "Epoch [8800/10000], Loss: 0.0005, Test Loss: 0.0005, Coefficients:[-4, 4, 1][5, 1, 3]tensor([-2.3374,  2.3398,  0.5851])tensor([2.9256, 0.5826, 1.7536])\n",
      "Epoch [8900/10000], Loss: 0.0010, Test Loss: 0.0003, Coefficients:[-4, 4, 1][5, 1, 3]tensor([-2.3417,  2.3395,  0.5867])tensor([2.9268, 0.5847, 1.7517])\n",
      "Epoch [9000/10000], Loss: 0.0006, Test Loss: 0.0004, Coefficients:[-4, 4, 1][5, 1, 3]tensor([-2.3421,  2.3383,  0.5853])tensor([2.9250, 0.5847, 1.7586])\n",
      "Epoch [9100/10000], Loss: 0.0008, Test Loss: 0.0012, Coefficients:[-4, 4, 1][5, 1, 3]tensor([-2.3426,  2.3444,  0.5863])tensor([2.9259, 0.5847, 1.7546])\n",
      "Epoch [9200/10000], Loss: 0.0013, Test Loss: 0.0012, Coefficients:[-4, 4, 1][5, 1, 3]tensor([-2.3393,  2.3427,  0.5875])tensor([2.9316, 0.5830, 1.7567])\n",
      "Epoch [9300/10000], Loss: 0.0010, Test Loss: 0.0005, Coefficients:[-4, 4, 1][5, 1, 3]tensor([-2.3428,  2.3442,  0.5877])tensor([2.9326, 0.5858, 1.7565])\n",
      "Epoch [9400/10000], Loss: 0.0004, Test Loss: 0.0007, Coefficients:[-4, 4, 1][5, 1, 3]tensor([-2.3471,  2.3471,  0.5863])tensor([2.9314, 0.5869, 1.7581])\n",
      "Epoch [9500/10000], Loss: 0.0002, Test Loss: 0.0006, Coefficients:[-4, 4, 1][5, 1, 3]tensor([-2.3438,  2.3488,  0.5870])tensor([2.9320, 0.5862, 1.7610])\n",
      "Epoch [9600/10000], Loss: 0.0005, Test Loss: 0.0006, Coefficients:[-4, 4, 1][5, 1, 3]tensor([-2.3505,  2.3491,  0.5872])tensor([2.9336, 0.5847, 1.7594])\n",
      "Epoch [9700/10000], Loss: 0.0003, Test Loss: 0.0011, Coefficients:[-4, 4, 1][5, 1, 3]tensor([-2.3454,  2.3503,  0.5876])tensor([2.9358, 0.5870, 1.7625])\n",
      "Epoch [9800/10000], Loss: 0.0006, Test Loss: 0.0006, Coefficients:[-4, 4, 1][5, 1, 3]tensor([-2.3520,  2.3488,  0.5884])tensor([2.9379, 0.5885, 1.7609])\n",
      "Epoch [9900/10000], Loss: 0.0005, Test Loss: 0.0005, Coefficients:[-4, 4, 1][5, 1, 3]tensor([-2.3526,  2.3515,  0.5870])tensor([2.9388, 0.5882, 1.7630])\n",
      "Model training complete.\n"
     ]
    }
   ],
   "source": [
    "model = ShiftPredictionModel(p_init_coeffs=p_coefficients_init,q_init_coeffs=q_coefficients_init,type_NN=\"rational\") # nn.Linear(40,1)\n",
    "model.to(torch.float64)\n",
    "\n",
    "criterion = nn.L1Loss()\n",
    "optimizer = optim.Adam(model.parameters(), lr=0.01)\n",
    "\n",
    "# Training the model\n",
    "epochs = 10000\n",
    "for epoch in range(epochs):\n",
    "    \n",
    "    model.train()\n",
    "    optimizer.zero_grad()\n",
    "    y_pred_rat = model(x_train)\n",
    "    p_coefficients = torch.tensor([p.item() for p in model.p_coefficients])\n",
    "    q_coefficients = torch.tensor([p.item() for p in model.q_coefficients])\n",
    "    prediction_loss = criterion(y_pred_rat, y_train_rat)\n",
    "    #tv_loss=total_variation(y_pred_rat)\n",
    "    loss = prediction_loss #+ 0.5 * tv_loss\n",
    "\n",
    "    loss.backward()\n",
    "    optimizer.step()\n",
    "        \n",
    "    # Evaluation\n",
    "    model.eval()\n",
    "    with torch.no_grad():\n",
    "        y_pred_val_rat = model(x_val)\n",
    "        prediction_val_loss = criterion(y_pred_val_rat,y_val_rat) #calculate_loss(y_val,predictions_val).item()\n",
    "        #tv_test_loss = total_variation(y_pred_val).item()\n",
    "        val_loss = prediction_val_loss #+ 0.5 * tv_test_loss\n",
    "        if epoch % 100 == 0:\n",
    "            print(f'Epoch [{epoch}/{epochs}], Loss: {loss.item():.4f}, Test Loss: {val_loss:.4f}, Coefficients:{[coefficients1[::-1][i] for i in range(len(coefficients1))]}{[coefficients2[::-1][i] for i in range(len(coefficients2))]}{p_coefficients}{q_coefficients}')\n",
    "\n",
    "print(f\"Model training complete.\")\n"
   ]
  },
  {
   "cell_type": "code",
   "execution_count": 42,
   "id": "b63395f1-83d7-4fa1-8cef-38e2d7e6561b",
   "metadata": {},
   "outputs": [
    {
     "data": {
      "image/png": "[encoded data removed]",
      "text/plain": [
       "<Figure size 640x480 with 1 Axes>"
      ]
     },
     "metadata": {},
     "output_type": "display_data"
    }
   ],
   "source": [
    "t_values = np.linspace(-10, 10, cols)\n",
    "y_values_rat = np.polyval(np.flip(p_coefficients.numpy()), t_values)/np.polyval(np.flip(q_coefficients.numpy()), t_values)\n",
    "\n",
    "plt.scatter(x_train, y_train_rat, alpha = 0.3, marker = 'o', color = 'r')\n",
    "plt.scatter(x_val, y_val_rat, alpha = 0.3, marker = 'o', color = 'b')\n",
    "plt.plot(t_values,y_values_rat, color = 'k')\n",
    "plt.title('2D Scatter plot ')\n",
    "plt.xlabel('x')\n",
    "plt.ylabel('y')\n",
    "plt.show()"
   ]
  },
  {
   "cell_type": "code",
   "execution_count": 27,
   "id": "3edf107e-8737-44a7-ab80-7f1fddc99a0d",
   "metadata": {},
   "outputs": [
    {
     "name": "stdout",
     "output_type": "stream",
     "text": [
      "0.002253195\n"
     ]
    }
   ],
   "source": [
    "print(np.linalg.norm(y_val_rat.detach().numpy() - y_pred_val_rat.detach().numpy()) / np.linalg.norm(y_val_rat.detach().numpy()))"
   ]
  },
  {
   "cell_type": "code",
   "execution_count": null,
   "id": "3734819f-6cc2-4278-8602-1eaf8858f443",
   "metadata": {},
   "outputs": [],
   "source": []
  }
 ],
 "metadata": {
  "kernelspec": {
   "display_name": "Python 3 (ipykernel)",
   "language": "python",
   "name": "python3"
  },
  "language_info": {
   "codemirror_mode": {
    "name": "ipython",
    "version": 3
   },
   "file_extension": ".py",
   "mimetype": "text/x-python",
   "name": "python",
   "nbconvert_exporter": "python",
   "pygments_lexer": "ipython3",
   "version": "3.11.2"
  }
 },
 "nbformat": 4,
 "nbformat_minor": 5
}
