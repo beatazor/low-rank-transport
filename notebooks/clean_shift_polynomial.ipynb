{
 "cells": [
  {
   "cell_type": "code",
   "execution_count": 1,
   "id": "6963bf93-a774-4b7f-b0b4-1ee1ca85e16b",
   "metadata": {},
   "outputs": [],
   "source": [
    "import torch\n",
    "import torch.nn as nn\n",
    "import torch.nn.functional as F\n",
    "import torch.optim as optim\n",
    "from torch.autograd import gradcheck\n",
    "import numpy as np\n",
    "import matplotlib.pyplot as plt\n",
    "from scipy.ndimage import shift\n",
    "from math import sqrt\n",
    "from scipy.sparse import diags\n",
    "from scipy.linalg import cholesky"
   ]
  },
  {
   "cell_type": "markdown",
   "id": "ad91d999-b9a0-4eb1-87a5-f83d4a535ff3",
   "metadata": {},
   "source": [
    "## Create MATRIX data"
   ]
  },
  {
   "cell_type": "code",
   "execution_count": 2,
   "id": "9784ddd8-ffc5-40a7-9129-6489bebf2b26",
   "metadata": {},
   "outputs": [],
   "source": [
    "rows, cols, sigma = 250, 100, 5.0\n",
    "coefficients1 = [2,-1,-1] # of the shift polynomial"
   ]
  },
  {
   "cell_type": "code",
   "execution_count": 3,
   "id": "591f5510-7a71-4d05-8891-0dc20ac11930",
   "metadata": {},
   "outputs": [],
   "source": [
    "# define shift by passing coefficients in polynom\n",
    "t_values = np.linspace(-10, 10, cols)\n",
    "shifted_t_values = np.polyval(coefficients1,t_values)"
   ]
  },
  {
   "cell_type": "code",
   "execution_count": 4,
   "id": "c1a73b5f-aef7-46e2-84b0-580987b2caa4",
   "metadata": {},
   "outputs": [],
   "source": [
    "# Gaussian function\n",
    "def gaussian(x, mu, sigma=1.0):\n",
    "    return np.exp(-np.power(x - mu, 2.0) / (2 * np.power(sigma, 2.0)))\n",
    "\n",
    "def create_gaussian_time_matrix(rows=500, cols=50, sigma=1.0):\n",
    "    matrix = np.zeros((rows, cols))\n",
    "    for col in range(cols):\n",
    "        for row in range(rows):\n",
    "            matrix[row, col] = gaussian(row, 20, sigma)\n",
    "    matrix /= np.max(matrix)\n",
    "    \n",
    "    return matrix\n"
   ]
  },
  {
   "cell_type": "code",
   "execution_count": 5,
   "id": "d97099bc-9e3e-4705-b76a-83fa0a616335",
   "metadata": {},
   "outputs": [],
   "source": [
    "Q_orig = create_gaussian_time_matrix(rows, cols, sigma)\n",
    "qs = torch.tensor(Q_orig, requires_grad=False)"
   ]
  },
  {
   "cell_type": "markdown",
   "id": "93562770-b1f8-40d0-b521-4d17418e821b",
   "metadata": {},
   "source": [
    "# Cubic spline interpolation class"
   ]
  },
  {
   "cell_type": "code",
   "execution_count": 6,
   "id": "e03f1b87-a1c8-476c-8d81-2994da1daccd",
   "metadata": {},
   "outputs": [],
   "source": [
    "class SplineInterpolation:\n",
    "    def __init__(self, params):\n",
    "        self.params = params\n",
    "        self.A1, self.D1, self.D2, self.R = self.give_spline_coefficient_matrices()\n",
    "\n",
    "    def give_spline_coefficient_matrices(self):\n",
    "        Nxi = params['geometry']['Nxi']\n",
    "        # Initialize matrices\n",
    "        # Create the A1 matrix\n",
    "        diagonals = np.ones((Nxi, 1)) * np.array([1, 2, 1])\n",
    "        offsets = [-1, 0, Nxi-1]\n",
    "        A1_np = diags(diagonals.T, offsets, shape=(Nxi, Nxi)).toarray()\n",
    "        A1 = torch.tensor(A1_np, dtype=torch.float64)\n",
    "\n",
    "        # Create the D1 matrix\n",
    "        diagonals = np.ones((Nxi, 1)) * np.array([-1, 1, -1])\n",
    "        D1_np = diags(diagonals.T, offsets, shape=(Nxi, Nxi)).toarray()\n",
    "        D1 = torch.tensor(D1_np, dtype=torch.float64)\n",
    "\n",
    "        # Create the D2 matrix\n",
    "        diagonals = np.ones((Nxi, 1)) * np.array([1, 1, -2, 1, 1])\n",
    "        offsets = [-(Nxi-1), -1, 0, 1, Nxi-1]\n",
    "        D2_np = diags(diagonals.T, offsets, shape=(Nxi, Nxi)).toarray()\n",
    "        D2 = torch.tensor(D2_np, dtype=torch.float64)\n",
    "\n",
    "        # Create the M matrix and compute its Cholesky decomposition\n",
    "        diagonals = np.ones((Nxi, 1)) * np.array([1, 1, 4, 1, 1])\n",
    "        M_np = diags(diagonals.T, offsets, shape=(Nxi, Nxi)).toarray()\n",
    "        R_np = cholesky(M_np)\n",
    "        R = torch.tensor(R_np, dtype=torch.float64)\n",
    "        \n",
    "        return A1, D1, D2, R\n",
    "\n",
    "    def construct_spline_coeffs_periodic(self, qs):\n",
    "        n = qs.shape[1]\n",
    "        #import pdb; pdb.set_trace()\n",
    "        # grid size:\n",
    "        dxi = params['geometry']['dxi']\n",
    "\n",
    "        # compute the spline coefficients:\n",
    "        if qs.ndim == 1:  # case of just one data set\n",
    "            spline_coeffs = {\n",
    "                'a': qs,\n",
    "                'c': (3 / dxi ** 2) * torch.solve(D2 @ qs, R)[0],\n",
    "                'b': None,\n",
    "                'd': None\n",
    "            }\n",
    "            spline_coeffs['b'] = (1 / dxi) * (self.D1 @ qs) + (dxi / 3) * (self.A1 @ spline_coeffs['c'])\n",
    "            spline_coeffs['d'] = (1 / (3 * dxi)) * (self.D1 @ spline_coeffs['c'])\n",
    "        else:  # case of multiple data sets\n",
    "            spline_coeffs = {'a': qs, 'b': qs.clone(), 'c': qs.clone(), 'd': qs.clone()}\n",
    "            #import pdb; pdb.set_trace()\n",
    "            for i in range(n):\n",
    "                # Assign the solved result to spline_coeffs\n",
    "                spline_coeffs['c'][:, i] = (3 / dxi**2) * torch.linalg.solve(self.R, torch.linalg.solve(self.R.T, self.D2 @ qs[:, i]))\n",
    "                spline_coeffs['b'][:, i] = (1 / dxi) * (self.D1 @ qs[:, i]) + (dxi / 3) * (self.A1 @ spline_coeffs['c'][:, i])\n",
    "                spline_coeffs['d'][:, i] = (1 / (3 * dxi)) * (self.D1 @ spline_coeffs['c'][:, i])\n",
    "\n",
    "        return spline_coeffs\n",
    "\n",
    "    def forward(self, qs, cs):\n",
    "        self.A1, self.D1, self.D2, self.R = self.give_spline_coefficient_matrices()\n",
    "        # Compute spline coefficients\n",
    "        spline_coeffs = self.construct_spline_coeffs_periodic(qs)\n",
    "\n",
    "        # Shift the data set\n",
    "        qs_shifted = self.shift_matrix_periodic_precomputed_coeffs(cs, spline_coeffs)\n",
    "        return qs_shifted\n",
    "\n",
    "    def backward(self, qs, cs):\n",
    "        # Compute spline coefficients\n",
    "        spline_coeffs = self.construct_spline_coeffs_periodic(qs)\n",
    "\n",
    "        # Compute the derivative of the shifted data set\n",
    "        qs_derivative_shifted = self.shiftMatrix_derivative_periodic_precomputedCoeffs(cs, spline_coeffs)\n",
    "        return qs_derivative_shifted\n",
    "\n",
    "    def shift_matrix_periodic_precomputed_coeffs(self, cs, spline_coeffs):\n",
    "        # Extract spline coefficients\n",
    "        a = spline_coeffs['a']\n",
    "        b = spline_coeffs['b']\n",
    "        c = spline_coeffs['c']\n",
    "        d = spline_coeffs['d']\n",
    "\n",
    "        # Number of grid points\n",
    "        m = params['geometry']['Nxi']\n",
    "\n",
    "        # Number of data sets\n",
    "        n = a.shape[1]\n",
    "\n",
    "        # Grid size\n",
    "        dxi = params['geometry']['dxi']\n",
    "\n",
    "        # Length of computational domain\n",
    "        L = m * dxi\n",
    "\n",
    "        # Compute csTilde = cs modulo L\n",
    "        q1 = torch.floor(cs / L)\n",
    "        csTilde = cs - q1 * L\n",
    "        # Compute zeta = csTilde modulo dxi\n",
    "        q2 = torch.floor(csTilde / dxi)\n",
    "        zeta = csTilde - q2 * dxi\n",
    "\n",
    "        # Compute shifted version of the data set(s)\n",
    "        if a.ndim == 1:  # Case of only one data set\n",
    "            if cs.ndim == 1:  # If cs is a vector, then the data set is shifted by multiple shift amounts\n",
    "                zeta = zeta.reshape(1, -1)  # Ensure zeta is a row vector\n",
    "                # Compute interpolated data set\n",
    "                qsInterpolated = a - torch.matmul(b.unsqueeze(1), zeta) + torch.matmul(c.unsqueeze(1), zeta ** 2) - torch.matmul(d.unsqueeze(1), zeta ** 3)\n",
    "                # Compute shifted data set\n",
    "                qsShifted[:, i] = torch.cat((qsInterpolated[m - int(q2[i].item()):], qsInterpolated[:m - int(q2[i].item())]), dim=0)\n",
    "\n",
    "            else:\n",
    "                qsInterpolated = a - zeta * b + zeta ** 2 * c - zeta ** 3 * d\n",
    "                qsShifted = torch.cat((qsInterpolated[m - int(q2[i].item()):], qsInterpolated[:m - int(q2[i].item())]))\n",
    "        else:  # Case of multiple data sets\n",
    "            if torch.is_tensor(q2) and q2.numel() == 1:\n",
    "                q2 = q2.repeat(n)\n",
    "                zeta = zeta.repeat(n)\n",
    "            qsShifted = torch.zeros((m, n))\n",
    "            for i in range(n):\n",
    "                # Compute interpolated data set\n",
    "                qsInterpolated = a[:, i] - zeta[i] * b[:, i] + zeta[i] ** 2 * c[:, i] - zeta[i] ** 3 * d[:, i]\n",
    "                # Compute shifted data set\n",
    "                qsShifted[:, i] = torch.cat((qsInterpolated[m - int(q2[i].item()):], qsInterpolated[:m - int(q2[i].item())]), dim=0)\n",
    "\n",
    "\n",
    "        return qsShifted\n",
    "\n",
    "    def shiftMatrix_derivative_periodic_precomputedCoeffs(self, cs, splineCoeffs):\n",
    "        # Extracting spline coefficients\n",
    "        b = splineCoeffs['b']\n",
    "        c = splineCoeffs['c']\n",
    "        d = splineCoeffs['d']\n",
    "        \n",
    "        # Number of grid points\n",
    "        m = params['geometry']['Nxi']\n",
    "\n",
    "        # Number of data sets\n",
    "        n = b.shape[1]\n",
    "\n",
    "        # Grid size\n",
    "        dxi = params['geometry']['dxi']\n",
    "\n",
    "        # Length of computational domain\n",
    "        L = m * dxi\n",
    "\n",
    "        # Compute csTilde = cs modulo L\n",
    "        q1 = torch.floor(cs / L)\n",
    "        csTilde = cs - q1 * L\n",
    "\n",
    "        # Compute zeta = csTilde modulo dxi\n",
    "        q2 = torch.floor(csTilde / dxi)\n",
    "        zeta = csTilde - q2 * dxi\n",
    "        #import pdb; pdb.set_trace()\n",
    "\n",
    "        # Compute derivative of shifted data set(s)\n",
    "        if b.dim() == 1:  # Case of only one data set\n",
    "            if cs.dim() == 1:  # if cs is a vector\n",
    "                if zeta.dim() == 1:\n",
    "                    zeta = zeta.unsqueeze(0)\n",
    "                qsInterpolated = -b + 2 * c * zeta - 3 * d * zeta.pow(2)\n",
    "                qsShifted[:, i] = torch.cat((qsInterpolated[m - int(q2[i].item()):], qsInterpolated[:m - int(q2[i].item())]), dim=0)\n",
    "            else:\n",
    "                qsInterpolated = -b + 2 * zeta * c - 3 * zeta.pow(2) * d\n",
    "                qsShifted = torch.cat((qsInterpolated[m - int(q2[i].item()):], qsInterpolated[:m - int(q2[i].item())]))\n",
    "        else:  # Case of multiple data sets\n",
    "            if torch.is_tensor(q2) and torch.numel(q2) == 1:\n",
    "                q2 = q2.repeat(n)\n",
    "                zeta = zeta.repeat(n)\n",
    "            qsShifted = torch.zeros((m, n), dtype=b.dtype, device=b.device)\n",
    "            for i in range(n):\n",
    "                qsInterpolated = -b[:, i] + 2 * zeta[i] * c[:, i] - 3 * zeta[i].pow(2) * d[:, i]\n",
    "                qsShifted[:, i] = torch.cat((qsInterpolated[m - int(q2[i].item()):], qsInterpolated[:m - int(q2[i].item())]), dim=0)\n",
    "\n",
    "        return qsShifted"
   ]
  },
  {
   "cell_type": "markdown",
   "id": "a50d74f6-f86b-4950-94ea-74e9a633f613",
   "metadata": {},
   "source": [
    "## Define parameters for spline interpolation"
   ]
  },
  {
   "cell_type": "code",
   "execution_count": 7,
   "id": "5003a890-a2b2-414d-9be0-0ca78113d0ad",
   "metadata": {},
   "outputs": [],
   "source": [
    "x = np.arange(0,rows)\n",
    "cs = torch.tensor(shifted_t_values, requires_grad=True)\n",
    "dx = x[1] - x[0]\n",
    "params = {'geometry': {'Nxi': rows, 'dxi': dx}, 'interpolation': {}}"
   ]
  },
  {
   "cell_type": "code",
   "execution_count": 8,
   "id": "c3616fdb-15e8-4ec0-99da-eb34a7d23854",
   "metadata": {},
   "outputs": [],
   "source": [
    "spline_interpolator = SplineInterpolation(params)\n",
    "qs_shifted = spline_interpolator.forward(qs.double(), cs.double()) # shifted snapshot matrix\n",
    "q_reverse_shifted = spline_interpolator.forward(qs_shifted.double(), -cs.double()) # shift shifted snapshot matrix back\n",
    "qs_derivative_shifted = spline_interpolator.backward(qs.double(), cs.double()) # derivative of shifted snaphot matrix"
   ]
  },
  {
   "cell_type": "code",
   "execution_count": 9,
   "id": "b7e40bad-245c-4c39-baa2-a41134b9d115",
   "metadata": {},
   "outputs": [
    {
     "name": "stdout",
     "output_type": "stream",
     "text": [
      "1.52779350620061e-05\n"
     ]
    }
   ],
   "source": [
    "# Relative error\n",
    "print(np.linalg.norm(qs.detach().numpy() - q_reverse_shifted.detach().numpy())/np.linalg.norm(qs.detach().numpy()))"
   ]
  },
  {
   "cell_type": "code",
   "execution_count": 10,
   "id": "63195002-a623-4495-9b5f-d3aaccc08f42",
   "metadata": {
    "tags": []
   },
   "outputs": [
    {
     "data": {
      "text/plain": [
       "Text(0.5, 1.0, 'Snapshot Matrix with Polynomial Shift')"
      ]
     },
     "execution_count": 10,
     "metadata": {},
     "output_type": "execute_result"
    },
    {
     "data": {
      "image/png": "[encoded data removed]",
      "text/plain": [
       "<Figure size 1440x432 with 3 Axes>"
      ]
     },
     "metadata": {
      "needs_background": "light"
     },
     "output_type": "display_data"
    }
   ],
   "source": [
    "# Plotting\n",
    "fig, ax = plt.subplots(1, 3, figsize=(20, 6))\n",
    "\n",
    "# Without shift\n",
    "ax[0].imshow(qs.detach().numpy(), cmap='hot', interpolation='nearest', aspect='auto')\n",
    "ax[0].set_title('Snapshot Matrix without shift')\n",
    "\n",
    "# With inverse shift\n",
    "ax[1].imshow(q_reverse_shifted.detach().numpy(), cmap='hot', interpolation='nearest', aspect='auto')\n",
    "ax[1].set_title('Snapshot Matrix with inverse Polynomial Shift')\n",
    "\n",
    "# With shift\n",
    "ax[2].imshow(qs_shifted.detach().numpy(), cmap='hot', interpolation='nearest', aspect='auto')\n",
    "ax[2].set_title('Snapshot Matrix with Polynomial Shift')"
   ]
  },
  {
   "cell_type": "markdown",
   "id": "43a245f1-e752-4c4f-833d-360d6ebc8989",
   "metadata": {},
   "source": [
    "## Check if gradients for spline interpolation are calculated correctly"
   ]
  },
  {
   "cell_type": "code",
   "execution_count": 39,
   "id": "727ae527-efeb-4617-b0e2-ea91a0612a15",
   "metadata": {
    "tags": []
   },
   "outputs": [],
   "source": [
    "#from torch.autograd import gradcheck\n",
    "\n",
    "#spline_interpolator = SplineInterpolation(params)\n",
    "\n",
    "#test = gradcheck(spline_interpolator.backward, (qs.double(), cs.double()), eps=1e-5)\n",
    "#print(\"Gradient check passed:\", test)\n"
   ]
  },
  {
   "cell_type": "markdown",
   "id": "fa9deb0f-c6ed-4cfc-a618-34dcd83258d6",
   "metadata": {},
   "source": [
    "## Define a shift model"
   ]
  },
  {
   "cell_type": "code",
   "execution_count": 40,
   "id": "a010ee80-d476-4394-9683-da9154e262d3",
   "metadata": {},
   "outputs": [],
   "source": [
    "class ShiftPredictionModel(nn.Module):\n",
    "    def __init__(self, p_init_coeffs):\n",
    "        super(ShiftPredictionModel, self).__init__()\n",
    "        self.p_coefficients = nn.ParameterList(\n",
    "            [nn.Parameter(torch.tensor([coeff], dtype=torch.float64), requires_grad=True) for coeff in p_init_coeffs[::-1]]\n",
    "        )\n",
    "    def forward(self,t):\n",
    "        return sum([coeff * t**i for i, coeff in enumerate(self.p_coefficients)])\n"
   ]
  },
  {
   "cell_type": "markdown",
   "id": "81f48c40-3a6d-47e2-8bc4-3a3fcdabf1ae",
   "metadata": {},
   "source": [
    "## Define Nuclear Norm class"
   ]
  },
  {
   "cell_type": "code",
   "execution_count": 41,
   "id": "1494f051-44c7-4e5d-a8ab-3ce664d73321",
   "metadata": {},
   "outputs": [],
   "source": [
    "class NuclearNormAutograd(torch.autograd.Function):\n",
    "    @staticmethod\n",
    "    def forward(ctx, input_matrix):\n",
    "        ctx.save_for_backward(input_matrix)\n",
    "        return torch.linalg.matrix_norm(input_matrix, ord=\"nuc\")\n",
    "\n",
    "    @staticmethod\n",
    "    def backward(ctx, grad_output):\n",
    "        input_matrix, = ctx.saved_tensors\n",
    "        u, s, v = torch.svd(input_matrix, some=True)\n",
    "        rank = torch.sum(s > 0).item()\n",
    "        dtype = input_matrix.dtype\n",
    "        eye_approx = torch.diag_embed((s > 0).to(dtype))[:s.size(0), :s.size(0)]\n",
    "        grad_input = torch.matmul(torch.matmul(u[:, :rank], eye_approx), v[:, :rank].t())\n",
    "        return grad_input * grad_output"
   ]
  },
  {
   "cell_type": "markdown",
   "id": "0b568603-e7e7-44b1-80db-433f2ad95b0d",
   "metadata": {},
   "source": [
    "## Check if gradients for nuclear norm are calculated correctly"
   ]
  },
  {
   "cell_type": "code",
   "execution_count": 42,
   "id": "ab1c412a-2e9a-43c3-8212-1b465225cd6c",
   "metadata": {},
   "outputs": [],
   "source": [
    "#input_matrix = torch.randn(5, 5, dtype=torch.double, requires_grad=True) #torch.tensor(qs, dtype=torch.double, requires_grad=True)\n",
    "\n",
    "#gradcheck_success = gradcheck(NuclearNormAutograd.apply, input_matrix, eps=1e-05, atol=1e-4)\n",
    "#print(\"Gradient check passed:\", gradcheck_success)"
   ]
  },
  {
   "cell_type": "markdown",
   "id": "6affd5c3-d2a8-4fc9-bc9f-de394f2096e0",
   "metadata": {},
   "source": [
    "## Train a model"
   ]
  },
  {
   "cell_type": "code",
   "execution_count": 64,
   "id": "a1a1de64-b9e0-4e6b-abcd-7f40431f078f",
   "metadata": {},
   "outputs": [],
   "source": [
    "p_coefficients_init = [0,-1,0.5] # initial coefficients of a shift polynomial\n",
    "t_values_tensor = torch.linspace(-10, 10, cols,dtype=torch.float64)"
   ]
  },
  {
   "cell_type": "code",
   "execution_count": 66,
   "id": "24aa87f9-cbfe-4fb1-aabc-bed67ae9b659",
   "metadata": {
    "tags": []
   },
   "outputs": [
    {
     "name": "stdout",
     "output_type": "stream",
     "text": [
      "Epoch [0/1000], Loss: 137.5324,Coefficients:[-1, -1, 2]tensor([ 0.5000, -1.0000,  0.0000])\n",
      "Epoch [100/1000], Loss: 97.1825,Coefficients:[-1, -1, 2]tensor([ 0.5678, -1.0006,  1.0781])\n",
      "Epoch [200/1000], Loss: 30.2922,Coefficients:[-1, -1, 2]tensor([ 0.4521, -0.9998,  2.0041])\n",
      "Epoch [300/1000], Loss: 29.9548,Coefficients:[-1, -1, 2]tensor([ 0.4190, -1.0007,  1.9986])\n"
     ]
    },
    {
     "ename": "KeyboardInterrupt",
     "evalue": "",
     "output_type": "error",
     "traceback": [
      "\u001b[0;31m---------------------------------------------------------------------------\u001b[0m",
      "\u001b[0;31mKeyboardInterrupt\u001b[0m                         Traceback (most recent call last)",
      "Cell \u001b[0;32mIn[66], line 21\u001b[0m\n\u001b[1;32m     17\u001b[0m loss \u001b[38;5;241m=\u001b[39m NuclearNormAutograd\u001b[38;5;241m.\u001b[39mapply(TQ)\n\u001b[1;32m     18\u001b[0m \u001b[38;5;66;03m#loss = torch.norm(TQ - qs, 'fro')**2 # calculate ||T^-1(Q) - Q1||\u001b[39;00m\n\u001b[1;32m     19\u001b[0m \u001b[38;5;66;03m#loss = criterion(y_pred_pol, torch.tensor(shifted_t_values))\u001b[39;00m\n\u001b[0;32m---> 21\u001b[0m loss\u001b[38;5;241m.\u001b[39mbackward(retain_graph\u001b[38;5;241m=\u001b[39m\u001b[38;5;28;01mTrue\u001b[39;00m)\n\u001b[1;32m     23\u001b[0m optimizer\u001b[38;5;241m.\u001b[39mstep()\n\u001b[1;32m     25\u001b[0m \u001b[38;5;66;03m#scheduler.step()\u001b[39;00m\n",
      "File \u001b[0;32m~/anaconda3/envs/thesis/lib/python3.11/site-packages/torch/_tensor.py:492\u001b[0m, in \u001b[0;36mTensor.backward\u001b[0;34m(self, gradient, retain_graph, create_graph, inputs)\u001b[0m\n\u001b[1;32m    482\u001b[0m \u001b[38;5;28;01mif\u001b[39;00m has_torch_function_unary(\u001b[38;5;28mself\u001b[39m):\n\u001b[1;32m    483\u001b[0m     \u001b[38;5;28;01mreturn\u001b[39;00m handle_torch_function(\n\u001b[1;32m    484\u001b[0m         Tensor\u001b[38;5;241m.\u001b[39mbackward,\n\u001b[1;32m    485\u001b[0m         (\u001b[38;5;28mself\u001b[39m,),\n\u001b[0;32m   (...)\u001b[0m\n\u001b[1;32m    490\u001b[0m         inputs\u001b[38;5;241m=\u001b[39minputs,\n\u001b[1;32m    491\u001b[0m     )\n\u001b[0;32m--> 492\u001b[0m torch\u001b[38;5;241m.\u001b[39mautograd\u001b[38;5;241m.\u001b[39mbackward(\n\u001b[1;32m    493\u001b[0m     \u001b[38;5;28mself\u001b[39m, gradient, retain_graph, create_graph, inputs\u001b[38;5;241m=\u001b[39minputs\n\u001b[1;32m    494\u001b[0m )\n",
      "File \u001b[0;32m~/anaconda3/envs/thesis/lib/python3.11/site-packages/torch/autograd/__init__.py:251\u001b[0m, in \u001b[0;36mbackward\u001b[0;34m(tensors, grad_tensors, retain_graph, create_graph, grad_variables, inputs)\u001b[0m\n\u001b[1;32m    246\u001b[0m     retain_graph \u001b[38;5;241m=\u001b[39m create_graph\n\u001b[1;32m    248\u001b[0m \u001b[38;5;66;03m# The reason we repeat the same comment below is that\u001b[39;00m\n\u001b[1;32m    249\u001b[0m \u001b[38;5;66;03m# some Python versions print out the first line of a multi-line function\u001b[39;00m\n\u001b[1;32m    250\u001b[0m \u001b[38;5;66;03m# calls in the traceback and some print out the last line\u001b[39;00m\n\u001b[0;32m--> 251\u001b[0m Variable\u001b[38;5;241m.\u001b[39m_execution_engine\u001b[38;5;241m.\u001b[39mrun_backward(  \u001b[38;5;66;03m# Calls into the C++ engine to run the backward pass\u001b[39;00m\n\u001b[1;32m    252\u001b[0m     tensors,\n\u001b[1;32m    253\u001b[0m     grad_tensors_,\n\u001b[1;32m    254\u001b[0m     retain_graph,\n\u001b[1;32m    255\u001b[0m     create_graph,\n\u001b[1;32m    256\u001b[0m     inputs,\n\u001b[1;32m    257\u001b[0m     allow_unreachable\u001b[38;5;241m=\u001b[39m\u001b[38;5;28;01mTrue\u001b[39;00m,\n\u001b[1;32m    258\u001b[0m     accumulate_grad\u001b[38;5;241m=\u001b[39m\u001b[38;5;28;01mTrue\u001b[39;00m,\n\u001b[1;32m    259\u001b[0m )\n",
      "\u001b[0;31mKeyboardInterrupt\u001b[0m: "
     ]
    }
   ],
   "source": [
    "model = ShiftPredictionModel(p_init_coeffs=p_coefficients_init)\n",
    "model.to(torch.float64)\n",
    "\n",
    "optimizer = optim.Adam(model.parameters(), lr=0.01)\n",
    "#optimizer = optim.SGD(model.parameters(), lr=0.001)\n",
    "\n",
    "#scheduler = torch.optim.lr_scheduler.StepLR(optimizer, step_size=30, gamma=0.1)\n",
    "\n",
    "# Training the model\n",
    "epochs = 1000\n",
    "for epoch in range(epochs):\n",
    "    model.train()\n",
    "    optimizer.zero_grad()\n",
    "    y_pred_pol = model(t_values_tensor) # model give a shift vector (for degree 2: (y=a1*t+a0))\n",
    "    p_coefficients = torch.tensor([p.item() for p in model.p_coefficients]) # get coefficients for the visualisation\n",
    "    TQ = spline_interpolator.forward(qs_shifted.double(), -y_pred_pol.double()) # calculate T^-1(Q)\n",
    "    loss = NuclearNormAutograd.apply(TQ)\n",
    "    #loss = torch.norm(TQ - qs, 'fro')**2 # calculate ||T^-1(Q) - Q1||\n",
    "    #loss = criterion(y_pred_pol, torch.tensor(shifted_t_values))\n",
    "    \n",
    "    loss.backward(retain_graph=True)\n",
    "\n",
    "    optimizer.step()\n",
    "    \n",
    "    #scheduler.step()\n",
    "            \n",
    "    if epoch % 100 == 0:\n",
    "        print(f'Epoch [{epoch}/{epochs}], Loss: {loss.item():.4f},Coefficients:{[coefficients1[::-1][i] for i in range(len(coefficients1))]}{p_coefficients}')\n",
    "\n",
    "print(f\"Model training complete.\")"
   ]
  },
  {
   "cell_type": "code",
   "execution_count": 67,
   "id": "14409225-7515-440d-8a9c-2e266c1972bb",
   "metadata": {},
   "outputs": [
    {
     "data": {
      "text/plain": [
       "Text(0.5, 1.0, 'Shifted Snapshot with initial shift T^-1(Q)')"
      ]
     },
     "execution_count": 67,
     "metadata": {},
     "output_type": "execute_result"
    },
    {
     "data": {
      "image/png": "[encoded data removed]",
      "text/plain": [
       "<Figure size 1440x432 with 4 Axes>"
      ]
     },
     "metadata": {
      "needs_background": "light"
     },
     "output_type": "display_data"
    }
   ],
   "source": [
    "# Plotting\n",
    "fig, ax = plt.subplots(1, 4, figsize=(20, 6))\n",
    "\n",
    "# Without shift\n",
    "ax[0].imshow(qs_shifted.detach().numpy(), cmap='hot', interpolation='nearest', aspect='auto')\n",
    "ax[0].set_title('Snapshot with shift Q')\n",
    "\n",
    "# With shift\n",
    "ax[1].imshow(TQ.detach().numpy(), cmap='hot', interpolation='nearest', aspect='auto')\n",
    "ax[1].set_title('Snapshot after training')\n",
    "\n",
    "# With initial shift\n",
    "initial_cs = torch.tensor(np.polyval(p_coefficients_init,t_values), requires_grad=True)\n",
    "qs_initial_shift = spline_interpolator.forward(qs.double(), initial_cs.double())\n",
    "ax[2].imshow(qs_initial_shift.detach().numpy(), cmap='hot', interpolation='nearest', aspect='auto')\n",
    "ax[2].set_title('Snapshot with initial shift Q_init')\n",
    "\n",
    "# With initial shift\n",
    "qs_shifted_initial_shift = spline_interpolator.forward(qs_shifted.double(), -initial_cs.double())\n",
    "ax[3].imshow(qs_shifted_initial_shift.detach().numpy(), cmap='hot', interpolation='nearest', aspect='auto')\n",
    "ax[3].set_title('Shifted Snapshot with initial shift T^-1(Q)')"
   ]
  },
  {
   "cell_type": "code",
   "execution_count": 68,
   "id": "bcdcc268-f96c-4231-9998-d4564517c496",
   "metadata": {},
   "outputs": [
    {
     "data": {
      "text/plain": [
       "tensor(-0.2125, dtype=torch.float64, grad_fn=<SubBackward0>)"
      ]
     },
     "execution_count": 68,
     "metadata": {},
     "output_type": "execute_result"
    }
   ],
   "source": [
    "NuclearNormAutograd.apply(qs) - loss"
   ]
  },
  {
   "cell_type": "markdown",
   "id": "f04cc795-46e0-4e06-a952-34cd2b0a26e1",
   "metadata": {},
   "source": [
    "# Visualisation"
   ]
  },
  {
   "cell_type": "code",
   "execution_count": 69,
   "id": "1d513ee9-d6e7-4582-80b1-79da28cc0b77",
   "metadata": {},
   "outputs": [
    {
     "data": {
      "image/png": "[encoded data removed]",
      "text/plain": [
       "<Figure size 432x288 with 2 Axes>"
      ]
     },
     "metadata": {
      "needs_background": "light"
     },
     "output_type": "display_data"
    }
   ],
   "source": [
    "center_of_matrix = 20\n",
    "\n",
    "shift_vector_initial = center_of_matrix + initial_cs.detach().numpy()\n",
    "x_values = np.arange(cols)\n",
    "shift_vector_after_training = center_of_matrix + np.polyval(p_coefficients.detach().numpy()[::-1],t_values)\n",
    "\n",
    "plt.pcolor(qs_shifted.detach().numpy(), shading='auto')\n",
    "plt.colorbar()\n",
    "plt.plot(x_values, shift_vector_initial, 'w-', linewidth=2)\n",
    "plt.plot(x_values, shift_vector_after_training, 'r--', linewidth=2)\n",
    "\n",
    "plt.title('Snapshot matrix with path')\n",
    "plt.xlabel('t')\n",
    "plt.ylabel('x')\n",
    "plt.show()"
   ]
  },
  {
   "cell_type": "code",
   "execution_count": null,
   "id": "bf618784-d1ad-450e-bb17-ad4866c7b797",
   "metadata": {},
   "outputs": [],
   "source": []
  },
  {
   "cell_type": "code",
   "execution_count": null,
   "id": "006e72d0-dea9-460c-9ea7-8a285c928dde",
   "metadata": {},
   "outputs": [],
   "source": []
  }
 ],
 "metadata": {
  "kernelspec": {
   "display_name": "Python 3 (ipykernel)",
   "language": "python",
   "name": "python3"
  },
  "language_info": {
   "codemirror_mode": {
    "name": "ipython",
    "version": 3
   },
   "file_extension": ".py",
   "mimetype": "text/x-python",
   "name": "python",
   "nbconvert_exporter": "python",
   "pygments_lexer": "ipython3",
   "version": "3.11.2"
  }
 },
 "nbformat": 4,
 "nbformat_minor": 5
}
