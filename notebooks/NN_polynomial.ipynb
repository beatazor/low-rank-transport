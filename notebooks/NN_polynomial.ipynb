{
 "cells": [
  {
   "cell_type": "code",
   "execution_count": 14,
   "id": "6963bf93-a774-4b7f-b0b4-1ee1ca85e16b",
   "metadata": {},
   "outputs": [],
   "source": [
    "import torch\n",
    "import torch.nn as nn\n",
    "import torch.nn.functional as F\n",
    "from torch.utils.data import Dataset, DataLoader, TensorDataset\n",
    "import torch.optim as optim\n",
    "from sklearn.preprocessing import PolynomialFeatures\n",
    "from torch.autograd import Variable\n",
    "import numpy as np\n",
    "from sklearn.model_selection import train_test_split\n",
    "from torch.utils.data import random_split\n",
    "import math\n",
    "import matplotlib.pyplot as plt\n",
    "from sklearn.preprocessing import StandardScaler"
   ]
  },
  {
   "cell_type": "markdown",
   "id": "ad91d999-b9a0-4eb1-87a5-f83d4a535ff3",
   "metadata": {},
   "source": [
    "## Create data"
   ]
  },
  {
   "cell_type": "code",
   "execution_count": 15,
   "id": "c1a73b5f-aef7-46e2-84b0-580987b2caa4",
   "metadata": {},
   "outputs": [],
   "source": [
    "# Gaussian function\n",
    "def gaussian(x, mu, sigma=1.0):\n",
    "    return np.exp(-np.power(x - mu, 2.0) / (2 * np.power(sigma, 2.0)))\n",
    "\n",
    "def create_gaussian_polynomial_time_matrix(poly_func, rows=500, cols=50, sigma=1.0):\n",
    "    matrix = np.zeros((rows, cols))\n",
    "    \n",
    "    t_values = np.linspace(-10, 10, cols)\n",
    "    shift_values = poly_func(t_values)\n",
    "    \n",
    "    for col, delta in enumerate(shift_values):\n",
    "        for i in range(rows):\n",
    "            matrix[i, col] += gaussian(i, rows / 2 - delta, sigma)\n",
    "\n",
    "    matrix /= np.max(matrix)\n",
    "    \n",
    "    return matrix\n",
    "\n",
    "def generate_random_polynomial(degree, seed_number=None):\n",
    "    np.random.seed(seed_number)\n",
    "    coefficients = np.random.uniform(-10, 10, degree+1)\n",
    "    polynomial = np.poly1d(coefficients)\n",
    "    return polynomial"
   ]
  },
  {
   "cell_type": "code",
   "execution_count": 16,
   "id": "9784ddd8-ffc5-40a7-9129-6489bebf2b26",
   "metadata": {},
   "outputs": [],
   "source": [
    "rows, cols, sigma = 500, 50, 5.0\n",
    "degree = 2"
   ]
  },
  {
   "cell_type": "code",
   "execution_count": 17,
   "id": "25c5fa58-4e90-4ae9-90a0-895c1d14ecfa",
   "metadata": {},
   "outputs": [
    {
     "data": {
      "image/png": "[encoded data removed]",
      "text/plain": [
       "<Figure size 864x432 with 2 Axes>"
      ]
     },
     "metadata": {
      "needs_background": "light"
     },
     "output_type": "display_data"
    }
   ],
   "source": [
    "shift_polynom = generate_random_polynomial(2, seed_number=3)\n",
    "Q_with_shift = create_gaussian_polynomial_time_matrix(shift_polynom, rows, cols, sigma)\n",
    "Q_without_shift = create_gaussian_polynomial_time_matrix(lambda x: np.zeros_like(x, dtype=float), rows, cols, sigma)\n",
    "\n",
    "# Plotting\n",
    "fig, ax = plt.subplots(1, 2, figsize=(12, 6))\n",
    "\n",
    "# Without shift\n",
    "ax[0].imshow(Q_without_shift, cmap='hot', interpolation='nearest', aspect='auto')\n",
    "ax[0].set_title('Gaussian Distribution Without Shift (Snapshot)')\n",
    "\n",
    "# With shift\n",
    "ax[1].imshow(Q_with_shift, cmap='hot', interpolation='nearest', aspect='auto')\n",
    "ax[1].set_title('Gaussian Distribution With Polynomial Shift (Snapshot)')\n",
    "\n",
    "plt.show()"
   ]
  },
  {
   "cell_type": "markdown",
   "id": "d524d968-571f-4340-af0c-9f9f62d63fb7",
   "metadata": {},
   "source": [
    "## Split the data"
   ]
  },
  {
   "cell_type": "code",
   "execution_count": 18,
   "id": "38bc2877-050b-41a1-a797-daed21b6c9eb",
   "metadata": {},
   "outputs": [
    {
     "name": "stdout",
     "output_type": "stream",
     "text": [
      "(500, 40) (500, 40) (500, 10) (500, 10)\n"
     ]
    }
   ],
   "source": [
    "indices = np.arange(cols)\n",
    "np.random.seed(42)\n",
    "np.random.shuffle(indices)\n",
    "train_ratio = 0.8\n",
    "train_size = int(cols * train_ratio)\n",
    "test_size = cols - train_size\n",
    "train_indices = indices[:train_size]\n",
    "test_indices = indices[train_size:]\n",
    "train_indices = np.sort(train_indices)\n",
    "test_indices = np.sort(test_indices)\n",
    "X_train, X_test = Q_without_shift[:, train_indices], Q_without_shift[:, test_indices]\n",
    "y_train, y_test = Q_with_shift[:, train_indices], Q_with_shift[:, test_indices]\n",
    "\n",
    "print(X_train.shape, y_train.shape, X_test.shape, y_test.shape)"
   ]
  },
  {
   "cell_type": "code",
   "execution_count": 31,
   "id": "12a7e6df-59bf-4d3e-a7d6-67db8eeb3079",
   "metadata": {
    "tags": []
   },
   "outputs": [],
   "source": [
    "# Create x^0,x^1,x^2,.. columns\n",
    "x_train_flat = X_train.flatten()\n",
    "X_train_poly = np.zeros((x_train_flat.shape[0],degree+1))\n",
    "for i in range(x_train_flat.shape[0]):\n",
    "    X_train_poly[i,0] = 1\n",
    "    for j in range(1,degree+1):\n",
    "        X_train_poly[i,j] = pow(x_train_flat[i],j)"
   ]
  },
  {
   "cell_type": "code",
   "execution_count": 32,
   "id": "4a9e0bac-0bdb-4b43-9e40-c000856d43c0",
   "metadata": {},
   "outputs": [],
   "source": [
    "# Create x^0,x^1,x^2,.. columns\n",
    "x_test_flat = X_test.flatten()\n",
    "X_test_poly = np.zeros((x_test_flat.shape[0],degree+1))\n",
    "for i in range(x_test_flat.shape[0]):\n",
    "    X_test_poly[i,0] = 1\n",
    "    for j in range(1,degree+1):\n",
    "        X_test_poly[i,j] = pow(x_test_flat[i],j)"
   ]
  },
  {
   "cell_type": "code",
   "execution_count": 33,
   "id": "0c450e5a-b229-4019-8662-640b3e9877ab",
   "metadata": {},
   "outputs": [],
   "source": [
    "X_train_tensor = torch.tensor(X_train_poly, dtype=torch.float32)\n",
    "y_train_tensor = torch.tensor(y_train.reshape(-1,1), dtype=torch.float32)\n",
    "X_test_tensor = torch.tensor(X_test_poly, dtype=torch.float32)\n",
    "y_test_tensor = torch.tensor(y_test.reshape(-1,1), dtype=torch.float32)"
   ]
  },
  {
   "cell_type": "code",
   "execution_count": 23,
   "id": "d1d219c2-856c-4f1f-8f57-da164b44cc9c",
   "metadata": {},
   "outputs": [],
   "source": [
    "#X_train_tensor = torch.tensor(X_train.transpose(), dtype=torch.float32)\n",
    "#y_train_tensor = torch.tensor(y_train.transpose(), dtype=torch.float32)\n",
    "#X_test_tensor = torch.tensor(X_test.transpose(), dtype=torch.float32)\n",
    "#y_test_tensor = torch.tensor(y_test.transpose(), dtype=torch.float32)"
   ]
  },
  {
   "cell_type": "code",
   "execution_count": 34,
   "id": "288ed9cf-5ddd-4f38-aa3f-77ca64585bb2",
   "metadata": {},
   "outputs": [
    {
     "data": {
      "image/png": "[encoded data removed]",
      "text/plain": [
       "<Figure size 864x432 with 2 Axes>"
      ]
     },
     "metadata": {
      "needs_background": "light"
     },
     "output_type": "display_data"
    }
   ],
   "source": [
    "# Plotting\n",
    "fig, ax = plt.subplots(1, 2, figsize=(12, 6))\n",
    "\n",
    "# Without shift\n",
    "ax[0].imshow(X_train, cmap='hot', interpolation='nearest', aspect='auto')\n",
    "ax[0].set_title('X_train')\n",
    "\n",
    "# With shift\n",
    "ax[1].imshow(y_train, cmap='hot', interpolation='nearest', aspect='auto')\n",
    "ax[1].set_title('y_train')\n",
    "\n",
    "plt.show()"
   ]
  },
  {
   "cell_type": "code",
   "execution_count": 35,
   "id": "ef217f9f-d528-4046-b3cc-34fac2c3cdaa",
   "metadata": {},
   "outputs": [
    {
     "data": {
      "image/png": "[encoded data removed]",
      "text/plain": [
       "<Figure size 864x432 with 2 Axes>"
      ]
     },
     "metadata": {
      "needs_background": "light"
     },
     "output_type": "display_data"
    }
   ],
   "source": [
    "# Plotting\n",
    "fig, ax = plt.subplots(1, 2, figsize=(12, 6))\n",
    "\n",
    "# Without shift\n",
    "ax[0].imshow(X_test, cmap='hot', interpolation='nearest', aspect='auto')\n",
    "ax[0].set_title('X_test')\n",
    "\n",
    "# With shift\n",
    "ax[1].imshow(y_test, cmap='hot', interpolation='nearest', aspect='auto')\n",
    "ax[1].set_title('y_test')\n",
    "\n",
    "plt.show()"
   ]
  },
  {
   "cell_type": "markdown",
   "id": "61b247b7-cbba-4c30-b855-81a42378ac90",
   "metadata": {},
   "source": [
    "## Define a model"
   ]
  },
  {
   "cell_type": "code",
   "execution_count": 36,
   "id": "256362c0-b457-41a9-8a04-b16d879e3d0a",
   "metadata": {},
   "outputs": [
    {
     "data": {
      "text/plain": [
       "ShiftPredictionModel(\n",
       "  (a_coefficients): ParameterList(\n",
       "      (0): Parameter containing: [torch.float32 of size 1]\n",
       "      (1): Parameter containing: [torch.float32 of size 1]\n",
       "      (2): Parameter containing: [torch.float32 of size 1]\n",
       "  )\n",
       ")"
      ]
     },
     "execution_count": 36,
     "metadata": {},
     "output_type": "execute_result"
    }
   ],
   "source": [
    "class ShiftPredictionModel(nn.Module):\n",
    "    def __init__(self, degree1, degree2, type_NN):\n",
    "        super(ShiftPredictionModel, self).__init__()\n",
    "        self.a_coefficients = nn.ParameterList(\n",
    "            [nn.Parameter(torch.randn(1, requires_grad=True, dtype=torch.float32)) for _ in range(degree1+1)]\n",
    "        )\n",
    "        #self.b_coefficients = nn.ParameterList(\n",
    "        #    [nn.Parameter(torch.randn(1, requires_grad=True, dtype=torch.float32)) for _ in range(degree2)]\n",
    "        #)\n",
    "        self.type_NN = type_NN\n",
    "    \n",
    "    def forward_pol(self,t):\n",
    "        return sum([coeff * t**i for i, coeff in enumerate(self.a_coefficients)])\n",
    "    \n",
    "    def forward_rat(self,t):\n",
    "        return self.forward_pol(t)/sum([coeff * t**i for i, coeff in enumerate(self.b_coefficients)])\n",
    "\n",
    "    def forward_activ(self, t):\n",
    "        return F.relu(t)\n",
    "    \n",
    "    def forward(self, t):\n",
    "        if self.type_NN == \"polynomial\":\n",
    "            output = self.forward_pol(t)\n",
    "        elif self.type_NN == \"rational\":\n",
    "            output = self.forward_rat(x)\n",
    "            \n",
    "        return output\n",
    "\n",
    "# Initialize the network\n",
    "model = ShiftPredictionModel(degree1=degree,degree2=0,type_NN=\"polynomial\")\n",
    "model.to(torch.float32)"
   ]
  },
  {
   "cell_type": "markdown",
   "id": "c4423ec2-3092-46eb-b5a3-268aca0045a4",
   "metadata": {
    "tags": []
   },
   "source": [
    "## Train"
   ]
  },
  {
   "cell_type": "code",
   "execution_count": 37,
   "id": "ea86aaa2-a9c4-4358-b859-0a5471b2495e",
   "metadata": {},
   "outputs": [],
   "source": [
    "def total_variation(shift):\n",
    "    return torch.sum(torch.abs(shift[..., 1:] - shift[..., :-1]))"
   ]
  },
  {
   "cell_type": "code",
   "execution_count": 38,
   "id": "ca47cab3-bd7e-4cdc-a1f3-2806acc2eca7",
   "metadata": {},
   "outputs": [],
   "source": [
    "def calculate_loss(true_t,predicted_t,coefficients):\n",
    "    predicted_shift = predicted_t @ coefficients\n",
    "    return torch.max(torch.abs(true_t - predicted_t))"
   ]
  },
  {
   "cell_type": "code",
   "execution_count": 39,
   "id": "cac1b2eb-e802-4b2a-b5d6-e2223d36de89",
   "metadata": {
    "tags": []
   },
   "outputs": [
    {
     "name": "stdout",
     "output_type": "stream",
     "text": [
      "Epoch [0/2000], Loss: 6811.8604, Test Loss: 1704.7862, Coefficients:[-4.181905221741113, 4.162956452362096, 1.0159580514915092]tensor([ 2.3140,  1.9965, -1.2985])\n",
      "Epoch [100/2000], Loss: 6617.3687, Test Loss: 1656.1475, Coefficients:[-4.181905221741113, 4.162956452362096, 1.0159580514915092]tensor([ 2.3040,  1.9865, -1.3085])\n",
      "Epoch [200/2000], Loss: 6422.8394, Test Loss: 1607.4972, Coefficients:[-4.181905221741113, 4.162956452362096, 1.0159580514915092]tensor([ 2.2940,  1.9765, -1.3185])\n",
      "Epoch [300/2000], Loss: 6228.9165, Test Loss: 1559.0064, Coefficients:[-4.181905221741113, 4.162956452362096, 1.0159580514915092]tensor([ 2.2840,  1.9665, -1.3285])\n",
      "Epoch [400/2000], Loss: 6036.2119, Test Loss: 1510.8134, Coefficients:[-4.181905221741113, 4.162956452362096, 1.0159580514915092]tensor([ 2.2740,  1.9566, -1.3385])\n",
      "Epoch [500/2000], Loss: 5843.2837, Test Loss: 1462.5627, Coefficients:[-4.181905221741113, 4.162956452362096, 1.0159580514915092]tensor([ 2.2640,  1.9466, -1.3484])\n",
      "Epoch [600/2000], Loss: 5650.2671, Test Loss: 1414.2923, Coefficients:[-4.181905221741113, 4.162956452362096, 1.0159580514915092]tensor([ 2.2540,  1.9366, -1.3584])\n",
      "Epoch [700/2000], Loss: 5457.1099, Test Loss: 1365.9848, Coefficients:[-4.181905221741113, 4.162956452362096, 1.0159580514915092]tensor([ 2.2440,  1.9266, -1.3684])\n",
      "Epoch [800/2000], Loss: 5263.9438, Test Loss: 1317.6779, Coefficients:[-4.181905221741113, 4.162956452362096, 1.0159580514915092]tensor([ 2.2341,  1.9166, -1.3784])\n",
      "Epoch [900/2000], Loss: 5070.8618, Test Loss: 1269.3951, Coefficients:[-4.181905221741113, 4.162956452362096, 1.0159580514915092]tensor([ 2.2241,  1.9067, -1.3883])\n",
      "Epoch [1000/2000], Loss: 4879.8257, Test Loss: 1221.6209, Coefficients:[-4.181905221741113, 4.162956452362096, 1.0159580514915092]tensor([ 2.2141,  1.8967, -1.3983])\n",
      "Epoch [1100/2000], Loss: 4688.6143, Test Loss: 1173.8008, Coefficients:[-4.181905221741113, 4.162956452362096, 1.0159580514915092]tensor([ 2.2041,  1.8868, -1.4082])\n",
      "Epoch [1200/2000], Loss: 4497.2749, Test Loss: 1125.9497, Coefficients:[-4.181905221741113, 4.162956452362096, 1.0159580514915092]tensor([ 2.1941,  1.8768, -1.4182])\n",
      "Epoch [1300/2000], Loss: 4305.7642, Test Loss: 1078.0568, Coefficients:[-4.181905221741113, 4.162956452362096, 1.0159580514915092]tensor([ 2.1841,  1.8668, -1.4281])\n",
      "Epoch [1400/2000], Loss: 4114.2500, Test Loss: 1030.1625, Coefficients:[-4.181905221741113, 4.162956452362096, 1.0159580514915092]tensor([ 2.1741,  1.8569, -1.4381])\n",
      "Epoch [1500/2000], Loss: 3922.8625, Test Loss: 982.3060, Coefficients:[-4.181905221741113, 4.162956452362096, 1.0159580514915092]tensor([ 2.1641,  1.8469, -1.4480])\n",
      "Epoch [1600/2000], Loss: 3733.6299, Test Loss: 934.9836, Coefficients:[-4.181905221741113, 4.162956452362096, 1.0159580514915092]tensor([ 2.1541,  1.8370, -1.4579])\n",
      "Epoch [1700/2000], Loss: 3544.5483, Test Loss: 887.6990, Coefficients:[-4.181905221741113, 4.162956452362096, 1.0159580514915092]tensor([ 2.1441,  1.8271, -1.4678])\n",
      "Epoch [1800/2000], Loss: 3355.6101, Test Loss: 840.4493, Coefficients:[-4.181905221741113, 4.162956452362096, 1.0159580514915092]tensor([ 2.1342,  1.8171, -1.4777])\n",
      "Epoch [1900/2000], Loss: 3166.5056, Test Loss: 793.1578, Coefficients:[-4.181905221741113, 4.162956452362096, 1.0159580514915092]tensor([ 2.1242,  1.8072, -1.4876])\n"
     ]
    }
   ],
   "source": [
    "optimizer = optim.Adam(model.parameters(), lr=0.0001)\n",
    "num_epochs = 2000\n",
    "for epoch in range(num_epochs):\n",
    "    \n",
    "    model.train()\n",
    "    optimizer.zero_grad()\n",
    "    predictions = model(X_train_tensor)\n",
    "    a_coefficients_train = torch.tensor([p.item() for p in model.a_coefficients])\n",
    "    prediction_loss = calculate_loss(y_train_tensor,predictions,a_coefficients_train)\n",
    "    tv_loss=total_variation(predictions)\n",
    "    loss = prediction_loss + 0.5 * tv_loss\n",
    "\n",
    "    loss.backward()\n",
    "    optimizer.step()\n",
    "        \n",
    "    # Evaluation\n",
    "    model.eval()\n",
    "    with torch.no_grad():\n",
    "        predictions_test = model(X_test_tensor)\n",
    "        a_coefficients_test = torch.tensor([p.item() for p in model.a_coefficients])\n",
    "        prediction_test_loss = calculate_loss(y_test_tensor,predictions_test,a_coefficients_test).item()\n",
    "        tv_test_loss = total_variation(predictions_test).item()\n",
    "        test_loss = prediction_test_loss + 0.5 * tv_test_loss\n",
    "        if epoch % 100 == 0:\n",
    "            #a_coefficients = [p.item() for p in model.a_coefficients]  # Extract coefficients\n",
    "            print(f'Epoch [{epoch}/{num_epochs}], Loss: {loss.item():.4f}, Test Loss: {test_loss:.4f}, Coefficients:{[shift_polynom[i] for i in range(len(shift_polynom)+1)]}{a_coefficients_train}')\n"
   ]
  },
  {
   "cell_type": "markdown",
   "id": "c93753db-ed52-4e06-a2c1-372e0b4d9966",
   "metadata": {},
   "source": [
    "## Evaluation"
   ]
  },
  {
   "cell_type": "code",
   "execution_count": 40,
   "id": "a0e5893f-7c12-4bb7-84b1-ca46e7c375a2",
   "metadata": {},
   "outputs": [
    {
     "data": {
      "image/png": "[encoded data removed]",
      "text/plain": [
       "<Figure size 864x432 with 2 Axes>"
      ]
     },
     "metadata": {
      "needs_background": "light"
     },
     "output_type": "display_data"
    }
   ],
   "source": [
    "y_predicted = (predictions_test@a_coefficients_test).numpy().reshape(500,10)\n",
    "\n",
    "fig, ax = plt.subplots(1, 2, figsize=(12, 6))\n",
    "\n",
    "# Without shift\n",
    "ax[0].imshow(y_test, cmap='hot', interpolation='nearest', aspect='auto')\n",
    "ax[0].set_title('True data')\n",
    "\n",
    "# With shift\n",
    "ax[1].imshow(y_predicted, cmap='hot', interpolation='nearest', aspect='auto')\n",
    "ax[1].set_title('Predicted')\n",
    "\n",
    "plt.show()"
   ]
  },
  {
   "cell_type": "code",
   "execution_count": null,
   "id": "6f7f47a0-4999-49dc-a6e6-c99a4f64cd85",
   "metadata": {},
   "outputs": [],
   "source": []
  }
 ],
 "metadata": {
  "kernelspec": {
   "display_name": "Python 3 (ipykernel)",
   "language": "python",
   "name": "python3"
  },
  "language_info": {
   "codemirror_mode": {
    "name": "ipython",
    "version": 3
   },
   "file_extension": ".py",
   "mimetype": "text/x-python",
   "name": "python",
   "nbconvert_exporter": "python",
   "pygments_lexer": "ipython3",
   "version": "3.11.2"
  }
 },
 "nbformat": 4,
 "nbformat_minor": 5
}
