{
 "cells": [
  {
   "cell_type": "code",
   "execution_count": 1,
   "id": "6963bf93-a774-4b7f-b0b4-1ee1ca85e16b",
   "metadata": {},
   "outputs": [],
   "source": [
    "import torch\n",
    "import torch.nn as nn\n",
    "import torch.nn.functional as F\n",
    "import torch.optim as optim\n",
    "from torch.utils.data import TensorDataset, DataLoader\n",
    "from torch.autograd import gradcheck\n",
    "import numpy as np\n",
    "import matplotlib.pyplot as plt\n",
    "from scipy.ndimage import shift\n",
    "from math import sqrt\n",
    "from scipy.sparse import diags\n",
    "from scipy.linalg import cholesky"
   ]
  },
  {
   "cell_type": "markdown",
   "id": "ad91d999-b9a0-4eb1-87a5-f83d4a535ff3",
   "metadata": {},
   "source": [
    "## Create MATRIX data"
   ]
  },
  {
   "cell_type": "code",
   "execution_count": 2,
   "id": "9784ddd8-ffc5-40a7-9129-6489bebf2b26",
   "metadata": {},
   "outputs": [],
   "source": [
    "Nx, Nt, sigma = 250, 100, 5.0\n",
    "coefficients1 = [-3,5] #[2,-1,-1]\n",
    "coefficients2 = [0.1,0,0.8,-1.5] # of the shift polynomial\n",
    "coefficients3 = [0.03,0.06,-2,-1,1]\n",
    "center_of_matrix1 = 20\n",
    "center_of_matrix2 = Nx//2\n",
    "center_of_matrix3 = 50"
   ]
  },
  {
   "cell_type": "code",
   "execution_count": 3,
   "id": "16fa4e08-6af1-4be7-afdf-342abbd873b6",
   "metadata": {},
   "outputs": [],
   "source": [
    "def generate_data(Nx, Nt, center_of_matrix, coefficients):\n",
    "    sigma = 5.0\n",
    "    x = np.arange(0, Nx)\n",
    "    t = np.linspace(-10, 10, Nt)\n",
    "    [X, T] = np.meshgrid(x, t)\n",
    "    X = X.T\n",
    "    T = T.T    \n",
    "\n",
    "    def gaussian(x, mu, sigma=1.0):\n",
    "        return np.exp(-np.power(x - mu, 2.0) / (2 * np.power(sigma, 2.0)))\n",
    "\n",
    "    Q = np.zeros_like(X, dtype=np.float64)\n",
    "    shift1 = np.polyval(coefficients, t)\n",
    "    for col in range(Nt):\n",
    "        for row in range(Nx):\n",
    "            Q[row, col] = gaussian(row, center_of_matrix + shift1[col], sigma)\n",
    "    Q /= np.max(Q)\n",
    "    \n",
    "    return Q, x, t"
   ]
  },
  {
   "cell_type": "code",
   "execution_count": 4,
   "id": "d97099bc-9e3e-4705-b76a-83fa0a616335",
   "metadata": {},
   "outputs": [],
   "source": [
    "Q, x, t = generate_data(Nx, Nt, center_of_matrix2, coefficients1)"
   ]
  },
  {
   "cell_type": "code",
   "execution_count": 5,
   "id": "63195002-a623-4495-9b5f-d3aaccc08f42",
   "metadata": {
    "tags": []
   },
   "outputs": [
    {
     "data": {
      "text/plain": [
       "Text(0.5, 1.0, 'Snapshot Matrix with shift')"
      ]
     },
     "execution_count": 5,
     "metadata": {},
     "output_type": "execute_result"
    },
    {
     "data": {
      "image/png": "[encoded data removed]",
      "text/plain": [
       "<Figure size 432x432 with 1 Axes>"
      ]
     },
     "metadata": {
      "needs_background": "light"
     },
     "output_type": "display_data"
    }
   ],
   "source": [
    "# Plotting\n",
    "fig, ax = plt.subplots(figsize=(6, 6))\n",
    "\n",
    "# Without shift\n",
    "ax.imshow(Q, cmap='hot', interpolation='nearest', aspect='auto')\n",
    "ax.set_title('Snapshot Matrix with shift')"
   ]
  },
  {
   "cell_type": "markdown",
   "id": "fa9deb0f-c6ed-4cfc-a618-34dcd83258d6",
   "metadata": {},
   "source": [
    "## Define a model"
   ]
  },
  {
   "cell_type": "code",
   "execution_count": 6,
   "id": "2b74b842-78b7-4999-94ba-e97cfa1c97cb",
   "metadata": {},
   "outputs": [],
   "source": [
    "class ShiftLearningNetwork(nn.Module):\n",
    "    def __init__(self, input_size, hidden_size, output_size):\n",
    "        super(ShiftLearningNetwork, self).__init__()\n",
    "        self.fc1 = nn.Linear(input_size, hidden_size)\n",
    "        self.elu1 = nn.ELU()\n",
    "        self.fc2 = nn.Linear(hidden_size, hidden_size)\n",
    "        self.elu2 = nn.ELU()\n",
    "        self.fc3 = nn.Linear(hidden_size, output_size)\n",
    "        \n",
    "    def forward(self, t):\n",
    "        hidden = self.elu1(self.fc1(t))\n",
    "        hidden = self.elu2(self.fc2(hidden))\n",
    "        shift = self.fc3(hidden)\n",
    "        return shift\n",
    "\n",
    "class ShapeLearningNetwork(nn.Module):\n",
    "    def __init__(self, input_size, hidden_size, output_size, center_of_matrix, sigma):\n",
    "        super(ShapeLearningNetwork, self).__init__()\n",
    "        self.center_of_matrix = center_of_matrix\n",
    "        self.sigma = sigma #+ 3 layers ELU ac\n",
    "        self.fc1 = nn.Linear(input_size, hidden_size)\n",
    "        self.elu1 = nn.ELU()\n",
    "        self.fc2 = nn.Linear(hidden_size, hidden_size)\n",
    "        self.elu2 = nn.ELU()\n",
    "        self.fc3 = nn.Linear(hidden_size, hidden_size)\n",
    "        self.elu3 = nn.ELU()\n",
    "        self.fc4 = nn.Linear(hidden_size, hidden_size)\n",
    "        self.elu4 = nn.ELU()\n",
    "        self.fc5 = nn.Linear(hidden_size, output_size)\n",
    "        self.shift_net = ShiftLearningNetwork(input_size=1, hidden_size=hidden_size, output_size=1)\n",
    "\n",
    "        self.fc1.weight.data.normal_(0, sigma)\n",
    "        self.fc1.bias.data.fill_(center_of_matrix)\n",
    "\n",
    "    def forward(self, x, t):\n",
    "        shift = self.shift_net(t)\n",
    "        x_shifted = x - shift\n",
    "        combined_input = torch.cat((x_shifted, t), dim=1)\n",
    "        x = self.elu1(self.fc1(combined_input))\n",
    "        x = self.elu2(self.fc2(x))\n",
    "        x = self.elu3(self.fc3(x))\n",
    "        x = self.elu4(self.fc4(x))\n",
    "        output = self.fc5(x)\n",
    "        return output\n"
   ]
  },
  {
   "cell_type": "markdown",
   "id": "6affd5c3-d2a8-4fc9-bc9f-de394f2096e0",
   "metadata": {},
   "source": [
    "## Train a model"
   ]
  },
  {
   "cell_type": "markdown",
   "id": "80ff5607-710a-486a-9712-0a6f808a9511",
   "metadata": {},
   "source": [
    "Matrix structure as input?"
   ]
  },
  {
   "cell_type": "code",
   "execution_count": 7,
   "id": "93156efa-f566-49d0-ba88-034f28baa17d",
   "metadata": {},
   "outputs": [],
   "source": [
    "Q_tensor = torch.tensor(Q, dtype=torch.float32)\n",
    "x_tensor = torch.tensor(x, dtype=torch.float32).unsqueeze(-1)\n",
    "t_tensor = torch.tensor(t, dtype=torch.float32).unsqueeze(-1)\n",
    "\n",
    "inputs = torch.cat((\n",
    "    x_tensor.repeat(1, len(t)).reshape(-1, 1),\n",
    "    t_tensor.repeat(len(x), 1)\n",
    "), dim=1)\n",
    "\n",
    "dataset = TensorDataset(inputs, Q_tensor.reshape(-1, 1))\n",
    "batch_size = 32\n",
    "dataloader = DataLoader(dataset, batch_size=batch_size, shuffle=True)"
   ]
  },
  {
   "cell_type": "code",
   "execution_count": 8,
   "id": "c677bafd-eb33-48b3-8720-40c31b944981",
   "metadata": {
    "tags": []
   },
   "outputs": [
    {
     "name": "stdout",
     "output_type": "stream",
     "text": [
      "Epoch 1, Loss: 1.8064737042502674\n",
      "Epoch 11, Loss: 0.16530965567302064\n",
      "Epoch 21, Loss: 0.1058305795923771\n",
      "Epoch 31, Loss: 0.0780831849478814\n",
      "Epoch 41, Loss: 0.08464921259468951\n",
      "Epoch 51, Loss: 0.07049789091082685\n",
      "Epoch 61, Loss: 0.06237798117820526\n",
      "Epoch 71, Loss: 0.05506097408287856\n",
      "Epoch 81, Loss: 0.059741379485329815\n"
     ]
    },
    {
     "name": "stderr",
     "output_type": "stream",
     "text": [
      "\n",
      "KeyboardInterrupt\n",
      "\n"
     ]
    }
   ],
   "source": [
    "shape_net = ShapeLearningNetwork(input_size=2, hidden_size=50, output_size=1, center_of_matrix=Nx//2, sigma=5.0)\n",
    "\n",
    "optimizer = optim.Adam(shape_net.parameters(), lr=0.001)\n",
    "\n",
    "epochs = 200\n",
    "\n",
    "for epoch in range(epochs):\n",
    "    running_loss = 0.0\n",
    "    for inputs_batch, targets_batch in dataloader:\n",
    "        optimizer.zero_grad()\n",
    "\n",
    "        x_batch = inputs_batch[:, 0].unsqueeze(-1)\n",
    "        t_batch = inputs_batch[:, 1].unsqueeze(-1)\n",
    "\n",
    "        outputs = shape_net(x_batch, t_batch)\n",
    "\n",
    "        loss = torch.norm(targets_batch-outputs,'fro')\n",
    "\n",
    "        loss.backward()\n",
    "        optimizer.step()\n",
    "\n",
    "        running_loss += loss.item()\n",
    "\n",
    "    if epoch % 10 == 0:\n",
    "        print(f'Epoch {epoch+1}, Loss: {running_loss / len(dataloader)}')\n",
    "        running_loss = 0.0\n",
    "\n",
    "print('Finished Training') "
   ]
  },
  {
   "cell_type": "code",
   "execution_count": 9,
   "id": "ea3feb14-a91e-4745-8317-d09d76bb8068",
   "metadata": {},
   "outputs": [
    {
     "data": {
      "image/png": "[encoded data removed]",
      "text/plain": [
       "<Figure size 432x288 with 2 Axes>"
      ]
     },
     "metadata": {
      "needs_background": "light"
     },
     "output_type": "display_data"
    }
   ],
   "source": [
    "shift_net = ShiftLearningNetwork(input_size=1, hidden_size=100, output_size=1)\n",
    "shape_net.eval()\n",
    "shift_net.eval()\n",
    "\n",
    "all_outputs = []\n",
    "with torch.no_grad():\n",
    "    for inputs_batch, _ in dataloader:\n",
    "        x_batch = inputs_batch[:, 0].unsqueeze(-1)\n",
    "        t_batch = inputs_batch[:, 1].unsqueeze(-1)\n",
    "        shifts = shift_net(t_batch)\n",
    "        shifted_x_batch = x_batch - shifts\n",
    "        outputs = shape_net(shifted_x_batch, t_batch)\n",
    "        all_outputs.append(outputs)\n",
    "\n",
    "all_outputs = torch.cat(all_outputs).view(Nx, Nt)\n",
    "\n",
    "all_outputs_np = all_outputs.numpy()\n",
    "\n",
    "plt.imshow(all_outputs_np, cmap='hot', interpolation='nearest', aspect='auto')\n",
    "plt.colorbar()\n",
    "plt.title('Learned Output Matrix')\n",
    "plt.xlabel('Temporal Dimension')\n",
    "plt.ylabel('Spatial Dimension')\n",
    "plt.show()\n"
   ]
  },
  {
   "cell_type": "code",
   "execution_count": null,
   "id": "856059e1-3e8c-418d-b124-d0f5df55b7d2",
   "metadata": {},
   "outputs": [],
   "source": []
  }
 ],
 "metadata": {
  "kernelspec": {
   "display_name": "Python 3 (ipykernel)",
   "language": "python",
   "name": "python3"
  },
  "language_info": {
   "codemirror_mode": {
    "name": "ipython",
    "version": 3
   },
   "file_extension": ".py",
   "mimetype": "text/x-python",
   "name": "python",
   "nbconvert_exporter": "python",
   "pygments_lexer": "ipython3",
   "version": "3.11.2"
  }
 },
 "nbformat": 4,
 "nbformat_minor": 5
}
